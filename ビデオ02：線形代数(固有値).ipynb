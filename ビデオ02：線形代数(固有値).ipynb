{
 "cells": [
  {
   "cell_type": "markdown",
   "metadata": {},
   "source": [
    "## １．固有値"
   ]
  },
  {
   "cell_type": "markdown",
   "metadata": {},
   "source": [
    "### 1.1．固有値とは(matrix)  \n",
    "固有値とは、ある正方行列Aに対して、”0”でないベクトル($\\vec{x}$)と、右辺の係数λを用いて下記の数式を満たすときに算出することができる。  \n",
    "> ### $A\\vec{x} = \\lambda\\vec{x}$  \n",
    ">> A：正方行列A  \n",
    ">> λ：正方行列Aの固有値  \n",
    ">> $\\vec{x}$：正方行列Aの固有値ベクトル  \n",
    "> <具体例>  \n",
    "> $\n",
    "\\begin{pmatrix}\n",
    "1 & 4\\\\\n",
    "2 & 3 \\end{pmatrix}\n",
    "\\begin{pmatrix}\n",
    "1\\\\ 1 \\end{pmatrix}\n",
    "=\n",
    "\\begin{pmatrix}\n",
    "5\\\\ 5 \\end{pmatrix}\n",
    "=5\n",
    "\\begin{pmatrix}\n",
    "1\\\\ 1 \\end{pmatrix}$\n",
    ">>> 固有値(λ)=5  \n",
    ">>> 固有ベクトル($\\vec{x}$)=$\\begin{pmatrix}1\\\\ 1 \\end{pmatrix}$  \n",
    "\n",
    "＜用語＞  \n",
    "固有値($λ$)：線形変換の際、対角行列となるような基底を探すときに使用される。固有値の値は一定に定まる。  \n",
    "固有ベクトル($\\vec{x}$)：ベクトルを線形変換したとき、定数倍となるようなベクトルのことである。固有ベクトルの値は一定の値が定まるとは限らない。そのため、ある特定の比率すべてを合わせた”$\\begin{pmatrix}\\vec{x^1}\\\\ \\vec{x^2} \\end{pmatrix}$の定数倍”と記述することができる。  \n",
    "\n",
    "\n",
    "\n",
    "\n",
    "### 1.2．固有値の計算方法  \n",
    "> ### $A\\vec{x} = \\lambda\\vec{x}$  \n",
    "\n",
    "上記の数式の右辺にある$\\lambda\\vec{x}$を左辺に移したのちに、分配法則を用いて表現される下記の数式を解くことによって、固有値の値が求められる。※($\\vec{x}≒0$とする場合のみ)   \n",
    "> ### $(A - \\lambda I)\\vec{x} = 0$  \n",
    "\n",
    "\n"
   ]
  },
  {
   "cell_type": "code",
   "execution_count": null,
   "metadata": {},
   "outputs": [],
   "source": []
  },
  {
   "cell_type": "code",
   "execution_count": null,
   "metadata": {},
   "outputs": [],
   "source": []
  },
  {
   "cell_type": "code",
   "execution_count": null,
   "metadata": {},
   "outputs": [],
   "source": []
  },
  {
   "cell_type": "markdown",
   "metadata": {},
   "source": [
    "## 2．固有値分解"
   ]
  },
  {
   "cell_type": "markdown",
   "metadata": {},
   "source": [
    "### 2.1．固有値分解とは(matrix)  \n",
    "固有値分解は、正方行列を複数の行列をある種の掛け算に分解する方法のことである。  \n",
    "はじめに、ある行列Aにおいて固有値λ及び固有ベクトル$\\vec{x}$をそれぞれ定義してみる。  \n",
    "\n",
    "> 対角成分に固有値$(\\lambda)$を並べた正方行列A\n",
    ">> $A = \\begin{pmatrix} \n",
    "\\lambda_{1} & 0 & 0 & \\ldots & 0 \\\\ \n",
    "0 & \\lambda_{2} & 0 & \\ldots & 0 \\\\ \n",
    "0 & 0 & \\lambda_{3} & \\ldots & 0 \\\\\n",
    "\\vdots & \\vdots & \\vdots & \\ddots & \\vdots \\\\ \n",
    "0 & 0 & 0 & \\ldots & \\lambda_{n} \\end{pmatrix}$  \n",
    "\n",
    "> 固有ベクトル($\\vec{x}$)を並べた行列V\n",
    ">> $V = \\begin{pmatrix}\n",
    "\\vec{v_{1}} & \\vec{v_{2}} & \\vec{v_{3}} & \\ldots & \\vec{v_{n-1}} & \\vec{v_{n}} \\end{pmatrix}$  \n",
    "\n",
    "このとき、$A\\vec{V} = \\lambda\\vec{V}$により、下記の数式が成立する。  \n",
    "#### $AV = VA$  \n",
    "\n",
    "> AV = $\\begin{pmatrix} \n",
    "\\lambda_{1} & 0 & 0 & \\ldots & 0 \\\\ \n",
    "0 & \\lambda_{2} & 0 & \\ldots & 0 \\\\ \n",
    "0 & 0 & \\lambda_{3} & \\ldots & 0 \\\\\n",
    "\\vdots & \\vdots & \\vdots & \\ddots & \\vdots \\\\ \n",
    "0 & 0 & 0 & \\ldots & \\lambda_{n} \\end{pmatrix}$\n",
    "$\\begin{pmatrix}\n",
    "\\vec{v_{1}} & \\vec{v_{2}} & \\vec{v_{3}} & \\ldots & \\vec{v_{n-1}} & \\vec{v_{n}} \\end{pmatrix}$  \n",
    "\n",
    "> VA = $\\begin{pmatrix}\n",
    "\\vec{v_{1}} & \\vec{v_{2}} & \\vec{v_{3}} & \\ldots & \\vec{v_{n-1}} & \\vec{v_{n}} \\end{pmatrix}$\n",
    "$\\begin{pmatrix} \n",
    "\\lambda_{1} & 0 & 0 & \\ldots & 0 \\\\ \n",
    "0 & \\lambda_{2} & 0 & \\ldots & 0 \\\\ \n",
    "0 & 0 & \\lambda_{3} & \\ldots & 0 \\\\\n",
    "\\vdots & \\vdots & \\vdots & \\ddots & \\vdots \\\\ \n",
    "0 & 0 & 0 & \\ldots & \\lambda_{n} \\end{pmatrix}$  \n",
    "\n",
    "\n",
    "### 2.2．固有値分解の計算方法  \n",
    "この数式の両辺に逆行列($V^{-1}$)を掛けることによって、下記の数式のように展開する  \n",
    "\n",
    "#### $A = VAV^{-1}$\n",
    "\n",
    "\n",
    "### 2.3．固有値分解の計算手順\n",
    "(1).正方行列Aの固有値$(\\lambda)$を計算する  \n",
    "(2).計算した固有値$(\\lambda)$と正方行列Aを用いて、固有ベクトル($\\vec{x}$)を計算する  \n",
    "(3).計算した固有ベクトル($\\vec{x}$)から逆行列$V^{-1}$を計算する  \n",
    "(4).公式($A = VAV^{-1}$)にそれぞれ当てはめて計算する  \n",
    "➡ 固有値$(\\lambda)$を固有値分解した値は$VAV^{-1}$を計算することにより求めることができる  \n"
   ]
  },
  {
   "cell_type": "markdown",
   "metadata": {},
   "source": []
  },
  {
   "cell_type": "markdown",
   "metadata": {},
   "source": []
  },
  {
   "cell_type": "markdown",
   "metadata": {},
   "source": []
  },
  {
   "cell_type": "markdown",
   "metadata": {},
   "source": [
    "## 3．特異値分解"
   ]
  },
  {
   "cell_type": "markdown",
   "metadata": {},
   "source": [
    "### 3.1．特異値分解とは(Singular Value Decomposition：SVD)  \n",
    "\n",
    "特異値分解とは、正方行列以外の行列を近似的に固有値分解する方法である。  \n",
    "ただし特異値分解は、ある行列M(m×n)が存在し、２つの単位ベクトル($\\vec{u}$)($\\vec{v}$)に対して、下記の数式が成立するときに限り可能である。  \n",
    "> ### $M\\vec{v} = \\sigma\\vec{u}$  \n",
    "> ### $M^{T}\\vec{u} = \\sigma\\vec{v}$  \n",
    "\n",
    "そして、特異値分解は下記の公式を用いて解くことができる。  \n",
    "## $M = USV^{T}$\n",
    "Uは直交行列、Sは\"対角行列\"、Vは直交行列を表している。   \n",
    "U、S、Vはそれぞれ次のように記述することができる。  \n",
    "そして特異値は、\"対角行列(S)\"の($\\sigma\\vec{1}$)~($\\sigma\\vec{n}$)までの値を取り出すことで求められる。  \n",
    "> #### $M = \\begin{pmatrix} \\vec{u_{1}} & \\vec{u_{2}} & \\vec{u_{3}} & \\ldots & \\vec{u_{n-1}} & \\vec{u_{n}} \\end{pmatrix}  \n",
    "\\begin{pmatrix}\n",
    "\\sigma\\vec{1} & 0 & 0 & \\ldots & 0 \\\\ \n",
    "0 & \\sigma\\vec{2} & 0 & \\ldots & 0 \\\\ \n",
    "0 & 0 & \\sigma\\vec{3} & \\ldots & 0 \\\\\n",
    "\\vdots & \\vdots & \\vdots & \\ddots & \\vdots \\\\ \n",
    "0 & 0 & 0 & \\ldots & \\sigma\\vec{n} \\end{pmatrix}  \n",
    "\\begin{pmatrix} \\vec{u_{1}}\\\\ \\vec{u_{2}}\\\\ \\vec{u_{3}}\\\\ \\ldots\\\\ \\vec{u_{n-1}}\\\\ \\vec{u_{n}} \\end{pmatrix}$  \n",
    "\n",
    "＜用語＞  \n",
    "単位ベクトル：大きさの値が\"1\"となるように調整されたベクトルのこと  \n",
    "直交行列：転置行列と逆行列が等しくなる正方行列のこと"
   ]
  },
  {
   "cell_type": "markdown",
   "metadata": {},
   "source": []
  },
  {
   "cell_type": "markdown",
   "metadata": {},
   "source": []
  },
  {
   "cell_type": "markdown",
   "metadata": {},
   "source": []
  },
  {
   "cell_type": "markdown",
   "metadata": {},
   "source": [
    "メモ"
   ]
  },
  {
   "cell_type": "markdown",
   "metadata": {},
   "source": [
    "$$A\\vec{x} = \\lambda\\vec{x}$$"
   ]
  },
  {
   "cell_type": "markdown",
   "metadata": {},
   "source": [
    "$$\n",
    "\\begin{pmatrix}\n",
    "1 & 4\\\\\n",
    "2 & 3 \\end{pmatrix}\n",
    "\\begin{pmatrix}\n",
    "1\\\\ 1 \\end{pmatrix}\n",
    "=\n",
    "\\begin{pmatrix}\n",
    "5\\\\ 5 \\end{pmatrix}\n",
    "=5\n",
    "\\begin{pmatrix}\n",
    "1\\\\ 1 \\end{pmatrix}$$"
   ]
  },
  {
   "cell_type": "markdown",
   "metadata": {},
   "source": [
    "$$(A - \\lambda I)\\vec{x} = 0$$"
   ]
  },
  {
   "cell_type": "markdown",
   "metadata": {},
   "source": [
    "$$A = \\begin{pmatrix} \n",
    "\\lambda_{1} & 0 & 0 & \\ldots & 0 \\\\ \n",
    "0 & \\lambda_{2} & 0 & \\ldots & 0 \\\\ \n",
    "0 & 0 & \\lambda_{3} & \\ldots & 0 \\\\\n",
    "\\vdots & \\vdots & \\vdots & \\ddots & \\vdots \\\\ \n",
    "0 & 0 & 0 & \\ldots & \\lambda_{n} \\end{pmatrix}$$"
   ]
  },
  {
   "cell_type": "markdown",
   "metadata": {},
   "source": [
    "$$\\vec{x} = \\begin{pmatrix}\n",
    "\\vec{v_{1}} & \\vec{v_{2}} & \\vec{v_{3}} & \\ldots & \\vec{v_{n-1}} & \\vec{v_{n}} \\end{pmatrix}$$"
   ]
  },
  {
   "cell_type": "markdown",
   "metadata": {},
   "source": [
    "$$XA = \\begin{pmatrix}\n",
    "\\vec{v_{1}} & \\vec{v_{2}} & \\vec{v_{3}} & \\ldots & \\vec{v_{n-1}} & \\vec{v_{n}} \\end{pmatrix}$\n",
    "\\begin{pmatrix} \n",
    "\\lambda_{1} & 0 & 0 & \\ldots & 0 \\\\ \n",
    "0 & \\lambda_{2} & 0 & \\ldots & 0 \\\\ \n",
    "0 & 0 & \\lambda_{3} & \\ldots & 0 \\\\\n",
    "\\vdots & \\vdots & \\vdots & \\ddots & \\vdots \\\\ \n",
    "0 & 0 & 0 & \\ldots & \\lambda_{n} \\end{pmatrix}$$"
   ]
  },
  {
   "cell_type": "markdown",
   "metadata": {},
   "source": []
  },
  {
   "cell_type": "markdown",
   "metadata": {},
   "source": [
    "### $$M\\vec{v} = \\sigma\\vec{u}$$"
   ]
  },
  {
   "cell_type": "markdown",
   "metadata": {},
   "source": [
    "### $$M^{T}\\vec{u} = \\sigma\\vec{v}$$"
   ]
  },
  {
   "cell_type": "markdown",
   "metadata": {},
   "source": [
    "### $$M = USV^{T}$$"
   ]
  },
  {
   "cell_type": "markdown",
   "metadata": {},
   "source": [
    "#### $$M = \\begin{pmatrix} \\vec{u_{1}} & \\vec{u_{2}} & \\vec{u_{3}} & \\ldots & \\vec{u_{n-1}} & \\vec{u_{n}} \\end{pmatrix}  \n",
    "\\begin{pmatrix}\n",
    "\\sigma\\vec{1} & 0 & 0 & \\ldots & 0 \\\\ \n",
    "0 & \\sigma\\vec{2} & 0 & \\ldots & 0 \\\\ \n",
    "0 & 0 & \\sigma\\vec{3} & \\ldots & 0 \\\\\n",
    "\\vdots & \\vdots & \\vdots & \\ddots & \\vdots \\\\ \n",
    "0 & 0 & 0 & \\ldots & \\sigma\\vec{n} \\end{pmatrix}  \n",
    "\\begin{pmatrix} \\vec{u_{1}}\\\\ \\vec{u_{2}}\\\\ \\vec{u_{3}}\\\\ \\ldots\\\\ \\vec{u_{n-1}}\\\\ \\vec{u_{n}} \\end{pmatrix}$$"
   ]
  },
  {
   "cell_type": "markdown",
   "metadata": {},
   "source": [
    "##### $$U = \\begin{pmatrix}\n",
    "\\vec{u_{1}} & \\vec{u_{2}} & \\vec{u_{3}} & \\ldots & \\vec{u_{n-1}} & \\vec{u_{n}} \\end{pmatrix}$$"
   ]
  },
  {
   "cell_type": "markdown",
   "metadata": {},
   "source": [
    "##### $$S = \\begin{pmatrix}\n",
    "\\sigma\\vec{1} & 0 & 0 & \\ldots & 0 \\\\ \n",
    "0 & \\sigma\\vec{2} & 0 & \\ldots & 0 \\\\ \n",
    "0 & 0 & \\sigma\\vec{3} & \\ldots & 0 \\\\\n",
    "\\vdots & \\vdots & \\vdots & \\ddots & \\vdots \\\\ \n",
    "0 & 0 & 0 & \\ldots & \\sigma\\vec{n} \\end{pmatrix}$$"
   ]
  },
  {
   "cell_type": "markdown",
   "metadata": {},
   "source": [
    "##### $$M^{T} = \\begin{pmatrix}\n",
    "\\vec{u_{1}}\\\\ \\vec{u_{2}}\\\\ \\vec{u_{3}}\\\\ \\ldots\\\\ \\vec{u_{n-1}}\\\\ \\vec{u_{n}} \\end{pmatrix}$$"
   ]
  },
  {
   "cell_type": "markdown",
   "metadata": {},
   "source": []
  }
 ],
 "metadata": {
  "kernelspec": {
   "display_name": "Python 3",
   "language": "python",
   "name": "python3"
  },
  "language_info": {
   "codemirror_mode": {
    "name": "ipython",
    "version": 3
   },
   "file_extension": ".py",
   "mimetype": "text/x-python",
   "name": "python",
   "nbconvert_exporter": "python",
   "pygments_lexer": "ipython3",
   "version": "3.7.4"
  }
 },
 "nbformat": 4,
 "nbformat_minor": 4
}
