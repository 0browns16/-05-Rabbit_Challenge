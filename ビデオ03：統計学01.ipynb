{
 "cells": [
  {
   "cell_type": "markdown",
   "metadata": {},
   "source": [
    "## １．条件付き確率"
   ]
  },
  {
   "cell_type": "markdown",
   "metadata": {},
   "source": [
    "条件付き確率とは、事象Bが発生す条件下において、同時に事象Aが発生する確率である。  \n",
    "(公式)：条件付き確率  \n",
    "### $P(A|B) = \\frac{P(A∩B)}{P(B)}$  \n",
    "(公式)：条件付き確率（事象の独立）  \n",
    "### $P(A|B) = \\frac{P(A∩B)}{P(B)} = \\frac{P(A)×P(B)}{P(B)} = P(A)$  \n",
    "> 事象Aと事象Bが独立であるときの必要十分条件（事象の独立）\n",
    "> ### $P(A∩B) = P(A)×P(B)$\n"
   ]
  },
  {
   "cell_type": "code",
   "execution_count": null,
   "metadata": {},
   "outputs": [],
   "source": []
  },
  {
   "cell_type": "markdown",
   "metadata": {},
   "source": [
    "## ２．ベイズ則"
   ]
  },
  {
   "cell_type": "markdown",
   "metadata": {},
   "source": [
    "(公式)：ベイズ則  \n",
    "### $P(A∩B) = P(A)×P(B|A) = P(B)×P(A|B)$"
   ]
  },
  {
   "cell_type": "code",
   "execution_count": null,
   "metadata": {},
   "outputs": [],
   "source": []
  },
  {
   "cell_type": "markdown",
   "metadata": {},
   "source": [
    "## ３．期待値"
   ]
  },
  {
   "cell_type": "markdown",
   "metadata": {},
   "source": [
    "(公式)：期待値$E(f)$  \n",
    "### $E(f) = \\sum_{k=1}^nP(X=x_k)f(X=x_k)$  \n",
    "> 事象$X = x_1, x_2, x_3, ...,x_{n-1}, x_n$  \n",
    "> 確率$P(X) = P(x_1), P(x_2), P(x_3), .., P(x_{n-1}), P(x_n)$  \n",
    "> 確率変数$f(X) = f(x_1), f(x_2), f(x_3), ..., f(x_{n-1}), f(x_n)$  \n",
    "\n",
    "(公式)：連続型確率変数$f(x)$の期待値$E(f)$  \n",
    "### $E(f) = \\int P(X=x)f(X=x)dx$  \n"
   ]
  },
  {
   "cell_type": "code",
   "execution_count": null,
   "metadata": {},
   "outputs": [],
   "source": []
  },
  {
   "cell_type": "markdown",
   "metadata": {},
   "source": [
    "## ４．分散"
   ]
  },
  {
   "cell_type": "markdown",
   "metadata": {},
   "source": [
    "(公式)：分散を求める  \n",
    "### $Var(f) = E\\Bigl (\\bigl(f_{(X = x)} - E_{(f)}\\bigl)^2 \\Bigl) = E\\bigl(f^2_{(X = x)}\\bigl) - \\bigl(E_{(f)}\\bigl)^2$"
   ]
  },
  {
   "cell_type": "code",
   "execution_count": null,
   "metadata": {},
   "outputs": [],
   "source": []
  },
  {
   "cell_type": "markdown",
   "metadata": {},
   "source": [
    "## ５．標準偏差"
   ]
  },
  {
   "cell_type": "markdown",
   "metadata": {},
   "source": [
    "(公式)：標準偏差を求める  \n",
    "### $\\sigma = \\sqrt{Var(f)} = \\sqrt{E \\bigl((f_{(X = x)} - E_{(f)})^2 \\bigl)}$"
   ]
  },
  {
   "cell_type": "code",
   "execution_count": null,
   "metadata": {},
   "outputs": [],
   "source": []
  },
  {
   "cell_type": "markdown",
   "metadata": {},
   "source": [
    "## ６．共分散"
   ]
  },
  {
   "cell_type": "markdown",
   "metadata": {},
   "source": [
    "(公式)：共分散を求める  \n",
    "### $\\begin{eqnarray}\n",
    "Cov(f(X),g(Y))&=&E\\bigg(\\Big (f(X=x)-E(f(X)) \\Big) \\Big (g(Y=y)-E(g(Y)) \\Big) \\bigg)\\\\ \n",
    "&=&E \\Big (f(X=x)g(Y=y) \\Big) - E\\Big (f(X=x) \\Big) E\\Big (g(Y=y) \\Big) \\end{eqnarray} $  \n",
    "> $f$ ：事象$X$内の$x$における確率変数  \n",
    "> $E(f)$：事象$X$における確率変数の期待値  \n",
    "> $g$：事象$Y$内の$y$における確率変数  \n",
    "> $E(g)$：事象$Y$における確率変数の期待値 "
   ]
  },
  {
   "cell_type": "code",
   "execution_count": null,
   "metadata": {},
   "outputs": [],
   "source": []
  },
  {
   "cell_type": "markdown",
   "metadata": {},
   "source": [
    "## ７．標本分散"
   ]
  },
  {
   "cell_type": "markdown",
   "metadata": {},
   "source": [
    "(公式)：標本分散  \n",
    "### $\\hat{\\sigma}^2 = \\dfrac{1}{n}\\Sigma_{i=1}^{n}(x_{i} - \\bar{x})^2$  \n",
    "> $\\hat{\\sigma}^2$：標本分散  \n",
    "> $n$：サンプル数  \n",
    "> $x_{1}$：標本平均"
   ]
  },
  {
   "cell_type": "code",
   "execution_count": null,
   "metadata": {},
   "outputs": [],
   "source": []
  },
  {
   "cell_type": "markdown",
   "metadata": {},
   "source": [
    "## ８．不偏分散"
   ]
  },
  {
   "cell_type": "markdown",
   "metadata": {},
   "source": [
    "(公式)：不偏分散  \n",
    "### $\\hat{\\sigma}^2 = \\dfrac{1}{n-1}\\Sigma_{i=1}^{n}(x_{i} - \\bar{x})^2$  \n",
    "> $\\hat{\\sigma}^2$：標本分散  \n",
    "> $n$：サンプル数  \n",
    "> $x_{1}$：標本平均"
   ]
  },
  {
   "cell_type": "code",
   "execution_count": null,
   "metadata": {},
   "outputs": [],
   "source": []
  },
  {
   "cell_type": "markdown",
   "metadata": {},
   "source": [
    "## ９．ベルヌーイ分布"
   ]
  },
  {
   "cell_type": "markdown",
   "metadata": {},
   "source": [
    "(公式)：ベルヌーイ分布  \n",
    "### $P(x|\\mu) = \\mu^x(1-\\mu)^{1-x}$  \n",
    "> $x$：期待した事象が発生したかどうか(期待する事象：$x$ = 1, 異なった場合：$x$ = 0)  \n",
    "> $μ$：期待した事象の発生する確率  "
   ]
  },
  {
   "cell_type": "code",
   "execution_count": null,
   "metadata": {},
   "outputs": [],
   "source": []
  },
  {
   "cell_type": "markdown",
   "metadata": {},
   "source": [
    "## １０．二項分布"
   ]
  },
  {
   "cell_type": "markdown",
   "metadata": {},
   "source": [
    "(公式)：二項分布  \n",
    "### $P(x|\\lambda,n) = \\frac{n!}{x!(n - x)!}\\lambda^x(1 - \\lambda)^{n - x}$  \n",
    "> $x$：成功する確率  \n",
    "> $\\lambda$：期待する事象が起こる確率  \n",
    "> $n$：試行回数  \n",
    "\n"
   ]
  },
  {
   "cell_type": "code",
   "execution_count": null,
   "metadata": {},
   "outputs": [],
   "source": []
  },
  {
   "cell_type": "markdown",
   "metadata": {},
   "source": [
    "## １１．正規分布(ガウス分布)"
   ]
  },
  {
   "cell_type": "markdown",
   "metadata": {},
   "source": [
    "(公式)：正規分布(ガウス分布)  \n",
    "### $N(x:\\mu ,\\sigma^2)=\\frac{1}{\\sqrt{2\\pi}\\sigma}\\exp\\left(-\\frac{1}{2\\sigma^2}(x-\\mu)^2\\right)$"
   ]
  },
  {
   "cell_type": "code",
   "execution_count": null,
   "metadata": {},
   "outputs": [],
   "source": []
  },
  {
   "cell_type": "markdown",
   "metadata": {},
   "source": [
    "## 用語まとめ"
   ]
  },
  {
   "cell_type": "markdown",
   "metadata": {},
   "source": [
    "推定  \n",
    "> 母数：調査対象全てのデータを指す\n",
    "> 母集団：母集団を特徴付ける数値を指す  \n",
    "\n",
    "点推定  \n",
    "> １つの値を基準に推定すること\n",
    "\n",
    "区間推定  \n",
    "> 範囲(信頼区間)を推定すること  \n",
    "\n",
    "標本平均$E(\\hat{\\theta})$  \n",
    "> 母集団から標本を抽出して平均を図る方法  \n",
    ">> 一致性：サンプル($n$)が増えるほど母集団の値に近似するという性質  \n",
    ">> 普偏性：サンプル($n$)に関わらず、推定値$(\\hat{\\theta})$の期待値が母集団の母数と同じという性質  \n"
   ]
  },
  {
   "cell_type": "code",
   "execution_count": null,
   "metadata": {},
   "outputs": [],
   "source": []
  },
  {
   "cell_type": "code",
   "execution_count": null,
   "metadata": {},
   "outputs": [],
   "source": []
  },
  {
   "cell_type": "code",
   "execution_count": null,
   "metadata": {},
   "outputs": [],
   "source": []
  },
  {
   "cell_type": "markdown",
   "metadata": {},
   "source": [
    "メモ"
   ]
  },
  {
   "cell_type": "markdown",
   "metadata": {},
   "source": [
    "(公式)：条件付き確率  \n",
    "$P(A|B) = \\frac{P(A∩B)}{P(B)}$"
   ]
  },
  {
   "cell_type": "markdown",
   "metadata": {},
   "source": [
    "(公式)：条件付き確率（事象の独立）  \n",
    "$P(A|B) = \\frac{P(A∩B)}{P(B)} = \\frac{P(A)×P(B)}{P(B)} = P(A)$"
   ]
  },
  {
   "cell_type": "markdown",
   "metadata": {},
   "source": [
    "(公式)：ベイズ則  \n",
    "$P(A∩B) = P(A)×P(B|A) = P(B)×P(A|B)$"
   ]
  },
  {
   "cell_type": "markdown",
   "metadata": {},
   "source": [
    "(公式)：期待値$E(f)$  \n",
    "$E(f) = \\sum_{k=1}^nP(X=x_k)f(X=x_k)$"
   ]
  },
  {
   "cell_type": "markdown",
   "metadata": {},
   "source": [
    "$X = x_1, x_2, x_3, ...,x_{n-1}, x_n$"
   ]
  },
  {
   "cell_type": "markdown",
   "metadata": {},
   "source": [
    "$f(X) = f(x_1), f(x_2), f(x_3), .., f(x_{n-1}), f(x_n)$"
   ]
  },
  {
   "cell_type": "markdown",
   "metadata": {},
   "source": [
    "$P(X) = P(x_1), P(x_2), P(x_3), .., P(x_{n-1}), P(x_n)$"
   ]
  },
  {
   "cell_type": "markdown",
   "metadata": {},
   "source": [
    "$確率P(X) = P(x_1), P(x_2), P(x_3), .., P(x_{n-1}), P(x_n)$  \n",
    "$確率変数f(X) = f(x_1), f(x_2), f(x_3), ..., f(x_{n-1}), f(x_n)$  \n",
    "$事象X = x_1, x_2, x_3, ...,x_{n-1}, x_n$"
   ]
  },
  {
   "cell_type": "markdown",
   "metadata": {},
   "source": [
    "(公式)：連続型確率変数$f(x)$の期待値$E(f)$  \n",
    "$E(f) = \\int P(X=x)f(X=x)dx$"
   ]
  },
  {
   "cell_type": "markdown",
   "metadata": {},
   "source": [
    "(公式)：分散を求める  \n",
    "$Var(f) = E\\Bigl (\\bigl(f_{(X = x)} - E_{(f)}\\bigl)^2 \\Bigl) = E\\bigl(f^2_{(X = x)}\\bigl) - \\bigl(E_{(f)}\\bigl)^2$"
   ]
  },
  {
   "cell_type": "markdown",
   "metadata": {},
   "source": [
    "(公式)：標準偏差を求める  \n",
    "$\\sigma = \\sqrt{Var(f)} = \\sqrt{E\\bigl((f_{(X = x)} - E_{(f)})^2\\bigl)}$"
   ]
  },
  {
   "cell_type": "markdown",
   "metadata": {},
   "source": [
    "(公式)：共分散を求める\n",
    "\\begin{eqnarray}\n",
    "Cov(f(X),g(Y))&=&E\\bigg(\\Big (f(X=x)-E(f(X)) \\Big) \\Big (g(Y=y)-E(g(Y)) \\Big) \\bigg)\\\\ \n",
    "&=&E \\Big (f(X=x)g(Y=y) \\Big) - E\\Big (f(X=x) \\Big) E\\Big (g(Y=y) \\Big) \\end{eqnarray}  \n",
    "> $f$ ：事象$X$内の$x$における確率変数  \n",
    "> $E(f)$：事象$X$における確率変数の期待値  \n",
    "> $g$：事象$Y$内の$y$における確率変数  \n",
    "> $E(g)$：事象$Y$における確率変数の期待値 "
   ]
  },
  {
   "cell_type": "markdown",
   "metadata": {},
   "source": [
    "(公式)：ベルヌーイ分布  \n",
    "$P(x|\\mu) = \\mu^x(1-\\mu)^{1-x}$ "
   ]
  },
  {
   "cell_type": "markdown",
   "metadata": {},
   "source": [
    "(公式)：二項分布  \n",
    "$P(x|\\lambda,n) = \\frac{n!}{x!(n - x)!}\\lambda^x(1 - \\lambda)^{n - x}$  \n",
    "> $n$：成功する確率  \n",
    "> $\\lambda$：期待する事象が起こる確率  \n",
    "> $n$：試行回数  \n",
    "\n"
   ]
  },
  {
   "cell_type": "markdown",
   "metadata": {},
   "source": [
    "(公式)：標本分散  \n",
    "$\\hat{\\sigma}^2 = \\dfrac{1}{n}\\Sigma_{i=1}^{n}(x_{i} - \\bar{x})^2$  \n",
    "> $\\hat{\\sigma}^2$：標本分散  \n",
    "> $n$：サンプル数  \n",
    "> $x_{1}$：標本平均"
   ]
  },
  {
   "cell_type": "markdown",
   "metadata": {},
   "source": [
    "(公式)：標本分散  \n",
    "$\\hat{\\sigma}^2 = \\dfrac{1}{n-1}\\Sigma_{i=1}^{n}(x_{i} - \\bar{x})^2$  \n",
    "> $\\hat{\\sigma}^2$：標本分散  \n",
    "> $n$：サンプル数  \n",
    "> $x_{1}$：標本平均"
   ]
  },
  {
   "cell_type": "code",
   "execution_count": null,
   "metadata": {},
   "outputs": [],
   "source": []
  },
  {
   "cell_type": "code",
   "execution_count": null,
   "metadata": {},
   "outputs": [],
   "source": []
  }
 ],
 "metadata": {
  "kernelspec": {
   "display_name": "Python 3",
   "language": "python",
   "name": "python3"
  },
  "language_info": {
   "codemirror_mode": {
    "name": "ipython",
    "version": 3
   },
   "file_extension": ".py",
   "mimetype": "text/x-python",
   "name": "python",
   "nbconvert_exporter": "python",
   "pygments_lexer": "ipython3",
   "version": "3.7.4"
  }
 },
 "nbformat": 4,
 "nbformat_minor": 4
}
