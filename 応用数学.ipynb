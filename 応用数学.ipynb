{
 "cells": [
  {
   "cell_type": "markdown",
   "metadata": {},
   "source": [
    "# 〇線形代数(行列)"
   ]
  },
  {
   "cell_type": "markdown",
   "metadata": {},
   "source": [
    "## １．行列について"
   ]
  },
  {
   "cell_type": "markdown",
   "metadata": {},
   "source": [
    "### 1.1．行列(matrix)  \n",
    "線形代数における行列(matrix)とは、M行N列の行列の係数を取り出して長方形の形に並べたものである。  \n",
    "\n",
    "・M行N列の行列  \n",
    "\\begin{pmatrix} \n",
    "a_{11} & a_{12} & \\ldots & a_{1n} \\\\ \n",
    "a_{21} & a_{22} & \\ldots & a_{2n} \\\\ \n",
    "\\vdots & \\vdots & \\ddots & \\vdots \\\\\n",
    "a_{m1} & a_{m2} & \\ldots & a_{mn} \\end{pmatrix}\n",
    "\n",
    "(例題)：行列を表現する  \n",
    "> 1.2.1．サンプルデータ(連立１次方程式)を用意する\n",
    "\\begin{pmatrix} \n",
    "3x-y \\\\\n",
    "x+2y \\end{pmatrix}\n",
    "> 1.2.2．係数を取り出して長方形の形に並べる\n",
    "\\begin{pmatrix} \n",
    "3 & -1 \\\\\n",
    "1 & 2\\end{pmatrix}  \n",
    "\n",
    "＜用語＞  \n",
    "・スカラー(scalar)：普通の数 ※(スカラー倍：ベクトル(vector)に数字を掛けること)  \n",
    "・ベクトル(vector)：'向き'と'大きさ'を持った情報のこと"
   ]
  },
  {
   "cell_type": "code",
   "execution_count": null,
   "metadata": {},
   "outputs": [],
   "source": []
  },
  {
   "cell_type": "markdown",
   "metadata": {},
   "source": [
    "## ２．単位行列について"
   ]
  },
  {
   "cell_type": "markdown",
   "metadata": {},
   "source": [
    "### 2.1．単位行列$I$(Identity matrix)  \n",
    "単位行列とは、どんな正方行列Aに掛けても行列を変えない行列$E$のことである。  \n",
    "\n",
    "* $AE = EA = A$  \n",
    "> A：任意の正方行列  \n",
    "> E：単位行列 \n",
    "\n",
    "正方行列の単位行列$E$は下記のように対角線上に'1'が並ぶという特徴がある。  \n",
    "$$\\begin{pmatrix}\n",
    "1 & 0 & \\ldots & 0 \\\\\n",
    "0 & 1 & \\ldots & 0 \\\\\n",
    "\\vdots & \\vdots & \\ddots & \\vdots \\\\ \n",
    "0 & 0 & \\ldots & 1 \\end{pmatrix}$$\n"
   ]
  },
  {
   "cell_type": "code",
   "execution_count": null,
   "metadata": {},
   "outputs": [],
   "source": []
  },
  {
   "cell_type": "markdown",
   "metadata": {},
   "source": [
    "## ３．逆行列について"
   ]
  },
  {
   "cell_type": "markdown",
   "metadata": {},
   "source": [
    "### 3.1．逆行列$A^{-1}$(Inverse matrix)  \n",
    "逆行列とは、行列との積をとって単位行列となる行列である。逆行列は、行列において逆数のような働きをするため、逆行列を計算しておくと連立１次方程式を解くことができる。\n",
    "* $AA^{-1} = A^{-1}A = I$\n",
    ">  A：もとの行列A  \n",
    ">  $A^{-1}$ : もとの行列Aの逆行列  \n",
    ">  I：単位行列  \n",
    "\n",
    "\n",
    "### 3.2．逆行列を求め方  \n",
    "> ### 3.2.1．２×２行列の場合\n",
    "$$A = \\left[\\begin{array}{ccc}\n",
    "      a & c \\\\\n",
    "      b & d \\\\\\end{array}\\right]$$  \n",
    "\n",
    ">> #### ※行列$A$における逆行列$A^{-1}$を求める公式  \n",
    "* $ad - bc ≒ 0$ の場合、  \n",
    "$$A^{-1} = \\frac{1}{ad -bc} \\left[\\begin{array}{ccc}\n",
    "            d & -c \\\\\n",
    "            -b & a \\\\\\end{array}\\right]$$  \n",
    "\n",
    ">> * $ad - bc = 0$ の場合、逆行列$A^{-1}$は存在しない  \n",
    "\n",
    "\n",
    "> ### 3.2.2．３×３行列の場合(掃き出し法)  \n",
    "> 掃き出し法とは、行基本変形を用いて対角線上に\"１\"が並ぶように変形していく消去法のことである。\n",
    ">> ##### 3.2.2.1．サンプルデータ(３×３行列A)を用意する\n",
    "$$ A = \\left[\\begin{array}{cc}\n",
    "       2 & 1 & -1 \\\\\n",
    "       1 & -1 & 0 \\\\\n",
    "       0 & 2 & -1 \\end{array}\\right] $$  \n",
    ">> ##### 3.2.2.2．単位行列Eを用意する\n",
    "$$ E = \\left[\\begin{array}{cc}\n",
    "       1 & 0 & 0 \\\\\n",
    "       0 & 1 & 0 \\\\\n",
    "       0 & 0 & 1 \\end{array}\\right] $$  \n",
    ">> ##### 3.2.2.3．サンプルデータ(３×３行列A)の右側に単位行列Eを書き並べる\n",
    "\\begin{pmatrix} \n",
    "\\begin{array}{ccc|ccc} 2 & 1 & -1 & 1 & 0 & 0\\\\ 1 & -1 & 0 & 0 & 1 & 0\\\\ 0 & 2 & -1 & 0 & 0 & 1 \\end{array} \n",
    "\\end{pmatrix}  \n",
    ">> ##### 3.2.2.4．行基本変形を用いて左側の３×３の箇所を単位行列になるように計算すると、右側の行列に逆行列が求められる。\n",
    "\\begin{pmatrix} \n",
    "\\begin{array}{ccc|ccc} 1 & 0 & 0 & 1 & -1 & -1\\\\ 0 & 1 & 0 & 1 & -2 & -1\\\\ 0 & 0 & 1 & 2 & -4 & -3 \\end{array} \n",
    "\\end{pmatrix}\n",
    "\n",
    "＜行基本変形の手順＞  \n",
    "(1)行と行を入れ替える  \n",
    "(2)1つの行をC倍する  \n",
    "(3)1つの行のC倍を他の行に足す  \n",
    "\n",
    "＜要約＞  \n",
    "行列$A$に逆行列$A^{-1}$が存在する場合、行列$A$は正則である。  \n",
    "行列$A$に逆行列$A^{-1}$が存在しない場合、行列$A$は正則ではない。\n"
   ]
  },
  {
   "cell_type": "code",
   "execution_count": null,
   "metadata": {},
   "outputs": [],
   "source": []
  },
  {
   "cell_type": "markdown",
   "metadata": {},
   "source": [
    "## ４．行列式について"
   ]
  },
  {
   "cell_type": "markdown",
   "metadata": {},
   "source": [
    "### 4.1．行列式$\\begin{vmatrix}A\\end{vmatrix}$(determinant)\n",
    "行列式とは、行列に逆行列が存在するのかどうかを判断する公式である。  \n",
    "・２行２列の行列式\n",
    "> $$ \\begin{vmatrix}A\\end{vmatrix} = \\begin{vmatrix} a & b \\\\ c & d \\end{vmatrix} $$  \n",
    "\n",
    "・３行３列の行列式\n",
    "> $$ \\begin{vmatrix}A\\end{vmatrix} = \\begin{vmatrix} a_{11} & a_{12} & a_{13}\\\\\n",
    "                                                   a_{21} & a_{22} & a_{23}\\\\\n",
    "                                                   a_{31} & a_{32} & a_{33}\\end{vmatrix} $$  \n",
    "\n",
    "### 4.2．行列式の求め方  \n",
    "・２行２列の行列式  \n",
    "> $$ \\begin{vmatrix}A\\end{vmatrix} = \\begin{vmatrix} a & b \\\\ c & d \\end{vmatrix} = ad - bc $$  \n",
    "\n",
    "・３行３列の行列式(サラスの公式)  \n",
    "> $$ \\begin{vmatrix}P\\end{vmatrix} = \\begin{vmatrix} A & x & a\\\\ B & y & b\\\\ C & z & c \\end{vmatrix} = Ayc + Bza + Cxb - Azb - Bxc - Cya $$\n"
   ]
  },
  {
   "cell_type": "markdown",
   "metadata": {},
   "source": []
  },
  {
   "cell_type": "markdown",
   "metadata": {},
   "source": []
  },
  {
   "cell_type": "markdown",
   "metadata": {},
   "source": []
  },
  {
   "cell_type": "markdown",
   "metadata": {},
   "source": [
    "# 〇線形代数(固有値)"
   ]
  },
  {
   "cell_type": "markdown",
   "metadata": {},
   "source": [
    "## １．固有値"
   ]
  },
  {
   "cell_type": "markdown",
   "metadata": {},
   "source": [
    "### 1.1．固有値とは(matrix)  \n",
    "固有値とは、ある正方行列Aに対して、”0”でないベクトル($\\vec{x}$)と、右辺の係数λを用いて下記の数式を満たすときに算出することができる。  \n",
    "> ### $A\\vec{x} = \\lambda\\vec{x}$  \n",
    ">> A：正方行列A  \n",
    ">> λ：正方行列Aの固有値  \n",
    ">> $\\vec{x}$：正方行列Aの固有値ベクトル  \n",
    "> <具体例>  \n",
    "> $\n",
    "\\begin{pmatrix}\n",
    "1 & 4\\\\\n",
    "2 & 3 \\end{pmatrix}\n",
    "\\begin{pmatrix}\n",
    "1\\\\ 1 \\end{pmatrix}\n",
    "=\n",
    "\\begin{pmatrix}\n",
    "5\\\\ 5 \\end{pmatrix}\n",
    "=5\n",
    "\\begin{pmatrix}\n",
    "1\\\\ 1 \\end{pmatrix}$\n",
    ">>> 固有値(λ)=5  \n",
    ">>> 固有ベクトル($\\vec{x}$)=$\\begin{pmatrix}1\\\\ 1 \\end{pmatrix}$  \n",
    "\n",
    "＜用語＞  \n",
    "固有値($λ$)：線形変換の際、対角行列となるような基底を探すときに使用される。固有値の値は一定に定まる。  \n",
    "固有ベクトル($\\vec{x}$)：ベクトルを線形変換したとき、定数倍となるようなベクトルのことである。固有ベクトルの値は一定の値が定まるとは限らない。そのため、ある特定の比率すべてを合わせた”$\\begin{pmatrix}\\vec{x^1}\\\\ \\vec{x^2} \\end{pmatrix}$の定数倍”と記述することができる。  \n",
    "\n",
    "\n",
    "\n",
    "\n",
    "### 1.2．固有値の計算方法  \n",
    "> ### $A\\vec{x} = \\lambda\\vec{x}$  \n",
    "\n",
    "上記の数式の右辺にある$\\lambda\\vec{x}$を左辺に移したのちに、分配法則を用いて表現される下記の数式を解くことによって、固有値の値が求められる。※($\\vec{x}≒0$とする場合のみ)   \n",
    "> ### $(A - \\lambda I)\\vec{x} = 0$  \n",
    "\n",
    "\n"
   ]
  },
  {
   "cell_type": "code",
   "execution_count": null,
   "metadata": {},
   "outputs": [],
   "source": []
  },
  {
   "cell_type": "markdown",
   "metadata": {},
   "source": [
    "## 2．固有値分解"
   ]
  },
  {
   "cell_type": "markdown",
   "metadata": {},
   "source": [
    "### 2.1．固有値分解とは(matrix)  \n",
    "固有値分解は、正方行列を複数の行列をある種の掛け算に分解する方法のことである。  \n",
    "はじめに、ある行列Aにおいて固有値λ及び固有ベクトル$\\vec{x}$をそれぞれ定義してみる。  \n",
    "\n",
    "> 対角成分に固有値$(\\lambda)$を並べた正方行列A\n",
    ">> $A = \\begin{pmatrix} \n",
    "\\lambda_{1} & 0 & 0 & \\ldots & 0 \\\\ \n",
    "0 & \\lambda_{2} & 0 & \\ldots & 0 \\\\ \n",
    "0 & 0 & \\lambda_{3} & \\ldots & 0 \\\\\n",
    "\\vdots & \\vdots & \\vdots & \\ddots & \\vdots \\\\ \n",
    "0 & 0 & 0 & \\ldots & \\lambda_{n} \\end{pmatrix}$  \n",
    "\n",
    "> 固有ベクトル($\\vec{x}$)を並べた行列V\n",
    ">> $V = \\begin{pmatrix}\n",
    "\\vec{v_{1}} & \\vec{v_{2}} & \\vec{v_{3}} & \\ldots & \\vec{v_{n-1}} & \\vec{v_{n}} \\end{pmatrix}$  \n",
    "\n",
    "このとき、$A\\vec{V} = \\lambda\\vec{V}$により、下記の数式が成立する。  \n",
    "#### $AV = VA$  \n",
    "\n",
    "> AV = $\\begin{pmatrix} \n",
    "\\lambda_{1} & 0 & 0 & \\ldots & 0 \\\\ \n",
    "0 & \\lambda_{2} & 0 & \\ldots & 0 \\\\ \n",
    "0 & 0 & \\lambda_{3} & \\ldots & 0 \\\\\n",
    "\\vdots & \\vdots & \\vdots & \\ddots & \\vdots \\\\ \n",
    "0 & 0 & 0 & \\ldots & \\lambda_{n} \\end{pmatrix}$\n",
    "$\\begin{pmatrix}\n",
    "\\vec{v_{1}} & \\vec{v_{2}} & \\vec{v_{3}} & \\ldots & \\vec{v_{n-1}} & \\vec{v_{n}} \\end{pmatrix}$  \n",
    "\n",
    "> VA = $\\begin{pmatrix}\n",
    "\\vec{v_{1}} & \\vec{v_{2}} & \\vec{v_{3}} & \\ldots & \\vec{v_{n-1}} & \\vec{v_{n}} \\end{pmatrix}$\n",
    "$\\begin{pmatrix} \n",
    "\\lambda_{1} & 0 & 0 & \\ldots & 0 \\\\ \n",
    "0 & \\lambda_{2} & 0 & \\ldots & 0 \\\\ \n",
    "0 & 0 & \\lambda_{3} & \\ldots & 0 \\\\\n",
    "\\vdots & \\vdots & \\vdots & \\ddots & \\vdots \\\\ \n",
    "0 & 0 & 0 & \\ldots & \\lambda_{n} \\end{pmatrix}$  \n",
    "\n",
    "\n",
    "### 2.2．固有値分解の計算方法  \n",
    "この数式の両辺に逆行列($V^{-1}$)を掛けることによって、下記の数式のように展開する  \n",
    "\n",
    "#### $A = VAV^{-1}$\n",
    "\n",
    "\n",
    "### 2.3．固有値分解の計算手順\n",
    "(1).正方行列Aの固有値$(\\lambda)$を計算する  \n",
    "(2).計算した固有値$(\\lambda)$と正方行列Aを用いて、固有ベクトル($\\vec{x}$)を計算する  \n",
    "(3).計算した固有ベクトル($\\vec{x}$)から逆行列$V^{-1}$を計算する  \n",
    "(4).公式($A = VAV^{-1}$)にそれぞれ当てはめて計算する  \n",
    "➡ 固有値$(\\lambda)$を固有値分解した値は$VAV^{-1}$を計算することにより求めることができる  \n"
   ]
  },
  {
   "cell_type": "markdown",
   "metadata": {},
   "source": []
  },
  {
   "cell_type": "markdown",
   "metadata": {},
   "source": [
    "## 3．特異値分解"
   ]
  },
  {
   "cell_type": "markdown",
   "metadata": {},
   "source": [
    "### 3.1．特異値分解とは(Singular Value Decomposition：SVD)  \n",
    "\n",
    "特異値分解とは、正方行列以外の行列を近似的に固有値分解する方法である。  \n",
    "ただし特異値分解は、ある行列M(m×n)が存在し、２つの単位ベクトル($\\vec{u}$)($\\vec{v}$)に対して、下記の数式が成立するときに限り可能である。  \n",
    "> ### $M\\vec{v} = \\sigma\\vec{u}$  \n",
    "> ### $M^{T}\\vec{u} = \\sigma\\vec{v}$  \n",
    "\n",
    "そして、特異値分解は下記の公式を用いて解くことができる。  \n",
    "## $M = USV^{T}$\n",
    "Uは直交行列、Sは\"対角行列\"、Vは直交行列を表している。   \n",
    "U、S、Vはそれぞれ次のように記述することができる。  \n",
    "そして特異値は、\"対角行列(S)\"の($\\sigma\\vec{1}$)~($\\sigma\\vec{n}$)までの値を取り出すことで求められる。  \n",
    "> #### $M = \\begin{pmatrix} \\vec{u_{1}} & \\vec{u_{2}} & \\vec{u_{3}} & \\ldots & \\vec{u_{n-1}} & \\vec{u_{n}} \\end{pmatrix}  \n",
    "\\begin{pmatrix}\n",
    "\\sigma\\vec{1} & 0 & 0 & \\ldots & 0 \\\\ \n",
    "0 & \\sigma\\vec{2} & 0 & \\ldots & 0 \\\\ \n",
    "0 & 0 & \\sigma\\vec{3} & \\ldots & 0 \\\\\n",
    "\\vdots & \\vdots & \\vdots & \\ddots & \\vdots \\\\ \n",
    "0 & 0 & 0 & \\ldots & \\sigma\\vec{n} \\end{pmatrix}  \n",
    "\\begin{pmatrix} \\vec{u_{1}}\\\\ \\vec{u_{2}}\\\\ \\vec{u_{3}}\\\\ \\ldots\\\\ \\vec{u_{n-1}}\\\\ \\vec{u_{n}} \\end{pmatrix}$  \n",
    "\n",
    "＜用語＞  \n",
    "単位ベクトル：大きさの値が\"1\"となるように調整されたベクトルのこと  \n",
    "直交行列：転置行列と逆行列が等しくなる正方行列のこと"
   ]
  },
  {
   "cell_type": "markdown",
   "metadata": {},
   "source": []
  },
  {
   "cell_type": "markdown",
   "metadata": {},
   "source": []
  },
  {
   "cell_type": "markdown",
   "metadata": {},
   "source": []
  },
  {
   "cell_type": "markdown",
   "metadata": {},
   "source": [
    "# 〇統計学"
   ]
  },
  {
   "cell_type": "markdown",
   "metadata": {},
   "source": [
    "## １．条件付き確率"
   ]
  },
  {
   "cell_type": "markdown",
   "metadata": {},
   "source": [
    "条件付き確率とは、事象Bが発生す条件下において、同時に事象Aが発生する確率である。  \n",
    "(公式)：条件付き確率  \n",
    "### $P(A|B) = \\frac{P(A∩B)}{P(B)}$  \n",
    "(公式)：条件付き確率（事象の独立）  \n",
    "### $P(A|B) = \\frac{P(A∩B)}{P(B)} = \\frac{P(A)×P(B)}{P(B)} = P(A)$  \n",
    "> 事象Aと事象Bが独立であるときの必要十分条件（事象の独立）\n",
    "> ### $P(A∩B) = P(A)×P(B)$\n"
   ]
  },
  {
   "cell_type": "code",
   "execution_count": null,
   "metadata": {},
   "outputs": [],
   "source": []
  },
  {
   "cell_type": "markdown",
   "metadata": {},
   "source": [
    "## ２．ベイズ則"
   ]
  },
  {
   "cell_type": "markdown",
   "metadata": {},
   "source": [
    "(公式)：ベイズ則  \n",
    "### $P(A∩B) = P(A)×P(B|A) = P(B)×P(A|B)$\n",
    "> 事象A：事象B  "
   ]
  },
  {
   "cell_type": "code",
   "execution_count": null,
   "metadata": {},
   "outputs": [],
   "source": []
  },
  {
   "cell_type": "markdown",
   "metadata": {},
   "source": [
    "## ３．期待値"
   ]
  },
  {
   "cell_type": "markdown",
   "metadata": {},
   "source": [
    "期待値とは、概ねの平均の値のことである。  \n",
    "\n",
    "(公式)：期待値$E(f)$  \n",
    "### $E(f) = \\sum_{k=1}^nP(X=x_k)f(X=x_k)$  \n",
    "> 事象$X = x_1, x_2, x_3, ...,x_{n-1}, x_n$  \n",
    "> 確率変数$f(X) = f(x_1), f(x_2), f(x_3), ..., f(x_{n-1}), f(x_n)$  \n",
    "> 確率$P(X) = P(x_1), P(x_2), P(x_3), .., P(x_{n-1}), P(x_n)$  \n",
    "\n",
    "(公式)：連続型確率変数$f(x)$の期待値$E(f)$  \n",
    "### $E(f) = \\int P(X=x)f(X=x)dx$  \n"
   ]
  },
  {
   "cell_type": "code",
   "execution_count": null,
   "metadata": {},
   "outputs": [],
   "source": []
  },
  {
   "cell_type": "markdown",
   "metadata": {},
   "source": [
    "## ４．分散"
   ]
  },
  {
   "cell_type": "markdown",
   "metadata": {},
   "source": [
    "分散とは、１つのデータがどの程度散らばっているのかを表す指標である。  \n",
    "(公式)：分散  \n",
    "### $\\begin{eqnarray} Var(f) = E\\Bigl (\\bigl(f_{(X = x)} - E_{(f)}\\bigl)^2 \\Bigl)\\\\\n",
    "= E\\bigl(f^2_{(X = x)}\\bigl) - \\bigl(E_{(f)}\\bigl)^2 \\end{eqnarray}$"
   ]
  },
  {
   "cell_type": "code",
   "execution_count": null,
   "metadata": {},
   "outputs": [],
   "source": []
  },
  {
   "cell_type": "markdown",
   "metadata": {},
   "source": [
    "## ５．標準偏差"
   ]
  },
  {
   "cell_type": "markdown",
   "metadata": {},
   "source": [
    "標準偏差とは、分散の値を逆演算(平方根)することである。  \n",
    "(公式)：標準偏差  \n",
    "### $\\sigma = \\sqrt{Var(f)} = \\sqrt{E \\bigl((f_{(X = x)} - E_{(f)})^2 \\bigl)}$"
   ]
  },
  {
   "cell_type": "code",
   "execution_count": null,
   "metadata": {},
   "outputs": [],
   "source": []
  },
  {
   "cell_type": "markdown",
   "metadata": {},
   "source": [
    "## ６．共分散"
   ]
  },
  {
   "cell_type": "markdown",
   "metadata": {},
   "source": [
    "共分散とは、２つのデータがどの程度散らばっているのかを表す指標である。  \n",
    "(公式)：共分散  \n",
    "### $\\begin{eqnarray}\n",
    "Cov(f(X),g(Y))&=&E\\bigg(\\Big (f(X=x)-E(f(X)) \\Big) \\Big (g(Y=y)-E(g(Y)) \\Big) \\bigg)\\\\ \n",
    "&=&E \\Big (f(X=x)g(Y=y) \\Big) - E\\Big (f(X=x) \\Big) E\\Big (g(Y=y) \\Big) \\end{eqnarray} $  \n",
    "> $f$ ：事象$X$内の$x$における確率変数  \n",
    "> $E(f)$：事象$X$における確率変数の期待値  \n",
    "> $g$：事象$Y$内の$y$における確率変数  \n",
    "> $E(g)$：事象$Y$における確率変数の期待値 "
   ]
  },
  {
   "cell_type": "code",
   "execution_count": null,
   "metadata": {},
   "outputs": [],
   "source": []
  },
  {
   "cell_type": "markdown",
   "metadata": {},
   "source": [
    "## ７．標本分散"
   ]
  },
  {
   "cell_type": "markdown",
   "metadata": {},
   "source": [
    "標本分散は、一致性は満たすが、普遍性は満たさないという特徴がある。  \n",
    "(公式)：標本分散  \n",
    "### $\\hat{\\sigma}^2 = \\dfrac{1}{n}\\Sigma_{i=1}^{n}(x_{i} - \\bar{x})^2$  \n",
    "> $\\hat{\\sigma}^2$：標本分散  \n",
    "> $n$：サンプル数  \n",
    "> $x_{1}$：標本平均"
   ]
  },
  {
   "cell_type": "code",
   "execution_count": null,
   "metadata": {},
   "outputs": [],
   "source": []
  },
  {
   "cell_type": "markdown",
   "metadata": {},
   "source": [
    "## ８．不偏分散"
   ]
  },
  {
   "cell_type": "markdown",
   "metadata": {},
   "source": [
    "(公式)：不偏分散  \n",
    "### $\\hat{\\sigma}^2 = \\dfrac{1}{n-1}\\Sigma_{i=1}^{n}(x_{i} - \\bar{x})^2$  \n",
    "> $\\hat{\\sigma}^2$：標本分散  \n",
    "> $n$：サンプル数  \n",
    "> $x_{1}$：標本平均"
   ]
  },
  {
   "cell_type": "code",
   "execution_count": null,
   "metadata": {},
   "outputs": [],
   "source": []
  },
  {
   "cell_type": "markdown",
   "metadata": {},
   "source": [
    "## ９．ベルヌーイ分布"
   ]
  },
  {
   "cell_type": "markdown",
   "metadata": {},
   "source": [
    "ベルヌーイ分布とは、裏や表(０か１)どちらかがある確率によって発生することである。  \n",
    "(公式)：ベルヌーイ分布  \n",
    "### $P(x|\\mu) = \\mu^x(1-\\mu)^{1-x}$  \n",
    "> $x$：期待した事象が発生したかどうか(表：$x$ = 1, 裏：$x$ = 0)  \n",
    "> $μ$：期待した事象の発生する確率  "
   ]
  },
  {
   "cell_type": "code",
   "execution_count": null,
   "metadata": {},
   "outputs": [],
   "source": []
  },
  {
   "cell_type": "markdown",
   "metadata": {},
   "source": [
    "## １０．二項分布"
   ]
  },
  {
   "cell_type": "markdown",
   "metadata": {},
   "source": [
    "二項分布とは、ベルヌーイ分布の多試行版の分布である。  \n",
    "(公式)：二項分布  \n",
    "### $P(x|\\lambda,n) = \\frac{n!}{x!(n - x)!}\\lambda^x(1 - \\lambda)^{n - x}$  \n",
    "> $x$：成功する確率  \n",
    "> $\\lambda$：期待する事象が起こる確率  \n",
    "> $n$：試行回数  \n",
    "\n"
   ]
  },
  {
   "cell_type": "code",
   "execution_count": null,
   "metadata": {},
   "outputs": [],
   "source": []
  },
  {
   "cell_type": "markdown",
   "metadata": {},
   "source": [
    "## １１．正規分布(ガウス分布)"
   ]
  },
  {
   "cell_type": "markdown",
   "metadata": {},
   "source": [
    "正規分布(ガウス分布)とは、真の分布が把握できなくても、サンプル数が多ければ、正規分布に近似的に従うとする分布である。  \n",
    "(公式)：正規分布(ガウス分布)  \n",
    "### $N(x:\\mu ,\\sigma^2)=\\frac{1}{\\sqrt{2\\pi}\\sigma}\\exp\\left(-\\frac{1}{2\\sigma^2}(x-\\mu)^2\\right)$"
   ]
  },
  {
   "cell_type": "code",
   "execution_count": null,
   "metadata": {},
   "outputs": [],
   "source": []
  },
  {
   "cell_type": "markdown",
   "metadata": {},
   "source": [
    "## 用語まとめ"
   ]
  },
  {
   "cell_type": "markdown",
   "metadata": {},
   "source": [
    "記述統計  \n",
    "> 集団の性質を要約して記述すること\n",
    "\n",
    "推測統計  \n",
    "> 集団から一部を抽出し、母集団の性質を推測すること  \n",
    "\n",
    "確率変数  \n",
    "> 事象と結びつけられた数値のこと  \n",
    "\n",
    "確率分布  \n",
    "> 事象の発生する確率の分布を指す。離散値なら表に示すことができる。\n",
    "\n",
    "推定  \n",
    "> 母数：調査対象全てのデータを指す\n",
    "> 母集団：母集団を特徴付ける数値のことを指す  \n",
    ">> 点推定  \n",
    ">> １つの値を基準に推定すること  \n",
    ">> 区間推定  \n",
    ">> 範囲(信頼区間)を推定すること  \n",
    "\n",
    "推定量(estimator)  \n",
    "> パラメータを推定するために利用する数値の計算方法や計算式のこと  \n",
    "\n",
    "推定値(estimate)  \n",
    "> 実際に試行を実施した結果から計算した値のこと\n",
    "\n",
    "標本平均$E(\\hat{\\theta})$  \n",
    "> 母集団から標本を抽出して平均値を求める方法  \n",
    ">> 一致性：サンプル($n$)が増えるほど母集団の値に近似するという性質  \n",
    ">> 普偏性：サンプル($n$)の大きさに関わらず、その期待値が母集団の母数と同じという性質($E(\\hat{\\theta}) = 0$)  \n",
    "\n"
   ]
  },
  {
   "cell_type": "markdown",
   "metadata": {},
   "source": []
  },
  {
   "cell_type": "markdown",
   "metadata": {},
   "source": []
  },
  {
   "cell_type": "code",
   "execution_count": null,
   "metadata": {},
   "outputs": [],
   "source": []
  },
  {
   "cell_type": "markdown",
   "metadata": {},
   "source": [
    "# 〇情報科学"
   ]
  },
  {
   "cell_type": "markdown",
   "metadata": {},
   "source": [
    "## １.自己情報量$I(x)$"
   ]
  },
  {
   "cell_type": "markdown",
   "metadata": {},
   "source": [
    "情報量は確率$P(x)$を用いて表現する。情報量と確率$P(x)$には反比例の関係がある。  \n",
    "(公式)：自己情報量$I(x)$\n",
    "#### $I(x) = -\\log P(x) = \\log(W(x))$  \n",
    "> $P(x)$：確率  \n",
    "> $x$：事象  \n",
    "> $W(x)$：事象$(x)$のときの情報量  \n",
    "> $\\log(W(x))$：事象$(x)$のときの情報量の大きさを対数で表現したもの\n",
    "\n",
    "(単位)  \n",
    "\"bit\"：対数の底が２のとき  \n",
    "\"nat\"：対数の底がe(ネイピア数)のとき"
   ]
  },
  {
   "cell_type": "markdown",
   "metadata": {},
   "source": []
  },
  {
   "cell_type": "markdown",
   "metadata": {},
   "source": [
    "## ２.シャノンエントロピー(平均情報量)"
   ]
  },
  {
   "cell_type": "markdown",
   "metadata": {},
   "source": [
    "シャノンエントロピーとは、自己情報量の期待値(事象$x$の平均値)のことを指す。  \n",
    "(公式)：シャノンエントロピー(平均情報量)  \n",
    "#### $H(x) = E \\big(I(x)\\big) = -E \\big(\\log\\big(P(x)\\big)\\big) = -\\sum\\big (P(x)\\log\\big(P(x)\\big)\\big)$"
   ]
  },
  {
   "cell_type": "markdown",
   "metadata": {},
   "source": []
  },
  {
   "cell_type": "markdown",
   "metadata": {},
   "source": [
    "## ３.カルバック・ライブラー・ダイバージェンス(Kullback-Leibler divergence)"
   ]
  },
  {
   "cell_type": "markdown",
   "metadata": {},
   "source": [
    "カルバック・ライブラー・ダイバージェンスとは、同じ事象・確率変数において、異なる確率分布$P$と確率分布$Q$の違いを表すものである。  \n",
    "(公式)：カルバック・ライブラー・ダイバージェンス(Kullback-Leibler divergence)  \n",
    "#### $D_{KL}(P\\, ||Q)=E_{X\\sim P}\\left[\\log\\frac{P(x)}{Q(x)}\\right]=E_{X\\sim P}\\left[\\log P(x)-\\log Q(x) \\right]$  \n",
    "> 次の要素を公式に代入して式を変形をする  \n",
    ">> $I_Q(x) = -\\log Q(x)$：$I_Q(x)$：最初に想定した情報の珍しさ  \n",
    ">> $I_P(x) = -\\log P(x)$：$I_P(x)$：実際に測定して判明した情報の珍しさ  \n",
    "> #### $\\big(I_{Q}(x)\\big) - \\big(I_{P}(x)\\big) = \\big(-\\log\\big(Q(x)\\big)\\big) - \\big(-\\log\\big(P(x)\\big)\\big) = \\log\\frac{P(x)}{Q(x)}$  \n"
   ]
  },
  {
   "cell_type": "markdown",
   "metadata": {},
   "source": []
  },
  {
   "cell_type": "markdown",
   "metadata": {},
   "source": [
    "## ４.交差エントロピー(cross entropy)"
   ]
  },
  {
   "cell_type": "markdown",
   "metadata": {},
   "source": [
    "交差エントロピーとは、カルバック・ライブラー・ダイバージェンスの一部分を取り出したものである。確率分布$P$と確率分布$Q$の２つがどの程度離れているのかを表している。  \n",
    "(公式)：交差エントロピー(cross entropy)  \n",
    "#### $H(P,Q) = H(P) + D_{KL}(P||Q)$  \n"
   ]
  },
  {
   "cell_type": "markdown",
   "metadata": {},
   "source": [
    "> H(P,Q)：交差エントロピー(cross entropy)  \n",
    "> P：事前に想定した確率分布  \n",
    "> Q：実際に測定して発生した確率分布  \n",
    "> H(P)：シャノンエントロピー(平均情報量)：自己情報量の期待値  \n",
    "> D_{KL}(P||Q)：カルバック・ライブラー・ダイバージェンス(Kullback-Leibler divergence)  "
   ]
  },
  {
   "cell_type": "markdown",
   "metadata": {},
   "source": []
  },
  {
   "cell_type": "markdown",
   "metadata": {},
   "source": []
  }
 ],
 "metadata": {
  "kernelspec": {
   "display_name": "Python 3",
   "language": "python",
   "name": "python3"
  },
  "language_info": {
   "codemirror_mode": {
    "name": "ipython",
    "version": 3
   },
   "file_extension": ".py",
   "mimetype": "text/x-python",
   "name": "python",
   "nbconvert_exporter": "python",
   "pygments_lexer": "ipython3",
   "version": "3.7.4"
  }
 },
 "nbformat": 4,
 "nbformat_minor": 4
}
