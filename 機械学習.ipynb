{
 "cells": [
  {
   "cell_type": "markdown",
   "metadata": {},
   "source": [
    "# 〇機械学習"
   ]
  },
  {
   "cell_type": "markdown",
   "metadata": {},
   "source": [
    "機械学習とは、学習シナリオをコンピューターに与え、それが解けるようにするために訓練させるイメージである。  \n",
    "学習シナリオは主に\"教師あり学習\"・\"教師なし学習\"・\"強化学習\"の３つに分類することができる。  \n",
    "\n",
    "## １．教師あり学習  \n",
    "教師あり学習とは、入力データと出力データから、そのデータを説明することができる評価関数を生成する手法である。  \n",
    "教師あり学習は\"分類\"と\"回帰\"の手法がある。  \n",
    "> #### ・分類：サポート・ベクター・マシーン(SVM)/ランダムフォレスト(決定木)  \n",
    "> #### ・回帰：線形回帰/ランダムフォレスト(決定木)  \n",
    "\n",
    ">> (メリット)  \n",
    ">> (1)特徴量を自動生成することできる  \n",
    ">> (2)ビックデータの解析に用いることができる  \n",
    "\n",
    ">> (デメリット)  \n",
    ">> (1)大量の学習データを用意する必要がある  \n",
    ">> (2)入力データの扱いにスキルが求められる  \n",
    ">> (3)機械学習の結果は学習データに依存する  \n",
    ">> (4)機械学習で得られた結果に至る理由が不透明になること(ブラックボックス化)  \n",
    "\n",
    "## ２．教師なし学習  \n",
    "教師なし学習とは、入力データのみを使用して、そのデータから説明できる評価関数を生成する手法である。  \n",
    "教師なし学習は、主に\"クラスタリング\"と\"次元削減\"の２つに分類することができる。  \n",
    "> #### ・クラスタリング：K平均法(k-means法) / 階層クラスタリング(クラスター分析) / 自己組織化写像(SOFM)  \n",
    "> #### ・次元削減：主成分分析(PCA) / 因子分析  \n",
    "\n",
    "## ３．強化学習  \n",
    "強化学習とは、設定した条件において、目的を最大化するために、取るべき行動を決定する手法である。  \n",
    "\n",
    "### ＜全体を通して＞\n",
    "これらの機械学習の手法を扱うためには、応用数学の知識が要求される。(線形代数・微分積分・確率/統計・情報理論)  \n",
    "そのため、それらの学識がない場合、機械学習の使用は避けることが望ましい。  \n",
    "機械学習に用いるデータは、機械学習で適切に扱うことができるようにするために、欠損値や異常値などの加工処理は必須である。"
   ]
  },
  {
   "cell_type": "code",
   "execution_count": null,
   "metadata": {},
   "outputs": [],
   "source": []
  },
  {
   "cell_type": "code",
   "execution_count": null,
   "metadata": {},
   "outputs": [],
   "source": []
  },
  {
   "cell_type": "code",
   "execution_count": null,
   "metadata": {},
   "outputs": [],
   "source": []
  },
  {
   "cell_type": "markdown",
   "metadata": {},
   "source": [
    "## 〇機械学習の定義(トム・ミッチェルによる機械学習の定義(1997))"
   ]
  },
  {
   "cell_type": "markdown",
   "metadata": {},
   "source": [
    "・コンピュータープログラムは、\"タスクT\"を\"性能評価P\"で測定し、その性能が\"経験E\"により改善される場合、\"タスクT\"及び\"性能評価P\"に関して\"経験E\"から学習すると言われている。  \n",
    "> タスクT：アプリケーションにさせたいこと  \n",
    "> 性能評価P：予想と実際の差  \n",
    "> 経験E：データ  \n",
    "\n",
    "・人がプログラムするのは認識の仕方ではく学習の仕方"
   ]
  },
  {
   "cell_type": "code",
   "execution_count": null,
   "metadata": {},
   "outputs": [],
   "source": []
  },
  {
   "cell_type": "code",
   "execution_count": null,
   "metadata": {},
   "outputs": [],
   "source": []
  },
  {
   "cell_type": "code",
   "execution_count": null,
   "metadata": {},
   "outputs": [],
   "source": []
  },
  {
   "cell_type": "markdown",
   "metadata": {},
   "source": [
    "# 〇線形回帰  \n",
    "線形回帰とは、目的変数が説明変数の係数に対して線形なモデルを学習するものであり、\"教師あり学習\"の１つである。  "
   ]
  },
  {
   "cell_type": "markdown",
   "metadata": {},
   "source": [
    "## １．回帰問題  \n",
    "回帰問題とは、ある入力値(離散値または連続値)から出力値(連続値)を予測する問題である。  \n",
    "> ・直線(1次関数)を扱う場合：線形回帰(Linear Regression)  \n",
    "> ・曲線(1次関数以外)を扱う場合：非線形回帰(Nolinear Regression)  \n",
    "\n",
    "## ２．回帰で扱うデータ  \n",
    "回帰で扱うデータは、説明変数($x \\in \\mathbb{R}^{m}$)を使用して目的変数($y \\in \\mathbb{R}^{m}$)を予測する。  \n",
    "\n",
    "#### ・説明変数(＝入力値)  \n",
    "> ### $x = (x_{1}, x_{2}, x_{3} ..., x_{m})^{T} \\in \\mathbb{R}^{m}$  \n",
    ">> $x$：説明変数  \n",
    ">> $m$：$m$次元のベクトル  \n",
    ">> $x_{1}, x_{2}, x_{3}, ..., x_{m}$：各要素の説明変数(特徴量)  \n",
    ">> $\\mathbb{R}$：実数(慣例として太文字で記述する)\n",
    "\n",
    "#### ・目的変数(＝出力値)  \n",
    "> ### $y \\in \\mathbb{R}^{m}$  \n",
    ">> $m$：$m$次元のベクトル  \n",
    ">> $\\mathbb{R}$：実数(慣例として太文字で記述する)  \n",
    "\n",
    "## ３．線形回帰モデル(Linear Regression)\n",
    "#### ・パラメータ  \n",
    "> ### $\\boldsymbol{w} = (w_{1}, w_{2}, w_{3}, ..., w_{m})^{T} \\in \\mathbb{R}^{m}$  \n",
    ">> $\\boldsymbol{w}$：学習モデルのパラメータ  \n",
    ">> $m$：$m$次元のベクトル  \n",
    "\n",
    "## ４．線形結合(Linear Combination)  \n",
    "#### ・線形結合  \n",
    "> ### $\\hat{y} = \\boldsymbol{w}^{T}\\boldsymbol{x} + w_{0} = \\sum_{j=1}^{m} w_{j}x_{j} + w_{0}$  \n",
    ">> $\\hat{y}$：予測値(※目的変数$(y)$と区別するため\"^\"を付ける)  \n",
    ">> $\\boldsymbol{w}^{T}$：学習モデルのパラメータ  \n",
    ">> $x$：説明変数  \n",
    ">> $w_{0}$：切片  \n",
    ">> $j$：次元数  \n",
    ">> $m$：学習モデルのパラメータ、説明変数の次元数  \n",
    "\n",
    "## ５．回帰モデル  \n",
    "#### 5.1. 単回帰モデル  \n",
    "単回帰モデルとは、説明変数($x_{1}$)が1次元の場合をいう(直線の式)  \n",
    "単回帰モデルでは、説明変数($x_{1}$)と目的変数($y$)は既知であるため、($\\varepsilon$)が最小となるパラメータ($w_{0}$/$w_{1}$)を設定する。\n",
    "### $・y = w_{0} + w_{1}x_{1} + \\varepsilon$\n",
    "> $y$：目的変数  \n",
    "> $w_{0}$：切片  \n",
    "> $w_{1}$：回帰係数  \n",
    "> $x_{1}$：説明変数  \n",
    "> $\\varepsilon$：誤差  \n",
    "\n",
    "#### 5.2. 重回帰モデル  \n",
    "重回帰モデルとは、説明変数($x$)が1次元以上の場合をいう(曲線の式)  \n",
    "### $\\begin{eqnarray} ・y = w_{0} + w_{1}x_{1} + \\cdots + w_{m}x_{m} + \\varepsilon\\\\ = w_0 + \\sum_{k=1}^m w_kx_k+\\epsilon \\end{eqnarray}$  \n",
    "> $y$：目的変数  \n",
    "> $w_{0}$：切片  \n",
    "> $w_{1},w_{2},w_{3},\\cdots,w_{m}$：回帰係数  \n",
    "> $x_{1},x_{2},x_{3},\\cdots,X_{m}$：説明変数  \n",
    "\n",
    "## ６．線形回帰モデルのパラメータ推定  \n",
    "\n",
    "線形回帰モデルのパラメータは\"最小二乗法\"で推定する。  \n",
    "### ・最小二乗法  \n",
    "学習データに関して「平均二乗誤差」が最小となるパラメータを探索する手法である。  \n",
    "> ### ・平均二乗誤差(=残差平方和(Mean Squared Error：MSE))  \n",
    ">> ##### $MSE_{train} = \\dfrac{1}{n_{train}}\\sum\\nolimits_{K=1}^{n_{train}}(\\hat{y}_{K}^{(train)} - y_{K}^{(train)})^{2}$  \n",
    "\n",
    "> パラメータを微分したときに'0'となる点(勾配=0)を求めると、回帰係数$W$が計算できる。  \n",
    ">> #### $\\dfrac{\\partial}{\\partial \\boldsymbol{w}} MSE_{train} = 0$ \n",
    "\n"
   ]
  },
  {
   "cell_type": "code",
   "execution_count": null,
   "metadata": {},
   "outputs": [],
   "source": []
  },
  {
   "cell_type": "code",
   "execution_count": null,
   "metadata": {},
   "outputs": [],
   "source": []
  },
  {
   "cell_type": "code",
   "execution_count": null,
   "metadata": {},
   "outputs": [],
   "source": []
  },
  {
   "cell_type": "markdown",
   "metadata": {},
   "source": [
    "# 〇線形回帰の演習(ボストン住宅データセット)"
   ]
  },
  {
   "cell_type": "markdown",
   "metadata": {},
   "source": [
    "## １. 演習データとライブラリをインストールする"
   ]
  },
  {
   "cell_type": "code",
   "execution_count": 1,
   "metadata": {},
   "outputs": [
    {
     "name": "stderr",
     "output_type": "stream",
     "text": [
      "/opt/anaconda3/lib/python3.7/site-packages/ipykernel_launcher.py:4: FutureWarning: pandas.util.testing is deprecated. Use the functions in the public API at pandas.testing instead.\n",
      "  after removing the cwd from sys.path.\n"
     ]
    },
    {
     "name": "stdout",
     "output_type": "stream",
     "text": [
      "〇boston_data01_X(説明変数)：(データ数＆特微量) (506, 13)\n",
      "〇boston_data01_Y(目的変数)：(データ数＆特微量) (506,)\n"
     ]
    }
   ],
   "source": [
    "# ライブラリ（共通）\n",
    "import numpy as np\n",
    "import pandas as pd\n",
    "import pandas.util.testing as tm\n",
    "import seaborn as sns\n",
    "import japanize_matplotlib\n",
    "import matplotlib.pyplot as plt\n",
    "%matplotlib inline\n",
    "# ------------------------------------------------------------------------------\n",
    "# サンプルデータ(ボストン住宅セット)\n",
    "from sklearn.datasets import load_boston\n",
    "\n",
    "# サンプルデータを格納する\n",
    "boston_data01 = load_boston()\n",
    "# .dataに\"データ\"が格納されている(説明変数)\n",
    "boston_data01_X = boston_data01.data\n",
    "# .targetに\"カテゴリ\"が格納されている(目的変数)\n",
    "boston_data01_Y = boston_data01.target\n",
    "# .feature_namesにデータのカラム名が格納されている\n",
    "boston_data01_feature_names = boston_data01.feature_names\n",
    "# .DESCRにデータの詳細な記述が格納されている\n",
    "boston_data01_DESCR = boston_data01.DESCR\n",
    "# ------------------------------------------------------------------------------\n",
    "# 格納したデータのデータ数と特徴量を確認する\n",
    "print('〇boston_data01_X(説明変数)：(データ数＆特微量)', boston_data01_X.shape)\n",
    "print('〇boston_data01_Y(目的変数)：(データ数＆特微量)', boston_data01_Y.shape)"
   ]
  },
  {
   "cell_type": "markdown",
   "metadata": {},
   "source": [
    "## ２. 演習データのデータフレームを作成する"
   ]
  },
  {
   "cell_type": "code",
   "execution_count": 2,
   "metadata": {},
   "outputs": [
    {
     "data": {
      "text/html": [
       "<div>\n",
       "<style scoped>\n",
       "    .dataframe tbody tr th:only-of-type {\n",
       "        vertical-align: middle;\n",
       "    }\n",
       "\n",
       "    .dataframe tbody tr th {\n",
       "        vertical-align: top;\n",
       "    }\n",
       "\n",
       "    .dataframe thead th {\n",
       "        text-align: right;\n",
       "    }\n",
       "</style>\n",
       "<table border=\"1\" class=\"dataframe\">\n",
       "  <thead>\n",
       "    <tr style=\"text-align: right;\">\n",
       "      <th></th>\n",
       "      <th>CRIM</th>\n",
       "      <th>ZN</th>\n",
       "      <th>INDUS</th>\n",
       "      <th>CHAS</th>\n",
       "      <th>NOX</th>\n",
       "      <th>RM</th>\n",
       "      <th>AGE</th>\n",
       "      <th>DIS</th>\n",
       "      <th>RAD</th>\n",
       "      <th>TAX</th>\n",
       "      <th>PTRATIO</th>\n",
       "      <th>B</th>\n",
       "      <th>LSTAT</th>\n",
       "      <th>PRICE</th>\n",
       "    </tr>\n",
       "  </thead>\n",
       "  <tbody>\n",
       "    <tr>\n",
       "      <th>0</th>\n",
       "      <td>0.00632</td>\n",
       "      <td>18.0</td>\n",
       "      <td>2.31</td>\n",
       "      <td>0.0</td>\n",
       "      <td>0.538</td>\n",
       "      <td>6.575</td>\n",
       "      <td>65.2</td>\n",
       "      <td>4.0900</td>\n",
       "      <td>1.0</td>\n",
       "      <td>296.0</td>\n",
       "      <td>15.3</td>\n",
       "      <td>396.90</td>\n",
       "      <td>4.98</td>\n",
       "      <td>24.0</td>\n",
       "    </tr>\n",
       "    <tr>\n",
       "      <th>1</th>\n",
       "      <td>0.02731</td>\n",
       "      <td>0.0</td>\n",
       "      <td>7.07</td>\n",
       "      <td>0.0</td>\n",
       "      <td>0.469</td>\n",
       "      <td>6.421</td>\n",
       "      <td>78.9</td>\n",
       "      <td>4.9671</td>\n",
       "      <td>2.0</td>\n",
       "      <td>242.0</td>\n",
       "      <td>17.8</td>\n",
       "      <td>396.90</td>\n",
       "      <td>9.14</td>\n",
       "      <td>21.6</td>\n",
       "    </tr>\n",
       "    <tr>\n",
       "      <th>2</th>\n",
       "      <td>0.02729</td>\n",
       "      <td>0.0</td>\n",
       "      <td>7.07</td>\n",
       "      <td>0.0</td>\n",
       "      <td>0.469</td>\n",
       "      <td>7.185</td>\n",
       "      <td>61.1</td>\n",
       "      <td>4.9671</td>\n",
       "      <td>2.0</td>\n",
       "      <td>242.0</td>\n",
       "      <td>17.8</td>\n",
       "      <td>392.83</td>\n",
       "      <td>4.03</td>\n",
       "      <td>34.7</td>\n",
       "    </tr>\n",
       "    <tr>\n",
       "      <th>3</th>\n",
       "      <td>0.03237</td>\n",
       "      <td>0.0</td>\n",
       "      <td>2.18</td>\n",
       "      <td>0.0</td>\n",
       "      <td>0.458</td>\n",
       "      <td>6.998</td>\n",
       "      <td>45.8</td>\n",
       "      <td>6.0622</td>\n",
       "      <td>3.0</td>\n",
       "      <td>222.0</td>\n",
       "      <td>18.7</td>\n",
       "      <td>394.63</td>\n",
       "      <td>2.94</td>\n",
       "      <td>33.4</td>\n",
       "    </tr>\n",
       "    <tr>\n",
       "      <th>4</th>\n",
       "      <td>0.06905</td>\n",
       "      <td>0.0</td>\n",
       "      <td>2.18</td>\n",
       "      <td>0.0</td>\n",
       "      <td>0.458</td>\n",
       "      <td>7.147</td>\n",
       "      <td>54.2</td>\n",
       "      <td>6.0622</td>\n",
       "      <td>3.0</td>\n",
       "      <td>222.0</td>\n",
       "      <td>18.7</td>\n",
       "      <td>396.90</td>\n",
       "      <td>5.33</td>\n",
       "      <td>36.2</td>\n",
       "    </tr>\n",
       "  </tbody>\n",
       "</table>\n",
       "</div>"
      ],
      "text/plain": [
       "      CRIM    ZN  INDUS  CHAS    NOX     RM   AGE     DIS  RAD    TAX  \\\n",
       "0  0.00632  18.0   2.31   0.0  0.538  6.575  65.2  4.0900  1.0  296.0   \n",
       "1  0.02731   0.0   7.07   0.0  0.469  6.421  78.9  4.9671  2.0  242.0   \n",
       "2  0.02729   0.0   7.07   0.0  0.469  7.185  61.1  4.9671  2.0  242.0   \n",
       "3  0.03237   0.0   2.18   0.0  0.458  6.998  45.8  6.0622  3.0  222.0   \n",
       "4  0.06905   0.0   2.18   0.0  0.458  7.147  54.2  6.0622  3.0  222.0   \n",
       "\n",
       "   PTRATIO       B  LSTAT  PRICE  \n",
       "0     15.3  396.90   4.98   24.0  \n",
       "1     17.8  396.90   9.14   21.6  \n",
       "2     17.8  392.83   4.03   34.7  \n",
       "3     18.7  394.63   2.94   33.4  \n",
       "4     18.7  396.90   5.33   36.2  "
      ]
     },
     "execution_count": 2,
     "metadata": {},
     "output_type": "execute_result"
    }
   ],
   "source": [
    "# 格納したデータ(説明変数)を変換する(pd.DataFrame)\n",
    "df = pd.DataFrame(data=boston_data01_X, columns=boston_data01_feature_names)\n",
    "# 格納した\"カテゴリ\"(目的変数)をデータフレームに追加する※カテゴリ(PRICE)\n",
    "df['PRICE'] = boston_data01_Y\n",
    "# 格納したデータの全体像を簡易的に表示する(.head())\n",
    "df.head() # デフォルト値は(5)"
   ]
  },
  {
   "cell_type": "markdown",
   "metadata": {},
   "source": [
    "## ３. 線形単回帰分析(説明変数が１つの場合)"
   ]
  },
  {
   "cell_type": "code",
   "execution_count": 3,
   "metadata": {},
   "outputs": [
    {
     "name": "stdout",
     "output_type": "stream",
     "text": [
      "〇データフレームのカラムまとめ\n",
      " Index(['CRIM', 'ZN', 'INDUS', 'CHAS', 'NOX', 'RM', 'AGE', 'DIS', 'RAD', 'TAX',\n",
      "       'PTRATIO', 'B', 'LSTAT', 'PRICE'],\n",
      "      dtype='object')\n"
     ]
    },
    {
     "data": {
      "text/html": [
       "<div>\n",
       "<style scoped>\n",
       "    .dataframe tbody tr th:only-of-type {\n",
       "        vertical-align: middle;\n",
       "    }\n",
       "\n",
       "    .dataframe tbody tr th {\n",
       "        vertical-align: top;\n",
       "    }\n",
       "\n",
       "    .dataframe thead th {\n",
       "        text-align: right;\n",
       "    }\n",
       "</style>\n",
       "<table border=\"1\" class=\"dataframe\">\n",
       "  <thead>\n",
       "    <tr style=\"text-align: right;\">\n",
       "      <th></th>\n",
       "      <th>RM</th>\n",
       "    </tr>\n",
       "  </thead>\n",
       "  <tbody>\n",
       "    <tr>\n",
       "      <th>0</th>\n",
       "      <td>6.575</td>\n",
       "    </tr>\n",
       "    <tr>\n",
       "      <th>1</th>\n",
       "      <td>6.421</td>\n",
       "    </tr>\n",
       "    <tr>\n",
       "      <th>2</th>\n",
       "      <td>7.185</td>\n",
       "    </tr>\n",
       "    <tr>\n",
       "      <th>3</th>\n",
       "      <td>6.998</td>\n",
       "    </tr>\n",
       "    <tr>\n",
       "      <th>4</th>\n",
       "      <td>7.147</td>\n",
       "    </tr>\n",
       "  </tbody>\n",
       "</table>\n",
       "</div>"
      ],
      "text/plain": [
       "      RM\n",
       "0  6.575\n",
       "1  6.421\n",
       "2  7.185\n",
       "3  6.998\n",
       "4  7.147"
      ]
     },
     "execution_count": 3,
     "metadata": {},
     "output_type": "execute_result"
    }
   ],
   "source": [
    "# データフレームのカラム名を確認する(.columns)\n",
    "df_columns = df.columns\n",
    "print('〇データフレームのカラムまとめ\\n', df_columns)\n",
    "# カラム名を指名してデータの中身を表示する\n",
    "df[['RM']].head()"
   ]
  },
  {
   "cell_type": "code",
   "execution_count": 4,
   "metadata": {},
   "outputs": [
    {
     "name": "stdout",
     "output_type": "stream",
     "text": [
      "〇df_RM(説明変数)：(データ数＆特微量) (506, 1)\n",
      "〇df_RM(説明変数)：リストの一部を表示する\n",
      " [[6.575]\n",
      " [6.421]\n",
      " [7.185]\n",
      " [6.998]\n",
      " [7.147]]\n"
     ]
    }
   ],
   "source": [
    "# 説明変数を生成する\n",
    "df_RM = df.loc[:,['RM']].values # 'dframe'に変換する\n",
    "print('〇df_RM(説明変数)：(データ数＆特微量)', df_RM.shape)\n",
    "print('〇df_RM(説明変数)：リストの一部を表示する\\n', df_RM[0:5])"
   ]
  },
  {
   "cell_type": "code",
   "execution_count": 5,
   "metadata": {},
   "outputs": [
    {
     "name": "stdout",
     "output_type": "stream",
     "text": [
      "〇df_PRICE(目的変数)：(データ数＆特微量) (506, 1)\n",
      "〇df_PRICE(目的変数)：リストの一部を表示する\n",
      " [[24. ]\n",
      " [21.6]\n",
      " [34.7]\n",
      " [33.4]\n",
      " [36.2]]\n"
     ]
    }
   ],
   "source": [
    "# 目的変数を生成する\n",
    "df_PRICE = df.loc[:,['PRICE']].values # 'dframe'に変換する\n",
    "print('〇df_PRICE(目的変数)：(データ数＆特微量)', df_PRICE.shape)\n",
    "print('〇df_PRICE(目的変数)：リストの一部を表示する\\n', df_PRICE[0:5])"
   ]
  },
  {
   "cell_type": "markdown",
   "metadata": {},
   "source": [
    "#### 作成した説明変数(df_RM)と目的変数(df_PRICE)を用いて学習をする"
   ]
  },
  {
   "cell_type": "code",
   "execution_count": 6,
   "metadata": {},
   "outputs": [
    {
     "data": {
      "text/plain": [
       "array([[-25.5685118]])"
      ]
     },
     "execution_count": 6,
     "metadata": {},
     "output_type": "execute_result"
    }
   ],
   "source": [
    "# (1.0)ライブラリ(線形回帰モデル)\n",
    "from sklearn.linear_model import LinearRegression\n",
    "\n",
    "# (1.1)識別機を生成する\n",
    "clf_reg = LinearRegression()\n",
    "# (1.2)学習データで学習する(.fit)\n",
    "clf_reg.fit(df_RM, df_PRICE) #引数(説明変数、目的変数)\n",
    "# (1.3)学習したデータを用いて\"予測\"する(.predict)\n",
    "clf_reg.predict([[1]])"
   ]
  },
  {
   "cell_type": "code",
   "execution_count": 7,
   "metadata": {},
   "outputs": [
    {
     "name": "stdout",
     "output_type": "stream",
     "text": [
      "〇回帰係数 [[9.10210898]]\n",
      "〇切片 [-34.67062078]\n"
     ]
    }
   ],
   "source": [
    "# (2.1)学習したデータの回帰係数を算出する(.coef_)\n",
    "print('〇回帰係数', clf_reg.coef_)\n",
    "# (2.2)学習したデータの切片を算出する(.intercept_)\n",
    "print('〇切片', clf_reg.intercept_)"
   ]
  },
  {
   "cell_type": "markdown",
   "metadata": {},
   "source": [
    "## ４. 線形重回帰分析(説明変数が１つ以上の場合)"
   ]
  },
  {
   "cell_type": "code",
   "execution_count": 8,
   "metadata": {},
   "outputs": [
    {
     "name": "stdout",
     "output_type": "stream",
     "text": [
      "〇データフレームのカラムまとめ\n",
      " Index(['CRIM', 'ZN', 'INDUS', 'CHAS', 'NOX', 'RM', 'AGE', 'DIS', 'RAD', 'TAX',\n",
      "       'PTRATIO', 'B', 'LSTAT', 'PRICE'],\n",
      "      dtype='object')\n"
     ]
    },
    {
     "data": {
      "text/html": [
       "<div>\n",
       "<style scoped>\n",
       "    .dataframe tbody tr th:only-of-type {\n",
       "        vertical-align: middle;\n",
       "    }\n",
       "\n",
       "    .dataframe tbody tr th {\n",
       "        vertical-align: top;\n",
       "    }\n",
       "\n",
       "    .dataframe thead th {\n",
       "        text-align: right;\n",
       "    }\n",
       "</style>\n",
       "<table border=\"1\" class=\"dataframe\">\n",
       "  <thead>\n",
       "    <tr style=\"text-align: right;\">\n",
       "      <th></th>\n",
       "      <th>CRIM</th>\n",
       "      <th>RM</th>\n",
       "    </tr>\n",
       "  </thead>\n",
       "  <tbody>\n",
       "    <tr>\n",
       "      <th>0</th>\n",
       "      <td>0.00632</td>\n",
       "      <td>6.575</td>\n",
       "    </tr>\n",
       "    <tr>\n",
       "      <th>1</th>\n",
       "      <td>0.02731</td>\n",
       "      <td>6.421</td>\n",
       "    </tr>\n",
       "    <tr>\n",
       "      <th>2</th>\n",
       "      <td>0.02729</td>\n",
       "      <td>7.185</td>\n",
       "    </tr>\n",
       "    <tr>\n",
       "      <th>3</th>\n",
       "      <td>0.03237</td>\n",
       "      <td>6.998</td>\n",
       "    </tr>\n",
       "    <tr>\n",
       "      <th>4</th>\n",
       "      <td>0.06905</td>\n",
       "      <td>7.147</td>\n",
       "    </tr>\n",
       "  </tbody>\n",
       "</table>\n",
       "</div>"
      ],
      "text/plain": [
       "      CRIM     RM\n",
       "0  0.00632  6.575\n",
       "1  0.02731  6.421\n",
       "2  0.02729  7.185\n",
       "3  0.03237  6.998\n",
       "4  0.06905  7.147"
      ]
     },
     "execution_count": 8,
     "metadata": {},
     "output_type": "execute_result"
    }
   ],
   "source": [
    "# データフレームのカラム名を確認する(.columns)\n",
    "df_columns = df.columns\n",
    "print('〇データフレームのカラムまとめ\\n', df_columns)\n",
    "# カラム名を２つ指名してデータの中身を表示する\n",
    "df[['CRIM', 'RM']].head()"
   ]
  },
  {
   "cell_type": "code",
   "execution_count": 9,
   "metadata": {},
   "outputs": [
    {
     "name": "stdout",
     "output_type": "stream",
     "text": [
      "〇df_RM_CRIM(説明変数２つ)：(データ数＆特微量) (506, 2)\n",
      "〇df_RM_CRIM(説明変数２つ)：リストの一部を表示する\n",
      " [[6.575e+00 6.320e-03]\n",
      " [6.421e+00 2.731e-02]\n",
      " [7.185e+00 2.729e-02]\n",
      " [6.998e+00 3.237e-02]\n",
      " [7.147e+00 6.905e-02]]\n"
     ]
    }
   ],
   "source": [
    "# 説明変数を２つ生成する\n",
    "df_RM_CRIM = df.loc[:,['RM', 'CRIM']].values # 'dframe'に変換する\n",
    "print('〇df_RM_CRIM(説明変数２つ)：(データ数＆特微量)', df_RM_CRIM.shape)\n",
    "print('〇df_RM_CRIM(説明変数２つ)：リストの一部を表示する\\n', df_RM_CRIM[0:5])"
   ]
  },
  {
   "cell_type": "code",
   "execution_count": 10,
   "metadata": {},
   "outputs": [
    {
     "name": "stdout",
     "output_type": "stream",
     "text": [
      "〇df_PRICE(目的変数)：(データ数＆特微量) (506, 1)\n",
      "〇df_PRICE(目的変数)：リストの一部を表示する\n",
      " [[24. ]\n",
      " [21.6]\n",
      " [34.7]\n",
      " [33.4]\n",
      " [36.2]]\n"
     ]
    }
   ],
   "source": [
    "# 目的変数を生成する\n",
    "df_PRICE = df.loc[:,['PRICE']].values # 'dframe'に変換する\n",
    "print('〇df_PRICE(目的変数)：(データ数＆特微量)', df_PRICE.shape)\n",
    "print('〇df_PRICE(目的変数)：リストの一部を表示する\\n', df_PRICE[0:5])"
   ]
  },
  {
   "cell_type": "markdown",
   "metadata": {},
   "source": [
    "### ※課題※：部屋数４(RM)で犯罪率が0.3(CRIM)の物件の価格を予測する"
   ]
  },
  {
   "cell_type": "code",
   "execution_count": 11,
   "metadata": {},
   "outputs": [
    {
     "name": "stdout",
     "output_type": "stream",
     "text": [
      "〇回帰係数(\"RM\"と\"CRIM\") [[ 8.39106825 -0.26491325]]\n",
      "〇切片 [-29.24471945]\n"
     ]
    },
    {
     "data": {
      "text/plain": [
       "array([[4.24007956]])"
      ]
     },
     "execution_count": 11,
     "metadata": {},
     "output_type": "execute_result"
    }
   ],
   "source": [
    "# (1.0)ライブラリ(線形回帰モデル)\n",
    "from sklearn.linear_model import LinearRegression\n",
    "\n",
    "# (1.1)識別機を生成する\n",
    "clf_reg = LinearRegression()\n",
    "# (1.2)学習データで学習する(.fit)\n",
    "clf_reg.fit(df_RM_CRIM, df_PRICE) #引数(説明変数、目的変数)\n",
    "# ---------------------------------------------------------------\n",
    "# (2.1)学習したデータの回帰係数を算出する(.coef_)\n",
    "print('〇回帰係数(\"RM\"と\"CRIM\")', clf_reg.coef_)\n",
    "# (2.2)学習したデータの切片を算出する(.intercept_)\n",
    "print('〇切片', clf_reg.intercept_)\n",
    "# ---------------------------------------------------------------\n",
    "# (課題)学習したデータを用いて\"予測\"する(.predict(['RM', 'CRIM']))\n",
    "clf_reg.predict([[4, 0.3]])"
   ]
  },
  {
   "cell_type": "markdown",
   "metadata": {},
   "source": [
    "## ５. 回帰係数と切片を求める\n",
    "#### 回帰係数 = (.coef_) / 切片 = (.intercept_)"
   ]
  },
  {
   "cell_type": "markdown",
   "metadata": {},
   "source": [
    "## ６. モデルを検証する(決定係数)"
   ]
  },
  {
   "cell_type": "code",
   "execution_count": 12,
   "metadata": {},
   "outputs": [
    {
     "name": "stdout",
     "output_type": "stream",
     "text": [
      "〇boston_data01_X(説明変数)：(データ数＆特微量) (506, 13)\n",
      "〇boston_data01_Y(目的変数)：(データ数＆特微量) (506,)\n"
     ]
    }
   ],
   "source": [
    "# ------------------------------------------------------------------------------\n",
    "# サンプルデータ(ボストン住宅セット)\n",
    "from sklearn.datasets import load_boston\n",
    "\n",
    "# サンプルデータを格納する\n",
    "boston_data01 = load_boston()\n",
    "# .dataに\"データ\"が格納されている(説明変数)\n",
    "boston_data01_X = boston_data01.data\n",
    "# .targetに\"カテゴリ\"が格納されている(目的変数)\n",
    "boston_data01_Y = boston_data01.target\n",
    "# .feature_namesにデータのカラム名が格納されている\n",
    "boston_data01_feature_names = boston_data01.feature_names\n",
    "# .DESCRにデータの詳細な記述が格納されている\n",
    "boston_data01_DESCR = boston_data01.DESCR\n",
    "# ------------------------------------------------------------------------------\n",
    "# 格納したデータのデータ数と特徴量を確認する\n",
    "print('〇boston_data01_X(説明変数)：(データ数＆特微量)', boston_data01_X.shape)\n",
    "print('〇boston_data01_Y(目的変数)：(データ数＆特微量)', boston_data01_Y.shape)\n",
    "# ------------------------------------------------------------------------------\n",
    "# ＜ここまでは同じ作業をしている＞\n",
    "# ------------------------------------------------------------------------------"
   ]
  },
  {
   "cell_type": "markdown",
   "metadata": {},
   "source": [
    "### データをランダムに分割する"
   ]
  },
  {
   "cell_type": "markdown",
   "metadata": {},
   "source": [
    "全てのデータを学習に使用することはない。  \n",
    "重要なのはどれだけ正しく学習できたのかではなく、どれだけ未知のデータに対して正しく予測ができるのかである。(汎化性能)  \n",
    "学習に使用したデータは、モデルによって既知のデータであるため、汎化性能を図ることはできない。"
   ]
  },
  {
   "cell_type": "code",
   "execution_count": 13,
   "metadata": {},
   "outputs": [],
   "source": [
    "# (1.0)ライブラリ（データをランダムに分割する）\n",
    "from sklearn.model_selection import ShuffleSplit\n",
    "\n",
    "# (1.1)識別機を生成する\n",
    "ss = ShuffleSplit(n_splits=1, train_size=0.7, test_size=0.3, random_state=666)\n",
    "# (1.2)学習データ(0.8)とテストデータ(0.2)に分割する\n",
    "train_index, test_index = next(ss.split(boston_data01_X, boston_data01_Y)) #ShuffleSplitの引数(説明変数、目的変数)\n",
    "# (1.3)学習データとテストデータに分ける\n",
    "boston_data01_X_train, boston_data01_X_test = boston_data01_X[train_index], boston_data01_X[test_index]\n",
    "boston_data01_Y_train, boston_data01_Y_test = boston_data01_Y[train_index], boston_data01_Y[test_index]"
   ]
  },
  {
   "cell_type": "code",
   "execution_count": 14,
   "metadata": {},
   "outputs": [],
   "source": [
    "# (2.1)サンプルデータを基に学習する\n",
    "clf_reg.fit(boston_data01_X_train, boston_data01_Y_train) #LinearRegression\n",
    "# (2.2)学習したデータを基にして予測する\n",
    "boston_data01_Y_train_pred = clf_reg.predict(boston_data01_X_train) #学習用(train)\n",
    "boston_data01_Y_test_pred = clf_reg.predict(boston_data01_X_test) #検証用(test)"
   ]
  },
  {
   "cell_type": "code",
   "execution_count": 15,
   "metadata": {},
   "outputs": [
    {
     "data": {
      "image/png": "[encoded data removed]",
      "text/plain": [
       "<Figure size 432x288 with 1 Axes>"
      ]
     },
     "metadata": {
      "needs_background": "light"
     },
     "output_type": "display_data"
    }
   ],
   "source": [
    "# (3.1)学習したデータを描画する\n",
    "plt.scatter(boston_data01_Y_train_pred, (boston_data01_Y_train_pred - boston_data01_Y_train), c='blue', marker='o', label='学習用') #学習用\n",
    "plt.scatter(boston_data01_Y_test_pred, (boston_data01_Y_test_pred - boston_data01_Y_test), c='lightgreen', marker='s', label='検証用') #検証用\n",
    "plt.xlabel('予測値')\n",
    "plt.ylabel('残差')\n",
    "plt.legend(loc = 'best')\n",
    "\n",
    "# (3.2)直線を引く(y=0)\n",
    "plt.hlines(y=0, xmin=-10, xmax=50, lw=2, color='red')\n",
    "plt.xlim([10, 50])\n",
    "plt.show()"
   ]
  },
  {
   "cell_type": "code",
   "execution_count": 16,
   "metadata": {},
   "outputs": [
    {
     "data": {
      "text/plain": [
       "21.37275367924201"
      ]
     },
     "execution_count": 16,
     "metadata": {},
     "output_type": "execute_result"
    }
   ],
   "source": [
    "# 平均二乗誤差を評価する(mean_squared_error)\n",
    "from sklearn.metrics import mean_squared_error\n",
    "mean_squared_error(boston_data01_Y_train, boston_data01_Y_train_pred)"
   ]
  },
  {
   "cell_type": "code",
   "execution_count": 17,
   "metadata": {},
   "outputs": [
    {
     "data": {
      "text/plain": [
       "0.7626006353713625"
      ]
     },
     "execution_count": 17,
     "metadata": {},
     "output_type": "execute_result"
    }
   ],
   "source": [
    "# 決定係数$R^2を計算する(.score)\n",
    "clf_reg.score(boston_data01_X_train, boston_data01_Y_train)"
   ]
  },
  {
   "cell_type": "code",
   "execution_count": null,
   "metadata": {},
   "outputs": [],
   "source": []
  },
  {
   "cell_type": "code",
   "execution_count": null,
   "metadata": {},
   "outputs": [],
   "source": []
  },
  {
   "cell_type": "code",
   "execution_count": null,
   "metadata": {},
   "outputs": [],
   "source": []
  },
  {
   "cell_type": "markdown",
   "metadata": {},
   "source": [
    "# 〇非線形回帰モデル"
   ]
  },
  {
   "cell_type": "markdown",
   "metadata": {},
   "source": [
    "## １. 基底展開法"
   ]
  },
  {
   "cell_type": "markdown",
   "metadata": {},
   "source": [
    "基底展開法とは、回帰関数に「基底関数と呼ばれる既知の非線形関数」と「パラメータベクトルの線形結合」を使用することである。  \n",
    "未知パラメータに対しては最小二乗法や最尤法により推定する。  \n",
    "\n",
    "#### ・基底展開法(モデル数式)\n",
    "### $ y_{i} = f(\\boldsymbol{x}_{i}) + \\varepsilon_{i} = w_{0} + \\sum_{j=1}^{m}w_{j}\\phi_{j}(\\boldsymbol{x}_{i}) + \\varepsilon_{i}$  \n",
    "> $y_{i}$：目的変数($y_{i}$)  \n",
    "> $\\boldsymbol{x}_{i}$：説明変数$(\\boldsymbol{x}_{i})$  \n",
    "> $\\varepsilon_{i}$：誤差($\\varepsilon_{i}$)  \n",
    "> $w_{0}$：切片($w_{0}$)  \n",
    "> $\\phi_{j}(\\boldsymbol{x}_{i})$：基底関数  \n",
    ">> #### 1.多項式関数$\\phi_{j}(x)$   \n",
    ">>> ### $\\phi_{j}(x) = x^{j}$  \n",
    "\n",
    ">> #### 2.ガウス型基底関数$\\phi_{j}(x)$  \n",
    ">>> ### $\\smash{\\phi_{j}(x) = exp\\biggl\\{\\dfrac{(x-\\mu_{j})^{2}}{2h_{j}} \\biggr\\} }$  \n",
    "\n",
    "\n",
    "### モデル数式  \n",
    "基底展開法も線形回帰と同じ枠組みで推定可能である。  \n",
    "\n",
    "> #### (１)説明変数($x \\in \\mathbb{R^m}$)  \n",
    ">> ### $\\boldsymbol{x}_{i} = (x_{i1}, x_{i2}, x_{i3}, \\cdots, x_{im}) \\in \\mathbb{R}^{m}$  \n",
    "\n",
    "> #### (２)非線形関数ベクトル  \n",
    ">> ### $\\boldsymbol{\\phi}(\\boldsymbol{x}_{i}) = (\\phi_{1}(\\boldsymbol{x}_{i}), \\phi_{2}(\\boldsymbol{x}_{i}), \\phi_{3}(\\boldsymbol{x}_{i}), \\cdots, \\phi_{k}(\\boldsymbol{x}_{i}))^{T} \\in \\mathbb{R}^k$  \n",
    ">>> $\\phi_{1}$：写像  \n",
    ">>> $K$次元の特徴ベクトル  \n",
    "\n",
    "> #### (３)最尤法による予測  \n",
    ">> ### $\\hat{y} = \\Phi(\\Phi^{(train)T}\\Phi^{(train)})^{-1}\\Phi^{(train)T} {y}^{(train)}$  \n"
   ]
  },
  {
   "cell_type": "markdown",
   "metadata": {},
   "source": [
    "## ２．未学習・過学習  "
   ]
  },
  {
   "cell_type": "markdown",
   "metadata": {},
   "source": [
    "機械学習では\"過学習\"を未然に防ぐため、\"学習データ\"と\"訓練データ\"の2種類にデータを分割する。\n",
    "\n",
    "### ・未学習(Underfitting)  \n",
    "未学習とは、学習データに対して発生する訓練誤差が十分に小さくなっていない状態のモデルである。(上手く学習できていない)  \n",
    "そのため、期待するような学習ができていないことを意味している。  \n",
    "> (対策)：モデルの表現力が低いため、表現力の高いモデルや特微量を採用すること。  \n",
    "\n",
    "### ・過学習(Overfitting)  \n",
    "訓練誤差は十分に小さくなっているが、検証誤差が大きくなっている状態のモデルである。(学習データの影響を受けすぎている)  \n",
    "学習データに対しては精度よく予測することができるが、未知のデータに対しては正しく予測することができない。  \n",
    "> (対策01) 学習データ数を増やすこと  \n",
    "> (対策02) 不要な基底関数(説明変数)を削除して表現力を抑えること  \n",
    "> (対策03) 正則化を利用して表現力を抑えること  \n"
   ]
  },
  {
   "cell_type": "markdown",
   "metadata": {},
   "source": [
    "## ３．正則化法(罰則化法)  "
   ]
  },
  {
   "cell_type": "markdown",
   "metadata": {},
   "source": [
    "### ・正則化法(regularization)  \n",
    "正則化法とは、「モデルの複雑さに伴って、その値が大きくなる「正則化項(罰則項)」を課した関数」を最小化する方法である。\n",
    "> #### ・正則化項：モデル複雑さに伴ってその値が大きくなる項のこと  \n",
    ">> (1)：なし：最小二乗推定量を採用する  \n",
    ">> (2)：L１ノルム：Lasso推定量(\"ラッソ推定量\"(リパース推定))＝いくつかのパラメータを正確に\"０\"に推定する  \n",
    ">>> #### $R(w) = \\sum_{k=1}^m |w_k| = |w_{1}| + |w_{2}| + |w_{3}| + \\cdots + |w_{m-1}| + |w_{m}|$  \n",
    "\n",
    ">> (3)：L２ノルム：Ridge推定量(\"リッジ推定量\"(縮小推定))＝パラメータを\"０\"に近づけるように推定する  \n",
    ">>> #### $R(w) = \\sqrt{\\sum_{k=1}^m w_k^2} = \\sqrt{w_1^2 + w_2^2 + w_3^2 + \\cdots +  w_{m-1}^2 + w_m^2}$\n",
    "\n",
    "> ### ・ノルム  \n",
    ">> L１ノルム：各成分の絶対値の和(マンハッタン距離)  \n",
    ">> L２ノルム：通常の距離(ユーグリッド距離)  \n",
    "\n",
    "### ・正則化法(モデル数式)  \n",
    "### $S_{\\gamma} = (\\boldsymbol{y} - \\Phi^{n \\times k}\\boldsymbol{w})^{T}(\\boldsymbol{y} - \\Phi\\boldsymbol{w}) + \\gamma\\boldsymbol{R}(\\boldsymbol{w})$  \n",
    "> $S_{\\gamma}$：正則化項の値  \n",
    "> $\\boldsymbol{y}$：目的変数($\\boldsymbol{y}$)  \n",
    "> $\\Phi$：非線形関数の計画行列  \n",
    "> ${n \\times k}$：データ数 × 基底関数の数  \n",
    "> $\\boldsymbol{w}$：回帰係数($\\boldsymbol{w}$)  \n",
    "> $\\gamma\\boldsymbol{R}(\\boldsymbol{w})$：正則化項($\\gamma\\boldsymbol{R}(\\boldsymbol{w})$)  \n"
   ]
  },
  {
   "cell_type": "markdown",
   "metadata": {},
   "source": [
    "## ４．汎化性能  "
   ]
  },
  {
   "cell_type": "markdown",
   "metadata": {},
   "source": [
    "汎化性能とは、学習に使用した入力だけでなく、未知のデータに対する予測性能である。  \n",
    "学習データとは別に用意した検証データを用いて性能を図り、この検証データに対する誤差(汎化誤差)が小さいものが良い性能となる。  \n",
    ">(1)訓練誤差：モデルの学習内で使用する。どれぐらい正しく学習できたのかという指標(目的変数との差が小さいか)\n",
    ">> #### $MSE_{train} = \\dfrac{1}{n_{train}}\\sum\\nolimits_{i=1}^{n_{train}}(\\hat{y}_{i}^{(train)} - y_{i}^{(train)})^{2}$  \n",
    "\n",
    ">(2)検証誤差：モデルの性能を表す指標である。未知のデータに対してどれだけ精度良く予測できたのか(目的変数との差が小さいか)  \n",
    ">> #### $MSE_{test} = \\dfrac{1}{n_{test}}\\sum\\nolimits_{i=1}^{n_{test}}(\\hat{y}_{i}^{(test)} - y_{i}^{(test)})^{2}$  \n",
    "\n",
    "＜学習後の判断＞\n",
    "> ・未学習：(1)訓練誤差：大きい & (2)検証誤差：大きい  \n",
    "> ・過学習：(1)訓練誤差：小さい & (2)検証誤差：大きい  \n",
    "> ・汎化モデル：(1)訓練誤差：小さい & (2)検証誤差：小さい  "
   ]
  },
  {
   "cell_type": "markdown",
   "metadata": {},
   "source": [
    "## ５．モデルの検証  "
   ]
  },
  {
   "cell_type": "markdown",
   "metadata": {},
   "source": [
    "### ・ホールドアウト法  \n",
    "有限のデータを\"学習用データ\"と\"テスト用データ\"の２つに分割する方法であり、予測精度や誤り率を推定するために使用される。  \n",
    "単純に分割するため、大量のデータがある場合でなければ、ホールドアウト法の手法は適さないケースが多い。  \n",
    "またデータを分割する際には、データの分割に偏りがないように注意する必要がある。  \n",
    "\n",
    "### ・交差検証(Cross Validation(CV))  \n",
    "交差検証とは、※イテレータという単位を用いてホールドアウト法を繰り返して回す方法である。  \n",
    "交差検証の利点は、少ないデータ数でも効率的な学習ができつつ、分割するときのデータの偏りの影響を少なくすることができることである。  \n",
    "ホールドアウトより交差検証のほうが汎化性能を図る手段として優れている。  \n",
    "＜交差検証の手順＞  \n",
    "> (1)データを複数のブロックに分割する  \n",
    "> (2)ブロックの１つを\"学習用データ\"、残りのブロックを\"テスト用データ\"として学習をする(※イテレータ)  \n",
    "> (3)生成した学習モデルに対して\"テスト用データ\"をそれぞれ与えて、得られた精度の\"最も小さい平均(CV値)\"を選択する  \n"
   ]
  },
  {
   "cell_type": "code",
   "execution_count": null,
   "metadata": {},
   "outputs": [],
   "source": []
  },
  {
   "cell_type": "code",
   "execution_count": null,
   "metadata": {},
   "outputs": [],
   "source": []
  },
  {
   "cell_type": "code",
   "execution_count": null,
   "metadata": {},
   "outputs": [],
   "source": []
  },
  {
   "cell_type": "markdown",
   "metadata": {},
   "source": [
    "# 〇ロジスティック回帰モデル"
   ]
  },
  {
   "cell_type": "markdown",
   "metadata": {},
   "source": [
    "ロジスティック回帰とは、\"分類\"問題を扱うモデルである。 \n",
    "\n",
    "## １．分類問題\n",
    "分類問題とは、ある入力値(数値)からどのクラスに分類するかを予測すること(教師あり学習)  \n",
    "### 分類問題で扱うデータ\n",
    "> #### (1) 説明変数：$ x = (x_{1}, x_{2}, x_{3}, ..., x_{m-1}, x_{m})^{T} \\in \\mathbb{R}^{m}$  \n",
    ">> $x$：説明変数($x$)：特微量とも呼ぶ  \n",
    ">> $m$：$m$次元のベクトル($m$=1の場合は\"スカラ\")  \n",
    ">> $x_{1}, x_{2}, x_{3}, .., x_{m-1}, x_{m}$：説明変数($x$)の要素  \n",
    "\n",
    "> #### (2) 目的変数：$ y \\in \\{0, 1\\}$  \n",
    ">> $y$：目的変数：(\"0\" or \"1\"の値を用いて表現する)  \n",
    "\n",
    "> #### (3) パラメータ：$ w = (w_{1}, w_{2}, w_{3}, ..., w_{m-1}, w_{m})^{T} \\in \\mathbb{R}^{m}$  \n",
    ">> $W$：パラメータ  \n",
    ">> $m$：$m$次元のベクトル  \n",
    "\n",
    "> #### (4) 線形結合：$\\hat{y} = {w}^{T}{x} + w_{0} = \\sum_{j=1}^{m} w_{j}x_{j} + w_{0}$  \n",
    ">> $\\hat{y}$：予測値  \n",
    ">> ${w}$：説明変数($w$)  \n",
    ">> ${x}$：モデルのパラメータ  \n",
    ">> $w_{0}$：切片  \n",
    ">> ${j}$：次元数  \n",
    ">> ${m}$：次元のインデックス  \n",
    "> #### (5)シグモイド関数に線形結合した値を与えることで、\"$y=1$\"となる確率が出力される  \n",
    ">> ${P(Y=1\\mid{x})=\\sigma(w_{0}+w_{1}x_{1}+...+w_{m}x_{m})}$\n",
    "\n",
    "## ２．シグモイド関数($\\sigma(x)$)  \n",
    "シグモイド関数とは、入力が実数のとき、出力は必ず\"０\"から\"１\"の値に収束する単調増加関数である。($y=1$となる確率)   \n",
    "単調増加関数とは、$x$が増えるほど$y$も増える関数のことである。  \n",
    "### $\\sigma(x)=\\frac{1}{1+\\exp(-ax)}=\\frac{1}{1+e^{-ax}}$  \n",
    "＜シグモイド関数の性質＞  \n",
    "・シグモイド関数の微分は、シグモイド関数自身で表現することができる  \n",
    "・パラメータ推定では微分が使用されるため、計算量を抑えられるシグモイド関数が重宝されている  \n",
    "・尤度関数の微分を行うときに計算が容易になる  \n"
   ]
  },
  {
   "cell_type": "code",
   "execution_count": 18,
   "metadata": {},
   "outputs": [
    {
     "data": {
      "image/png": "[encoded data removed]",
      "text/plain": [
       "<Figure size 432x288 with 1 Axes>"
      ]
     },
     "metadata": {
      "needs_background": "light"
     },
     "output_type": "display_data"
    }
   ],
   "source": [
    "# シグモイド関数を描画する\n",
    "# ---------------------------------------\n",
    "import numpy as np\n",
    "import seaborn as sns\n",
    "import matplotlib.pyplot as plt\n",
    "%matplotlib inline \n",
    "# ---------------------------------------\n",
    "x = np.arange(-10, 10, 0.01)\n",
    "y = 1 / (1 + np.exp(-x)) #シグモイド関数\n",
    "# ---------------------------------------\n",
    "plt.plot(x, y, label='シグモイド関数')\n",
    "plt.legend()\n",
    "plt.grid()\n",
    "plt.show()\n",
    "# ---------------------------------------"
   ]
  },
  {
   "cell_type": "markdown",
   "metadata": {},
   "source": [
    "#### ${\\begin{eqnarray}\n",
    "-\\log L(w)&=&-\\log L(w_1,w_2,w_3,\\cdots,w_m)\\\\\n",
    "&=&-\\sum_{k=1}^m\\Big(y_k\\log y_k+(1-y_k)\\log(1-y_k) \\Big)\n",
    "\\end{eqnarray}}$"
   ]
  },
  {
   "cell_type": "markdown",
   "metadata": {},
   "source": [
    "## ３．最尤推定  \n",
    "最尤推定とは、データを固定してパラメータを変化させることによって、尤度関数を最大化するようなパラメータを選択する推定方法のことである。  \n",
    "ロジスティック回帰モデルでは、学習の際、\"尤度関数\"の最大化を行う。  \n",
    "\n",
    "#### 尤度関数  \n",
    "> ### $\\smash{L(\\boldsymbol{w}) = \\prod_{i=1}^{n}\\sigma(\\boldsymbol{w}^{T}\\boldsymbol{x}_{i})^{\\boldsymbol{y}_{i}}(1 - \\sigma(\\boldsymbol{w}^{T}\\boldsymbol{x}_{i}))^{1-\\boldsymbol{y}_{i}} }$  \n",
    ">> $L(w)$：尤度関数($L(w)$)  \n",
    ">> $\\prod_{i=1}^{n}$：乗数(1~nまで)  \n",
    ">> ${w}$：回帰係数(${w}$)※未知のパラメータ  \n",
    ">> ${x}_{i}$：説明変数(${x}_{i}$)  \n",
    ">> ${y}_{i}$：目的変数(${y}_{i}$)  \n",
    "\n",
    "#### 対数尤度関数  \n",
    "> ### ${\\begin{eqnarray}\n",
    "-\\log L(w)&=&-\\log L(w_1,w_2,w_3,\\cdots,w_m)\\\\\n",
    "&=&-\\sum_{k=1}^m\\Big(y_k\\log y_k+(1-y_k)\\log(1-y_k) \\Big) \\end{eqnarray}}$\n",
    "\n",
    "\n",
    "## ４．勾配降下法(=最急降下法)(Gradient descent)  \n",
    "勾配降下法とは、\"反復学習\"によりパラメータを逐次的に更新するアプローチの１つである。  \n",
    "線形回帰モデルでは、\"平均二乗誤差\"の微分が\"0\"になる点を計算することができた。  \n",
    "しかしロジスティック回帰モデルは、\"対数尤度関数\"をパラメータの微分で\"0\"になる点を計算することができない。  \n",
    "そのためロジスティック回帰モデルでは、\"反復学習\"を用いてパラメータを逐次更新することによって、パラメータの\"最適解\"を図る手法である勾配降下法を用いて計算する。  \n",
    "### $w^{(k+1)} = w^k - \\eta\\sum_{i=1}^n (y_i-p_i)x_i$  \n",
    "> η(イータ)：学習率(ハイパーパラメータであり、パラメータの収束のしやすさ(勾配をどれだけの勢いで降りるかのイメージ))\n",
    "\n",
    "## ５．確率的勾配降下法(SGD)  \n",
    "確率的勾配降下法とは、データを\"１個ずつ\"ランダム(確率的)に選択し、パラメータを逐次的に更新していく勾配降下法である。  \n",
    "確率的勾配降下法では、データを\"１個ずつ\"選択するため、勾配降下法よりも効率良く最適解を探索することが可能となる。  \n",
    "確率的勾配降下法の基本的な式は勾配降下法とほぼ同じである。\n",
    "### $w^{(k+1)} = w^k - \\eta(y_i - p_i)x_i$\n"
   ]
  },
  {
   "cell_type": "markdown",
   "metadata": {},
   "source": [
    "## ６．モデルの評価(ロジステック回帰) "
   ]
  },
  {
   "cell_type": "code",
   "execution_count": 19,
   "metadata": {},
   "outputs": [
    {
     "data": {
      "text/html": [
       "<img src=\"https://qr.paps.jp/61QZL\"/>"
      ],
      "text/plain": [
       "<IPython.core.display.Image object>"
      ]
     },
     "execution_count": 19,
     "metadata": {},
     "output_type": "execute_result"
    }
   ],
   "source": [
    "# ６.モデルの評価(ロジステック回帰) \n",
    "from IPython.display import Image\n",
    "Image(url = 'https://qr.paps.jp/61QZL') #引用文献(https://qr.paps.jp/61QZL)"
   ]
  },
  {
   "cell_type": "markdown",
   "metadata": {},
   "source": [
    "＜用語まとめ＞  \n",
    "(1) 真陽性：TP (True Positive)  = 正しく\"Positive\"と判別した数  \n",
    "(2) 偽陽性：FP (False Positive) = 本来は(Negative)なのに、間違えて\"Positive\"と判別した数  \n",
    "(3) 真陰性：TN (True Negative)  = 正しく(Negative)と判別した数  \n",
    "(4) 偽陰性；FN (False Negative) = 本来は\"Positive\"なのに、間違えて(Negative)と判別した数  "
   ]
  },
  {
   "cell_type": "markdown",
   "metadata": {},
   "source": [
    "#### (1) 正解率(Accuracy)  \n",
    "正確率とは、予測対象の全データのうち、正しく判別することのできたデータ数の割合である。  \n",
    "> ### $正解率(Accuracy) = \\frac{TP + TN}{TP + FN + FP + TN}$  \n",
    "\n",
    "#### (2) 再現率(Recall)  \n",
    "再現率とは、\"Positive\"と判別したデータ総数から、正しく\"Positive\"と判別することのできたデータ数の割合である。  \n",
    "> ### $再現率(Recall) = \\frac{TP}{TP + FN}$\n",
    "\n",
    "#### (3) 適合率(Precision)  \n",
    "適合率とは、\"Positive\"と予測したデータ総数のうち、正しく\"Positive\"と予測することのできたデータ数の割合である。  \n",
    "> ### $適合率(Precision) = \\frac{TP}{TP + FP}$\n",
    "\n",
    "#### (4) F値(F score)  \n",
    "F値とは、(2)再現率(Recall)と(3)適合率(Precision)の調和平均の値である。  \n",
    "ただし、(2)再現率(Recall)と(3)適合率(Precision)は相反関係にあるので注意が必要である。"
   ]
  },
  {
   "cell_type": "code",
   "execution_count": null,
   "metadata": {},
   "outputs": [],
   "source": []
  },
  {
   "cell_type": "markdown",
   "metadata": {},
   "source": [
    "## ※課題※：年齢が30歳で男の乗客は生き残れるか？  \n",
    "> (設定値)  \n",
    "> １．タイタニックの乗客データを利用しロジスティック回帰モデルを作成する  \n",
    "> ２．特徴量抽出をしてみる"
   ]
  },
  {
   "cell_type": "code",
   "execution_count": 20,
   "metadata": {},
   "outputs": [
    {
     "name": "stdout",
     "output_type": "stream",
     "text": [
      "〇サンプルデータ(データ数＆特微量)： (891, 12)\n",
      "〇サンプルデータ(特微量まとめ)：\n",
      " Index(['PassengerId', 'Survived', 'Pclass', 'Name', 'Sex', 'Age', 'SibSp',\n",
      "       'Parch', 'Ticket', 'Fare', 'Cabin', 'Embarked'],\n",
      "      dtype='object')\n"
     ]
    }
   ],
   "source": [
    "# ライブラリ（共通）\n",
    "import numpy as np\n",
    "import pandas as pd\n",
    "import seaborn as sns\n",
    "import japanize_matplotlib\n",
    "import matplotlib.pyplot as plt\n",
    "%matplotlib inline\n",
    "# サンプルデータ(titanic_data.train)\n",
    "titanic_df = pd.read_csv('http://bit.ly/2MnDW3R') #(URL)\"train_titanic.csv\"\n",
    "\n",
    "# サンプルデータ(データ数＆特徴量)を確認する\n",
    "print('〇サンプルデータ(データ数＆特微量)：', titanic_df.shape)\n",
    "print('〇サンプルデータ(特微量まとめ)：\\n', titanic_df.columns)"
   ]
  },
  {
   "cell_type": "code",
   "execution_count": 21,
   "metadata": {},
   "outputs": [
    {
     "data": {
      "text/html": [
       "<div>\n",
       "<style scoped>\n",
       "    .dataframe tbody tr th:only-of-type {\n",
       "        vertical-align: middle;\n",
       "    }\n",
       "\n",
       "    .dataframe tbody tr th {\n",
       "        vertical-align: top;\n",
       "    }\n",
       "\n",
       "    .dataframe thead th {\n",
       "        text-align: right;\n",
       "    }\n",
       "</style>\n",
       "<table border=\"1\" class=\"dataframe\">\n",
       "  <thead>\n",
       "    <tr style=\"text-align: right;\">\n",
       "      <th></th>\n",
       "      <th>Survived</th>\n",
       "      <th>Pclass</th>\n",
       "      <th>Sex</th>\n",
       "      <th>Age</th>\n",
       "      <th>SibSp</th>\n",
       "      <th>Parch</th>\n",
       "      <th>Fare</th>\n",
       "      <th>Embarked</th>\n",
       "    </tr>\n",
       "  </thead>\n",
       "  <tbody>\n",
       "    <tr>\n",
       "      <th>0</th>\n",
       "      <td>0</td>\n",
       "      <td>3</td>\n",
       "      <td>male</td>\n",
       "      <td>22.0</td>\n",
       "      <td>1</td>\n",
       "      <td>0</td>\n",
       "      <td>7.2500</td>\n",
       "      <td>S</td>\n",
       "    </tr>\n",
       "    <tr>\n",
       "      <th>1</th>\n",
       "      <td>1</td>\n",
       "      <td>1</td>\n",
       "      <td>female</td>\n",
       "      <td>38.0</td>\n",
       "      <td>1</td>\n",
       "      <td>0</td>\n",
       "      <td>71.2833</td>\n",
       "      <td>C</td>\n",
       "    </tr>\n",
       "    <tr>\n",
       "      <th>2</th>\n",
       "      <td>1</td>\n",
       "      <td>3</td>\n",
       "      <td>female</td>\n",
       "      <td>26.0</td>\n",
       "      <td>0</td>\n",
       "      <td>0</td>\n",
       "      <td>7.9250</td>\n",
       "      <td>S</td>\n",
       "    </tr>\n",
       "    <tr>\n",
       "      <th>3</th>\n",
       "      <td>1</td>\n",
       "      <td>1</td>\n",
       "      <td>female</td>\n",
       "      <td>35.0</td>\n",
       "      <td>1</td>\n",
       "      <td>0</td>\n",
       "      <td>53.1000</td>\n",
       "      <td>S</td>\n",
       "    </tr>\n",
       "    <tr>\n",
       "      <th>4</th>\n",
       "      <td>0</td>\n",
       "      <td>3</td>\n",
       "      <td>male</td>\n",
       "      <td>35.0</td>\n",
       "      <td>0</td>\n",
       "      <td>0</td>\n",
       "      <td>8.0500</td>\n",
       "      <td>S</td>\n",
       "    </tr>\n",
       "    <tr>\n",
       "      <th>5</th>\n",
       "      <td>0</td>\n",
       "      <td>3</td>\n",
       "      <td>male</td>\n",
       "      <td>NaN</td>\n",
       "      <td>0</td>\n",
       "      <td>0</td>\n",
       "      <td>8.4583</td>\n",
       "      <td>Q</td>\n",
       "    </tr>\n",
       "  </tbody>\n",
       "</table>\n",
       "</div>"
      ],
      "text/plain": [
       "   Survived  Pclass     Sex   Age  SibSp  Parch     Fare Embarked\n",
       "0         0       3    male  22.0      1      0   7.2500        S\n",
       "1         1       1  female  38.0      1      0  71.2833        C\n",
       "2         1       3  female  26.0      0      0   7.9250        S\n",
       "3         1       1  female  35.0      1      0  53.1000        S\n",
       "4         0       3    male  35.0      0      0   8.0500        S\n",
       "5         0       3    male   NaN      0      0   8.4583        Q"
      ]
     },
     "execution_count": 21,
     "metadata": {},
     "output_type": "execute_result"
    }
   ],
   "source": [
    "# 課題に不要となるカラムを削除する(\"PassengerId\"/\"Name\"/\"Ticket\"/\"Cabin\")\n",
    "titanic_df = titanic_df.drop(['PassengerId', 'Name', 'Ticket', 'Cabin'], axis=1)\n",
    "titanic_df.head(6)"
   ]
  },
  {
   "cell_type": "code",
   "execution_count": 22,
   "metadata": {},
   "outputs": [
    {
     "data": {
      "text/html": [
       "<div>\n",
       "<style scoped>\n",
       "    .dataframe tbody tr th:only-of-type {\n",
       "        vertical-align: middle;\n",
       "    }\n",
       "\n",
       "    .dataframe tbody tr th {\n",
       "        vertical-align: top;\n",
       "    }\n",
       "\n",
       "    .dataframe thead th {\n",
       "        text-align: right;\n",
       "    }\n",
       "</style>\n",
       "<table border=\"1\" class=\"dataframe\">\n",
       "  <thead>\n",
       "    <tr style=\"text-align: right;\">\n",
       "      <th></th>\n",
       "      <th>Survived</th>\n",
       "      <th>Pclass</th>\n",
       "      <th>Sex</th>\n",
       "      <th>Age</th>\n",
       "      <th>SibSp</th>\n",
       "      <th>Parch</th>\n",
       "      <th>Fare</th>\n",
       "      <th>Embarked</th>\n",
       "    </tr>\n",
       "  </thead>\n",
       "  <tbody>\n",
       "    <tr>\n",
       "      <th>5</th>\n",
       "      <td>0</td>\n",
       "      <td>3</td>\n",
       "      <td>male</td>\n",
       "      <td>NaN</td>\n",
       "      <td>0</td>\n",
       "      <td>0</td>\n",
       "      <td>8.4583</td>\n",
       "      <td>Q</td>\n",
       "    </tr>\n",
       "    <tr>\n",
       "      <th>17</th>\n",
       "      <td>1</td>\n",
       "      <td>2</td>\n",
       "      <td>male</td>\n",
       "      <td>NaN</td>\n",
       "      <td>0</td>\n",
       "      <td>0</td>\n",
       "      <td>13.0000</td>\n",
       "      <td>S</td>\n",
       "    </tr>\n",
       "    <tr>\n",
       "      <th>19</th>\n",
       "      <td>1</td>\n",
       "      <td>3</td>\n",
       "      <td>female</td>\n",
       "      <td>NaN</td>\n",
       "      <td>0</td>\n",
       "      <td>0</td>\n",
       "      <td>7.2250</td>\n",
       "      <td>C</td>\n",
       "    </tr>\n",
       "    <tr>\n",
       "      <th>26</th>\n",
       "      <td>0</td>\n",
       "      <td>3</td>\n",
       "      <td>male</td>\n",
       "      <td>NaN</td>\n",
       "      <td>0</td>\n",
       "      <td>0</td>\n",
       "      <td>7.2250</td>\n",
       "      <td>C</td>\n",
       "    </tr>\n",
       "    <tr>\n",
       "      <th>28</th>\n",
       "      <td>1</td>\n",
       "      <td>3</td>\n",
       "      <td>female</td>\n",
       "      <td>NaN</td>\n",
       "      <td>0</td>\n",
       "      <td>0</td>\n",
       "      <td>7.8792</td>\n",
       "      <td>Q</td>\n",
       "    </tr>\n",
       "  </tbody>\n",
       "</table>\n",
       "</div>"
      ],
      "text/plain": [
       "    Survived  Pclass     Sex  Age  SibSp  Parch     Fare Embarked\n",
       "5          0       3    male  NaN      0      0   8.4583        Q\n",
       "17         1       2    male  NaN      0      0  13.0000        S\n",
       "19         1       3  female  NaN      0      0   7.2250        C\n",
       "26         0       3    male  NaN      0      0   7.2250        C\n",
       "28         1       3  female  NaN      0      0   7.8792        Q"
      ]
     },
     "execution_count": 22,
     "metadata": {},
     "output_type": "execute_result"
    }
   ],
   "source": [
    "# カラムに含まれる欠損値(NaN値)を確認する\n",
    "titanic_df[titanic_df.isnull().any(1)].head()"
   ]
  },
  {
   "cell_type": "code",
   "execution_count": 23,
   "metadata": {},
   "outputs": [
    {
     "data": {
      "text/html": [
       "<div>\n",
       "<style scoped>\n",
       "    .dataframe tbody tr th:only-of-type {\n",
       "        vertical-align: middle;\n",
       "    }\n",
       "\n",
       "    .dataframe tbody tr th {\n",
       "        vertical-align: top;\n",
       "    }\n",
       "\n",
       "    .dataframe thead th {\n",
       "        text-align: right;\n",
       "    }\n",
       "</style>\n",
       "<table border=\"1\" class=\"dataframe\">\n",
       "  <thead>\n",
       "    <tr style=\"text-align: right;\">\n",
       "      <th></th>\n",
       "      <th>Survived</th>\n",
       "      <th>Pclass</th>\n",
       "      <th>Sex</th>\n",
       "      <th>Age</th>\n",
       "      <th>SibSp</th>\n",
       "      <th>Parch</th>\n",
       "      <th>Fare</th>\n",
       "      <th>Embarked</th>\n",
       "      <th>Age_Full</th>\n",
       "    </tr>\n",
       "  </thead>\n",
       "  <tbody>\n",
       "    <tr>\n",
       "      <th>0</th>\n",
       "      <td>0</td>\n",
       "      <td>3</td>\n",
       "      <td>male</td>\n",
       "      <td>22.0</td>\n",
       "      <td>1</td>\n",
       "      <td>0</td>\n",
       "      <td>7.2500</td>\n",
       "      <td>S</td>\n",
       "      <td>22.000000</td>\n",
       "    </tr>\n",
       "    <tr>\n",
       "      <th>1</th>\n",
       "      <td>1</td>\n",
       "      <td>1</td>\n",
       "      <td>female</td>\n",
       "      <td>38.0</td>\n",
       "      <td>1</td>\n",
       "      <td>0</td>\n",
       "      <td>71.2833</td>\n",
       "      <td>C</td>\n",
       "      <td>38.000000</td>\n",
       "    </tr>\n",
       "    <tr>\n",
       "      <th>2</th>\n",
       "      <td>1</td>\n",
       "      <td>3</td>\n",
       "      <td>female</td>\n",
       "      <td>26.0</td>\n",
       "      <td>0</td>\n",
       "      <td>0</td>\n",
       "      <td>7.9250</td>\n",
       "      <td>S</td>\n",
       "      <td>26.000000</td>\n",
       "    </tr>\n",
       "    <tr>\n",
       "      <th>3</th>\n",
       "      <td>1</td>\n",
       "      <td>1</td>\n",
       "      <td>female</td>\n",
       "      <td>35.0</td>\n",
       "      <td>1</td>\n",
       "      <td>0</td>\n",
       "      <td>53.1000</td>\n",
       "      <td>S</td>\n",
       "      <td>35.000000</td>\n",
       "    </tr>\n",
       "    <tr>\n",
       "      <th>4</th>\n",
       "      <td>0</td>\n",
       "      <td>3</td>\n",
       "      <td>male</td>\n",
       "      <td>35.0</td>\n",
       "      <td>0</td>\n",
       "      <td>0</td>\n",
       "      <td>8.0500</td>\n",
       "      <td>S</td>\n",
       "      <td>35.000000</td>\n",
       "    </tr>\n",
       "    <tr>\n",
       "      <th>5</th>\n",
       "      <td>0</td>\n",
       "      <td>3</td>\n",
       "      <td>male</td>\n",
       "      <td>NaN</td>\n",
       "      <td>0</td>\n",
       "      <td>0</td>\n",
       "      <td>8.4583</td>\n",
       "      <td>Q</td>\n",
       "      <td>29.699118</td>\n",
       "    </tr>\n",
       "  </tbody>\n",
       "</table>\n",
       "</div>"
      ],
      "text/plain": [
       "   Survived  Pclass     Sex   Age  SibSp  Parch     Fare Embarked   Age_Full\n",
       "0         0       3    male  22.0      1      0   7.2500        S  22.000000\n",
       "1         1       1  female  38.0      1      0  71.2833        C  38.000000\n",
       "2         1       3  female  26.0      0      0   7.9250        S  26.000000\n",
       "3         1       1  female  35.0      1      0  53.1000        S  35.000000\n",
       "4         0       3    male  35.0      0      0   8.0500        S  35.000000\n",
       "5         0       3    male   NaN      0      0   8.4583        Q  29.699118"
      ]
     },
     "execution_count": 23,
     "metadata": {},
     "output_type": "execute_result"
    }
   ],
   "source": [
    "# カラムに含まれるNaN値を\"平均値\"で補完して、カラム['Age_Full']を追加する\n",
    "titanic_df['Age_Full'] = titanic_df['Age'].fillna(titanic_df['Age'].mean())\n",
    "titanic_df.head(6)"
   ]
  },
  {
   "cell_type": "markdown",
   "metadata": {},
   "source": [
    "## １．ロジスティック回帰の演習  \n",
    "> 説明変数($x$)：運賃(Fare)  \n",
    "> 目的変数($y$)：生存率(Survived)  \n",
    "＜特微量まとめ＞  \n",
    "['PassengerId', 'Survived', 'Pclass', 'Name', 'Sex', 'Age', 'SibSp','Parch', 'Ticket', 'Fare', 'Cabin', 'Embarked']"
   ]
  },
  {
   "cell_type": "code",
   "execution_count": 24,
   "metadata": {},
   "outputs": [
    {
     "name": "stdout",
     "output_type": "stream",
     "text": [
      "〇説明変数\"Fare\"(データ数＆特微量)： (891, 1)\n",
      "〇目的変数\"Survived\"(データ数＆特微量)： (891, 1)\n"
     ]
    }
   ],
   "source": [
    "# 説明変数(運賃(Fare)) ※実際のデータ値(.values)\n",
    "titanic_df_X = titanic_df.loc[:,['Fare']].values\n",
    "print('〇説明変数\"Fare\"(データ数＆特微量)：', titanic_df_X.shape)\n",
    "# -------------------------------------------------------------------\n",
    "# 目的変数(生存率(Survived)) ※実際のデータ値(.values)\n",
    "titanic_df_Y = titanic_df.loc[:, ['Survived']].values\n",
    "print('〇目的変数\"Survived\"(データ数＆特微量)：', titanic_df_Y.shape)"
   ]
  },
  {
   "cell_type": "code",
   "execution_count": 25,
   "metadata": {},
   "outputs": [
    {
     "name": "stderr",
     "output_type": "stream",
     "text": [
      "/root/.local/lib/python3.7/site-packages/sklearn/utils/validation.py:63: DataConversionWarning: A column-vector y was passed when a 1d array was expected. Please change the shape of y to (n_samples, ), for example using ravel().\n",
      "  return f(*args, **kwargs)\n"
     ]
    },
    {
     "data": {
      "text/plain": [
       "LogisticRegression()"
      ]
     },
     "execution_count": 25,
     "metadata": {},
     "output_type": "execute_result"
    }
   ],
   "source": [
    "# ライブラリ（線形回帰モデル）\n",
    "from sklearn.linear_model import LogisticRegression\n",
    "\n",
    "# (1)識別機を生成する\n",
    "clf_reg = LogisticRegression()\n",
    "# (2)サンプルデータを基に学習する\n",
    "clf_reg.fit(titanic_df_X, titanic_df_Y) #引数(目的変数\"Fare\"、説明変数\"Survived\")"
   ]
  },
  {
   "cell_type": "code",
   "execution_count": 26,
   "metadata": {},
   "outputs": [
    {
     "name": "stdout",
     "output_type": "stream",
     "text": [
      "〇運賃が0ドルにおける死亡率: [0]\n",
      "〇運賃が10ドルにおける死亡率: [0]\n",
      "〇運賃が20ドルにおける死亡率: [0]\n",
      "〇運賃が30ドルにおける死亡率: [0]\n",
      "〇運賃が40ドルにおける死亡率: [0]\n",
      "〇運賃が50ドルにおける死亡率: [0]\n",
      "〇運賃が60ドルにおける死亡率: [0]\n",
      "〇運賃が70ドルにおける死亡率: [1]\n",
      "〇運賃が80ドルにおける死亡率: [1]\n",
      "〇運賃が90ドルにおける死亡率: [1]\n",
      "〇運賃が100ドルにおける死亡率: [1]\n"
     ]
    }
   ],
   "source": [
    "for i in range(0, 110, 10):\n",
    "    print('〇運賃が{}ドルにおける死亡率:'.format(i), clf_reg.predict([[i]]))"
   ]
  },
  {
   "cell_type": "markdown",
   "metadata": {},
   "source": [
    "##### 説明変数($x$)運賃が$60$ドル以下における目的変数($y$)の死亡率は\"0\"と予測している\n",
    "##### 説明変数($x$)運賃が$60$ドル以上における目的変数($y$)の死亡率は\"1\"と予測している"
   ]
  },
  {
   "cell_type": "code",
   "execution_count": 27,
   "metadata": {},
   "outputs": [
    {
     "name": "stdout",
     "output_type": "stream",
     "text": [
      "[-0.94131796]\n",
      "[[0.01519666]]\n"
     ]
    }
   ],
   "source": [
    "print(clf_reg.intercept_) #切片\n",
    "print(clf_reg.coef_) #説明変数の計数"
   ]
  },
  {
   "cell_type": "markdown",
   "metadata": {},
   "source": [
    "## ２．ロジスティック回帰の演習(”年齢”と”性別”２つの説明変数を用いる)  \n",
    "> 説明変数($x$)：”年齢”(Age_full)と”社会階級+性別”(Pclass+Gender)  \n",
    "> 目的変数($y$)：生存率(Survived)  \n",
    "＜特微量まとめ＞  \n",
    "['PassengerId', 'Survived', 'Pclass', 'Name', 'Sex', 'Age', 'SibSp','Parch', 'Ticket', 'Fare', 'Cabin', 'Embarked']"
   ]
  },
  {
   "cell_type": "markdown",
   "metadata": {},
   "source": [
    "#### 2.1. \".unique\"メソッドを用いて、指定したカラムごとの内容を確認する"
   ]
  },
  {
   "cell_type": "code",
   "execution_count": 28,
   "metadata": {},
   "outputs": [
    {
     "name": "stdout",
     "output_type": "stream",
     "text": [
      "['male' 'female']\n",
      "[3 1 2]\n"
     ]
    }
   ],
   "source": [
    "print(titanic_df['Sex'].unique())\n",
    "print(titanic_df['Pclass'].unique())"
   ]
  },
  {
   "cell_type": "markdown",
   "metadata": {},
   "source": [
    "#### 2.2. 新規カラム'Gender'を追加する  \n",
    "➡ 性別(Age)という質的変数を\"量的変数\"に変換する ※\".map\"メソッド'辞書'型の形式で変換を行う  \n",
    "> 'female'(女性): 0  \n",
    "> 'male'(男性): 1  "
   ]
  },
  {
   "cell_type": "code",
   "execution_count": 29,
   "metadata": {},
   "outputs": [
    {
     "name": "stdout",
     "output_type": "stream",
     "text": [
      "[1 0]\n"
     ]
    },
    {
     "data": {
      "text/html": [
       "<div>\n",
       "<style scoped>\n",
       "    .dataframe tbody tr th:only-of-type {\n",
       "        vertical-align: middle;\n",
       "    }\n",
       "\n",
       "    .dataframe tbody tr th {\n",
       "        vertical-align: top;\n",
       "    }\n",
       "\n",
       "    .dataframe thead th {\n",
       "        text-align: right;\n",
       "    }\n",
       "</style>\n",
       "<table border=\"1\" class=\"dataframe\">\n",
       "  <thead>\n",
       "    <tr style=\"text-align: right;\">\n",
       "      <th></th>\n",
       "      <th>Survived</th>\n",
       "      <th>Pclass</th>\n",
       "      <th>Sex</th>\n",
       "      <th>Age</th>\n",
       "      <th>SibSp</th>\n",
       "      <th>Parch</th>\n",
       "      <th>Fare</th>\n",
       "      <th>Embarked</th>\n",
       "      <th>Age_Full</th>\n",
       "      <th>Gender</th>\n",
       "    </tr>\n",
       "  </thead>\n",
       "  <tbody>\n",
       "    <tr>\n",
       "      <th>0</th>\n",
       "      <td>0</td>\n",
       "      <td>3</td>\n",
       "      <td>male</td>\n",
       "      <td>22.0</td>\n",
       "      <td>1</td>\n",
       "      <td>0</td>\n",
       "      <td>7.2500</td>\n",
       "      <td>S</td>\n",
       "      <td>22.0</td>\n",
       "      <td>1</td>\n",
       "    </tr>\n",
       "    <tr>\n",
       "      <th>1</th>\n",
       "      <td>1</td>\n",
       "      <td>1</td>\n",
       "      <td>female</td>\n",
       "      <td>38.0</td>\n",
       "      <td>1</td>\n",
       "      <td>0</td>\n",
       "      <td>71.2833</td>\n",
       "      <td>C</td>\n",
       "      <td>38.0</td>\n",
       "      <td>0</td>\n",
       "    </tr>\n",
       "    <tr>\n",
       "      <th>2</th>\n",
       "      <td>1</td>\n",
       "      <td>3</td>\n",
       "      <td>female</td>\n",
       "      <td>26.0</td>\n",
       "      <td>0</td>\n",
       "      <td>0</td>\n",
       "      <td>7.9250</td>\n",
       "      <td>S</td>\n",
       "      <td>26.0</td>\n",
       "      <td>0</td>\n",
       "    </tr>\n",
       "    <tr>\n",
       "      <th>3</th>\n",
       "      <td>1</td>\n",
       "      <td>1</td>\n",
       "      <td>female</td>\n",
       "      <td>35.0</td>\n",
       "      <td>1</td>\n",
       "      <td>0</td>\n",
       "      <td>53.1000</td>\n",
       "      <td>S</td>\n",
       "      <td>35.0</td>\n",
       "      <td>0</td>\n",
       "    </tr>\n",
       "    <tr>\n",
       "      <th>4</th>\n",
       "      <td>0</td>\n",
       "      <td>3</td>\n",
       "      <td>male</td>\n",
       "      <td>35.0</td>\n",
       "      <td>0</td>\n",
       "      <td>0</td>\n",
       "      <td>8.0500</td>\n",
       "      <td>S</td>\n",
       "      <td>35.0</td>\n",
       "      <td>1</td>\n",
       "    </tr>\n",
       "  </tbody>\n",
       "</table>\n",
       "</div>"
      ],
      "text/plain": [
       "   Survived  Pclass     Sex   Age  SibSp  Parch     Fare Embarked  Age_Full  \\\n",
       "0         0       3    male  22.0      1      0   7.2500        S      22.0   \n",
       "1         1       1  female  38.0      1      0  71.2833        C      38.0   \n",
       "2         1       3  female  26.0      0      0   7.9250        S      26.0   \n",
       "3         1       1  female  35.0      1      0  53.1000        S      35.0   \n",
       "4         0       3    male  35.0      0      0   8.0500        S      35.0   \n",
       "\n",
       "   Gender  \n",
       "0       1  \n",
       "1       0  \n",
       "2       0  \n",
       "3       0  \n",
       "4       1  "
      ]
     },
     "execution_count": 29,
     "metadata": {},
     "output_type": "execute_result"
    }
   ],
   "source": [
    "titanic_df['Gender'] = titanic_df['Sex'].map({'female': 0, 'male': 1}).astype(int)\n",
    "print(titanic_df['Gender'].unique()) #カラム['Gender']の内容を確認する\n",
    "titanic_df.head()"
   ]
  },
  {
   "cell_type": "markdown",
   "metadata": {},
   "source": [
    "#### 2.3. 新規カラム'Pclass+Gender'を追加する  \n",
    "\n",
    "#### Pclass+Gender\n",
    ">\"1\"：High Class(女性)<1+0>  \n",
    ">\"2\"：High Class(男性)<1+1> / Middle Class(女性)<2+0>  \n",
    ">\"3\"：Middle Class(男性)<2+1> / Low Class(女性)<3+0>  \n",
    ">\"4\"：Low Class(男性)<3+1>  \n",
    "\n",
    "・Pclass(社会階級)    \n",
    "> 1 : High Class>  \n",
    "> 2 : Meddle Class  \n",
    "> 3 : Low Class  \n",
    "\n",
    "・ Gender(性別)  \n",
    "> 0：'female'(女性)  \n",
    "> 1：'male'(男性)    "
   ]
  },
  {
   "cell_type": "code",
   "execution_count": 30,
   "metadata": {},
   "outputs": [
    {
     "name": "stdout",
     "output_type": "stream",
     "text": [
      "[4 1 3 2]\n"
     ]
    },
    {
     "data": {
      "text/html": [
       "<div>\n",
       "<style scoped>\n",
       "    .dataframe tbody tr th:only-of-type {\n",
       "        vertical-align: middle;\n",
       "    }\n",
       "\n",
       "    .dataframe tbody tr th {\n",
       "        vertical-align: top;\n",
       "    }\n",
       "\n",
       "    .dataframe thead th {\n",
       "        text-align: right;\n",
       "    }\n",
       "</style>\n",
       "<table border=\"1\" class=\"dataframe\">\n",
       "  <thead>\n",
       "    <tr style=\"text-align: right;\">\n",
       "      <th></th>\n",
       "      <th>Survived</th>\n",
       "      <th>Pclass</th>\n",
       "      <th>Sex</th>\n",
       "      <th>Age</th>\n",
       "      <th>SibSp</th>\n",
       "      <th>Parch</th>\n",
       "      <th>Fare</th>\n",
       "      <th>Embarked</th>\n",
       "      <th>Age_Full</th>\n",
       "      <th>Gender</th>\n",
       "      <th>Pclass+Gender</th>\n",
       "    </tr>\n",
       "  </thead>\n",
       "  <tbody>\n",
       "    <tr>\n",
       "      <th>0</th>\n",
       "      <td>0</td>\n",
       "      <td>3</td>\n",
       "      <td>male</td>\n",
       "      <td>22.0</td>\n",
       "      <td>1</td>\n",
       "      <td>0</td>\n",
       "      <td>7.2500</td>\n",
       "      <td>S</td>\n",
       "      <td>22.0</td>\n",
       "      <td>1</td>\n",
       "      <td>4</td>\n",
       "    </tr>\n",
       "    <tr>\n",
       "      <th>1</th>\n",
       "      <td>1</td>\n",
       "      <td>1</td>\n",
       "      <td>female</td>\n",
       "      <td>38.0</td>\n",
       "      <td>1</td>\n",
       "      <td>0</td>\n",
       "      <td>71.2833</td>\n",
       "      <td>C</td>\n",
       "      <td>38.0</td>\n",
       "      <td>0</td>\n",
       "      <td>1</td>\n",
       "    </tr>\n",
       "    <tr>\n",
       "      <th>2</th>\n",
       "      <td>1</td>\n",
       "      <td>3</td>\n",
       "      <td>female</td>\n",
       "      <td>26.0</td>\n",
       "      <td>0</td>\n",
       "      <td>0</td>\n",
       "      <td>7.9250</td>\n",
       "      <td>S</td>\n",
       "      <td>26.0</td>\n",
       "      <td>0</td>\n",
       "      <td>3</td>\n",
       "    </tr>\n",
       "    <tr>\n",
       "      <th>3</th>\n",
       "      <td>1</td>\n",
       "      <td>1</td>\n",
       "      <td>female</td>\n",
       "      <td>35.0</td>\n",
       "      <td>1</td>\n",
       "      <td>0</td>\n",
       "      <td>53.1000</td>\n",
       "      <td>S</td>\n",
       "      <td>35.0</td>\n",
       "      <td>0</td>\n",
       "      <td>1</td>\n",
       "    </tr>\n",
       "    <tr>\n",
       "      <th>4</th>\n",
       "      <td>0</td>\n",
       "      <td>3</td>\n",
       "      <td>male</td>\n",
       "      <td>35.0</td>\n",
       "      <td>0</td>\n",
       "      <td>0</td>\n",
       "      <td>8.0500</td>\n",
       "      <td>S</td>\n",
       "      <td>35.0</td>\n",
       "      <td>1</td>\n",
       "      <td>4</td>\n",
       "    </tr>\n",
       "  </tbody>\n",
       "</table>\n",
       "</div>"
      ],
      "text/plain": [
       "   Survived  Pclass     Sex   Age  SibSp  Parch     Fare Embarked  Age_Full  \\\n",
       "0         0       3    male  22.0      1      0   7.2500        S      22.0   \n",
       "1         1       1  female  38.0      1      0  71.2833        C      38.0   \n",
       "2         1       3  female  26.0      0      0   7.9250        S      26.0   \n",
       "3         1       1  female  35.0      1      0  53.1000        S      35.0   \n",
       "4         0       3    male  35.0      0      0   8.0500        S      35.0   \n",
       "\n",
       "   Gender  Pclass+Gender  \n",
       "0       1              4  \n",
       "1       0              1  \n",
       "2       0              3  \n",
       "3       0              1  \n",
       "4       1              4  "
      ]
     },
     "execution_count": 30,
     "metadata": {},
     "output_type": "execute_result"
    }
   ],
   "source": [
    "# 新規カラム'Pclass+Gender'を追加する\n",
    "titanic_df['Pclass+Gender'] = titanic_df['Pclass'] + titanic_df['Gender']\n",
    "print(titanic_df['Pclass+Gender'].unique()) #新規カラム'Pclass+Gender'の内容を確認する(.unique)\n",
    "titanic_df.head()"
   ]
  },
  {
   "cell_type": "markdown",
   "metadata": {},
   "source": [
    "#### 2.4. 説明変数を作成する(”年齢”と”(社会階級+性別)”２つの説明変数を用いる)"
   ]
  },
  {
   "cell_type": "code",
   "execution_count": 31,
   "metadata": {},
   "outputs": [
    {
     "name": "stdout",
     "output_type": "stream",
     "text": [
      "〇説明変数X[\"Age_Full\",\"Pclass+Gender\"]：(データ数＆特微量)： (891, 2)\n"
     ]
    }
   ],
   "source": [
    "titanic_df_X2 = titanic_df.loc[:, [\"Age_Full\", \"Pclass+Gender\"]].values\n",
    "print('〇説明変数X[\"Age_Full\",\"Pclass+Gender\"]：(データ数＆特微量)：', titanic_df_X2.shape)"
   ]
  },
  {
   "cell_type": "markdown",
   "metadata": {},
   "source": [
    "#### 2.5. 目的変数を生成する"
   ]
  },
  {
   "cell_type": "code",
   "execution_count": 32,
   "metadata": {},
   "outputs": [
    {
     "name": "stdout",
     "output_type": "stream",
     "text": [
      "〇目的変数y[\"Survived\"](データ数＆特微量)： (891, 1)\n"
     ]
    }
   ],
   "source": [
    "titanic_df_Y2 = titanic_df.loc[:,[\"Survived\"]].values\n",
    "print('〇目的変数y[\"Survived\"](データ数＆特微量)：', titanic_df_Y2.shape)"
   ]
  },
  {
   "cell_type": "markdown",
   "metadata": {},
   "source": [
    "#### 2.6. 線形回帰モデルを実行する"
   ]
  },
  {
   "cell_type": "code",
   "execution_count": 33,
   "metadata": {},
   "outputs": [
    {
     "name": "stderr",
     "output_type": "stream",
     "text": [
      "/root/.local/lib/python3.7/site-packages/sklearn/utils/validation.py:63: DataConversionWarning: A column-vector y was passed when a 1d array was expected. Please change the shape of y to (n_samples, ), for example using ravel().\n",
      "  return f(*args, **kwargs)\n"
     ]
    },
    {
     "data": {
      "text/plain": [
       "LogisticRegression()"
      ]
     },
     "execution_count": 33,
     "metadata": {},
     "output_type": "execute_result"
    }
   ],
   "source": [
    "# (0)ライブラリ(線形回帰モデル)\n",
    "from sklearn.linear_model import LogisticRegression\n",
    "\n",
    "# (1)識別機を生成する\n",
    "clf_reg = LogisticRegression()\n",
    "# (2)サンプルデータを基に学習する\n",
    "clf_reg.fit(titanic_df_X2, titanic_df_Y2) #引数(目的変数[\"Age_Full\",\"Pclass+Gender\"]、説明変数[\"Survived\"])"
   ]
  },
  {
   "cell_type": "markdown",
   "metadata": {},
   "source": [
    "## ※課題※：年齢が30歳で男の乗客は生き残れるか？  "
   ]
  },
  {
   "cell_type": "markdown",
   "metadata": {},
   "source": [
    "#### Pclass+Gender\n",
    ">\"2\"：High Class(男性)<1+1>  \n",
    ">\"3\"：Middle Class(男性)<2+1>  \n",
    ">\"4\"：Low Class(男性)<3+1> "
   ]
  },
  {
   "cell_type": "code",
   "execution_count": 34,
   "metadata": {},
   "outputs": [
    {
     "name": "stdout",
     "output_type": "stream",
     "text": [
      "〇Pclass+Gender=\"2\"において、※生存※と予想する\n",
      "〇Pclass+Gender=\"3\"において、「死亡」と予想する\n",
      "〇Pclass+Gender=\"4\"において、「死亡」と予想する\n"
     ]
    }
   ],
   "source": [
    "for i in range(2,5,1): #\"Pclass+Gender\"の値をfor文で回す\n",
    "    x = 30 #男性の年齢\n",
    "    if clf_reg.predict([[x,i]]) == 1: #引数(\"Age_Full\", \"Pclass+Gender\")\n",
    "        print('〇Pclass+Gender=\"{}\"において、※生存※と予想する'.format(i))\n",
    "    else:\n",
    "        print('〇Pclass+Gender=\"{}\"において、「死亡」と予想する'.format(i))\n"
   ]
  },
  {
   "cell_type": "code",
   "execution_count": 35,
   "metadata": {},
   "outputs": [
    {
     "name": "stdout",
     "output_type": "stream",
     "text": [
      "〇Pclass+Gender=\"2\"において、生存確率は[[0.30829809 0.69170191]]と予想する\n",
      "〇Pclass+Gender=\"3\"において、生存確率は[[0.66890121 0.33109879]]と予想する\n",
      "〇Pclass+Gender=\"4\"において、生存確率は[[0.90154649 0.09845351]]と予想する\n"
     ]
    }
   ],
   "source": [
    "for i in range(2,5,1):\n",
    "    x = 30 #男性の年齢\n",
    "    a = clf_reg.predict_proba([[x,i]])\n",
    "    print('〇Pclass+Gender=\"{}\"において、生存確率は{}と予想する'.format(i, a))\n"
   ]
  },
  {
   "cell_type": "code",
   "execution_count": null,
   "metadata": {},
   "outputs": [],
   "source": []
  },
  {
   "cell_type": "code",
   "execution_count": null,
   "metadata": {},
   "outputs": [],
   "source": []
  },
  {
   "cell_type": "code",
   "execution_count": null,
   "metadata": {},
   "outputs": [],
   "source": []
  },
  {
   "cell_type": "markdown",
   "metadata": {},
   "source": [
    "# 〇主成分分析(PCA)"
   ]
  },
  {
   "cell_type": "markdown",
   "metadata": {},
   "source": [
    "主成分分析とは、線形変換後の\"変数の分散が最大となる射影軸\"を探索することによって、多変量(高次元)データの持つ構造をより少ない変量(次元)の指標に次元圧縮するための分析手法である。主成分分析を用いて多変量(高次元)データを２次元・３次元に圧縮することによって、データをグラフを用いて可視化することができる。  \n",
    "また主成分分析を用いて変量(次元)を落とすことは、計算時間の短縮につながる。"
   ]
  },
  {
   "cell_type": "markdown",
   "metadata": {},
   "source": [
    "#### ・学習データ  \n",
    "> ### ${\\boldsymbol{x}_{i} = (x_{i1}, x_{i2}, ..., x_{im}) \\in \\mathbb{R}^{m}}$  \n",
    ">> $i$：説明変数のインデックス  \n",
    ">> $m$：データの次元数  \n",
    "\n",
    "#### ・平均(ベクトル)  \n",
    "> ### ${\\bar{\\boldsymbol{x}} = \\dfrac{1}{n} \\sum_{i=1}^{n} \\boldsymbol{x}_{i}}$  \n",
    ">> $n$：データ数  \n",
    "\n",
    "#### ・データ行列  \n",
    "> ### ${\\bar{\\boldsymbol{X}} = (x_{1} - \\bar{x}, x_{2} - \\bar{x}, ..., x_{n} - \\bar{x})^{T} \\in \\mathbb{R}^{n \\times m}}$  \n",
    "\n",
    "#### 分散共分散行列  \n",
    "> ### ${\\Sigma = Var(\\bar{\\boldsymbol{X}}) = \\dfrac{1}{n}\\bar{\\boldsymbol{X}^{T}}\\bar{\\boldsymbol{X}}}$  \n",
    "\n",
    "#### ・線形変換後のベクトル  \n",
    "> ### ${\\boldsymbol{s}_{j} = (s_{1j}, \\cdots, s_{nj})^{T} = \\bar{\\boldsymbol{X}} \\boldsymbol{a}_{j}}(\\boldsymbol{a}_{j} \\in \\mathbb{R}^{m})$  \n",
    ">> $j$：射影軸のインデックス  \n",
    ">> $a$：係数ベクトル  \n",
    "\n",
    "#### ・線形変換後の分散  \n",
    "> ### ${Var(\\boldsymbol{s}_{j}) = \\dfrac{1}{n}\\boldsymbol{s}_{j}^{T}\\boldsymbol{s}_{j} = \\dfrac{1}{n}(\\bar{\\boldsymbol{X}}\\boldsymbol{a}_{j})^{T}(\\bar{\\boldsymbol{X}}\\boldsymbol{a}_{j}) = \\dfrac{1}{n}\\boldsymbol{a}_{j}^{T}\\bar{\\boldsymbol{X}}^{T}\\bar{\\boldsymbol{X}}\\boldsymbol{a}_{j} = \\boldsymbol{a}_{j}^{T} Var(\\bar{X})\\boldsymbol{a}_{j}}$  \n",
    "\n",
    ">> m：学習データの次元数  \n",
    ">> n：学習データの数  \n",
    ">> i：説明変数の参照インデックス  \n",
    ">> a：係数ベクトル  \n",
    ">> j：射影軸のインデックス  \n",
    "\n",
    "#### ・ラグランジュ関数(制約付き最適化問題を解く)  \n",
    "> ### $\\smash{E(\\boldsymbol{a}_{j}) = \\boldsymbol{a}_{j}^{T} Var(\\bar{X})\\boldsymbol{a}_{j} - \\lambda(\\boldsymbol{a}_{j}^{T}\\boldsymbol{a}_{j} - 1)}$  \n",
    ">> #### 目的関数：$\\boldsymbol{a}_{j}^{T} Var(\\bar{X})\\boldsymbol{a}_{j}$  \n",
    ">> #### 制約関数：$\\lambda(\\boldsymbol{a}_{j}^{T}\\boldsymbol{a}_{j} - 1)$  \n",
    "\n",
    "➡(1) ラグランジュ関数を最大にする係数ベクトル${a}_{j}$を探索する  \n",
    "➡(2) ラグランジュ関数を微分して\"0\"になる点を算出する  \n",
    "> ### $\\smash{\\dfrac{\\partial E(\\boldsymbol{a}_{j})}{\\partial \\boldsymbol{a}_{j}} = 2Var(\\bar{X})\\boldsymbol{a}_{j} - 2 \\lambda\\boldsymbol{a}_{j} = 0}$  \n",
    "\n",
    "➡(3) 上記の公式の両辺を２で割って変形する  \n",
    "#### ・ラグランジュ関数の解  \n",
    "> ### $Var(\\bar{X})a_{j} = \\lambda a_{j}$ \n",
    ">> $a_{j}$：元データの分散共分散行列の固有ベクトル\n",
    "\n",
    "#### ・寄与率  \n",
    "寄与率とは、第K主成分が持つ情報量の割合のことである。  \n",
    "> ### $c_{k} = \\frac{\\lambda_k}{\\sum_{i=1}^m \\lambda_i} = \\frac{\\lambda_{k} \\text{（第k主成分の分散）}}{\\lambda_{1} + \\lambda_{2} + \\lambda_{3}+ \\cdots + \\lambda_{m-1} + \\lambda_{m}　\\text{（主成分の総分散）}}$  \n",
    "\n",
    "#### ・累積寄与率  \n",
    "累積寄与率とは、全情報量に対して、第1主成分～第K主成分まで圧縮した情報量の割合のことである。  \n",
    "> ### $r_{k} = \\frac{\\sum_{j=1}^k\\lambda_{j}}{\\sum_{i=1}^m \\lambda_{i}} = \\frac{\\lambda_{1} + \\lambda_{2} + \\lambda_{3} + \\cdots + \\lambda_{k} \\text{（第１～K主成分の分散）}}{\\lambda_{1} + \\lambda_{2} + \\lambda_{3} + \\cdots + \\lambda_{m-1} + \\lambda_{m} \\text{（主成分の総分散）}}$  \n"
   ]
  },
  {
   "cell_type": "code",
   "execution_count": null,
   "metadata": {},
   "outputs": [],
   "source": []
  },
  {
   "cell_type": "code",
   "execution_count": null,
   "metadata": {},
   "outputs": [],
   "source": []
  },
  {
   "cell_type": "markdown",
   "metadata": {},
   "source": [
    "## ※課題※：32次元のデータを2次元上に次元圧縮した際に、うまく判別できるか\n",
    "> (設定値)  \n",
    "> １．乳がん検査データを利用し\"ロジスティック回帰モデル\"を作成する  \n",
    "> ２．主成分を利用し2次元空間上に次元圧縮する(主成分分析(PCA))  "
   ]
  },
  {
   "cell_type": "markdown",
   "metadata": {},
   "source": [
    "#### 1.1. ライブラリ（まとめ）"
   ]
  },
  {
   "cell_type": "code",
   "execution_count": 36,
   "metadata": {},
   "outputs": [],
   "source": [
    "# ライブラリ（サンプルデータ）\n",
    "from sklearn.datasets import load_breast_cancer\n",
    "# ライブラリ（データをランダムに分割する）\n",
    "from sklearn.model_selection import ShuffleSplit\n",
    "# ライブラリ（データを標準化する）\n",
    "from sklearn.preprocessing import StandardScaler\n",
    "# ライブラリ（線形モデル）\n",
    "from sklearn.linear_model import LogisticRegression\n",
    "# ライブラリ（精度指標）\n",
    "from sklearn.metrics import accuracy_score\n",
    "# (3.3.1)ライブラリ（混同行列）\n",
    "from sklearn.metrics import confusion_matrix"
   ]
  },
  {
   "cell_type": "markdown",
   "metadata": {},
   "source": [
    "#### 1.2. サンプルデータを用意する(共通)"
   ]
  },
  {
   "cell_type": "code",
   "execution_count": 37,
   "metadata": {},
   "outputs": [
    {
     "name": "stdout",
     "output_type": "stream",
     "text": [
      "〇data01_X：データ数と特徴数 (569, 30)\n",
      "〇data01_X：特徴量の一覧\n",
      "['mean radius' 'mean texture' 'mean perimeter' 'mean area'\n",
      " 'mean smoothness' 'mean compactness' 'mean concavity'\n",
      " 'mean concave points' 'mean symmetry' 'mean fractal dimension'\n",
      " 'radius error' 'texture error' 'perimeter error' 'area error'\n",
      " 'smoothness error' 'compactness error' 'concavity error'\n",
      " 'concave points error' 'symmetry error' 'fractal dimension error'\n",
      " 'worst radius' 'worst texture' 'worst perimeter' 'worst area'\n",
      " 'worst smoothness' 'worst compactness' 'worst concavity'\n",
      " 'worst concave points' 'worst symmetry' 'worst fractal dimension']\n"
     ]
    }
   ],
   "source": [
    "# サンプルデータ（共通）\n",
    "from sklearn.datasets import load_breast_cancer\n",
    "data = load_breast_cancer()\n",
    "# ---------------------------------------------------------------\n",
    "# .dataにデータが格納されている\n",
    "data01_X = data.data\n",
    "print('〇data01_X：データ数と特徴数', data01_X.shape)\n",
    "# .targetにラベルが格納されている\n",
    "data01_Y = data.target\n",
    "# .feature_namesにデータの特徴量が格納されている ※識別に利用する\n",
    "data01_feature_names = data.feature_names\n",
    "print(\"〇data01_X：特徴量の一覧\", data01_feature_names, sep='\\n')\n",
    "# -----------------------------------------------------------------------------------------------------"
   ]
  },
  {
   "cell_type": "markdown",
   "metadata": {},
   "source": [
    "#### 1.3. サンプルデータをランダムに分割して、分割したデータを正規化する"
   ]
  },
  {
   "cell_type": "code",
   "execution_count": 38,
   "metadata": {},
   "outputs": [
    {
     "name": "stdout",
     "output_type": "stream",
     "text": [
      "〇data01_X_train_scale：データサイズ＆特徴量 (455, 30)\n",
      "〇data01_X_test_scale：データサイズ＆特徴量 (114, 30)\n"
     ]
    }
   ],
   "source": [
    "# (1.0)ライブラリ（データをランダムに分割する）\n",
    "from sklearn.model_selection import ShuffleSplit\n",
    "\n",
    "# (1.1)識別機を生成する\n",
    "ss = ShuffleSplit(n_splits=1, train_size=0.8, test_size=0.2, random_state=0)\n",
    "# (1.2)学習データ(0.8)とテストデータ(0.2)に分割する\n",
    "train_index, test_index = next(ss.split(data01_X, data01_Y)) #ShuffleSplit\n",
    "# (1.3)学習データとテストデータに分ける\n",
    "data01_X_train, data01_X_test = data01_X[train_index], data01_X[test_index]\n",
    "data01_Y_train, data01_Y_test = data01_Y[train_index], data01_Y[test_index]\n",
    "# --------------------------------------------------------------------------------------------------------------------\n",
    "# (2.0)ライブラリ（標準化）\n",
    "from sklearn.preprocessing import StandardScaler\n",
    "\n",
    "# (2.1)インスタンスを生成する\n",
    "scaler = StandardScaler()\n",
    "# (☆2.2)学習データ(train)をもとに学習させる\n",
    "scaler.fit(data01_X_train) #引数(data01_X_train)\n",
    "# (2.3)学習データを反映させる.transform()\n",
    "data01_X_train_scale = scaler.transform(data01_X_train) #学習データ(data01_X_train)を標準化する\n",
    "print('〇data01_X_train_scale：データサイズ＆特徴量',data01_X_train_scale.shape)\n",
    "\n",
    "data01_X_test_scale = scaler.transform(data01_X_test) #テストデータ(data01_X_test)を標準化する\n",
    "print('〇data01_X_test_scale：データサイズ＆特徴量',data01_X_test_scale.shape)\n",
    "# --------------------------------------------------------------------------------------------------------------------"
   ]
  },
  {
   "cell_type": "markdown",
   "metadata": {},
   "source": [
    "#### 1.4. ロジスティック回帰モデルから決定係数Rを算出する"
   ]
  },
  {
   "cell_type": "code",
   "execution_count": 39,
   "metadata": {},
   "outputs": [
    {
     "name": "stdout",
     "output_type": "stream",
     "text": [
      "〇学習したデータから算出した決定係数Rの値：0.965\n"
     ]
    }
   ],
   "source": [
    "# (3.0)ライブラリ（線形モデル）\n",
    "from sklearn.linear_model import LogisticRegression\n",
    "\n",
    "# (3.1)識別機を生成する\n",
    "clf_reg = LogisticRegression(solver='liblinear', random_state=0)\n",
    "# (☆3.2)学習データ(train)で学習する\n",
    "clf_reg.fit(data01_X_train_scale, data01_Y_train)\n",
    "# (3.3)学習したデータを用いて決定係数Rを算出する\n",
    "clf_reg.score(data01_X_test_scale, data01_Y_test)\n",
    "print('〇学習したデータから算出した決定係数Rの値：{:.3f}'.format(clf_reg.score(data01_X_test_scale, data01_Y_test)))\n",
    "# --------------------------------------------------------------------------------------------------------------------"
   ]
  },
  {
   "cell_type": "markdown",
   "metadata": {},
   "source": [
    "#### 1.5. モデルの評価(ロジスティック回帰モデル)"
   ]
  },
  {
   "cell_type": "code",
   "execution_count": 40,
   "metadata": {},
   "outputs": [
    {
     "name": "stdout",
     "output_type": "stream",
     "text": [
      "〇data01_Y_test：テストデータの内容を表示する\n",
      "[0 1 1 1 1 1 1 1 1 1 1 1 1 1 1 0 1 0 0 0 0 0 1 1 0 1 1 0 1 0 1 0 1 0 1 0 1\n",
      " 0 1 0 0 1 0 1 1 0 1 1 1 0 0 0 0 1 1 1 1 1 1 0 0 0 1 1 0 1 0 0 0 1 1 0 1 0\n",
      " 0 1 1 1 1 1 0 0 0 1 0 1 1 1 0 0 1 0 1 0 1 1 0 1 1 1 1 1 1 1 0 1 0 1 0 0 1\n",
      " 0 0 1]\n",
      "〇data01_Y_pred：テストデータに対する予測値を算出する\n",
      "[0 1 1 1 1 1 1 1 1 1 1 1 1 0 1 0 1 0 0 0 0 0 1 1 0 1 1 0 1 0 1 0 1 0 1 0 1\n",
      " 0 1 0 0 1 0 1 1 0 1 1 1 0 0 0 0 1 1 1 1 1 1 0 0 0 1 1 0 1 0 0 0 1 1 0 1 0\n",
      " 0 1 1 1 1 1 0 0 0 1 0 1 1 1 0 0 1 0 0 0 1 1 0 1 1 1 1 1 1 1 0 1 0 1 1 1 1\n",
      " 0 0 1]\n",
      "〇精度指標の値:0.965\n",
      "〇混同行列\n",
      "[[45  2]\n",
      " [ 2 65]]\n",
      "〇混同行列：真陽性(TP)：45\n",
      "〇混同行列：偽陰性(FN)：2\n",
      "〇混同行列：偽陽性(FP)：2\n",
      "〇混同行列：真陰性(TN)：65\n"
     ]
    }
   ],
   "source": [
    "# (☆4.1)テストデータ(☆3.2)に対する予測値を算出する\n",
    "data01_Y_pred = clf_reg.predict(data01_X_test_scale) #.predict(引数(X_test))\n",
    "\n",
    "print('〇data01_Y_test：テストデータの内容を表示する', data01_Y_test, sep='\\n')\n",
    "print('〇data01_Y_pred：テストデータに対する予測値を算出する', data01_Y_pred, sep='\\n')\n",
    "# -----------------------------------------------------------------------------------------------------\n",
    "# (4.2.1)ライブラリ（精度指標）\n",
    "from sklearn.metrics import accuracy_score\n",
    "\n",
    "# (4.2.2)インスタンスを生成する\n",
    "data01_accuracy_score = accuracy_score(data01_Y_test, data01_Y_pred) #引数(Y_test,Y_pred)\n",
    "print('〇精度指標の値:{:.3f}'.format(data01_accuracy_score))\n",
    "# -----------------------------------------------------------------------------------------------------\n",
    "# (4.3.1)ライブラリ（混同行列）\n",
    "from sklearn.metrics import confusion_matrix\n",
    "\n",
    "# (4.3.2)インスタンスを生成する\n",
    "data01_confusion_matrix = confusion_matrix(data01_Y_test, data01_Y_pred) #引数(Y_test,Y_pred)\n",
    "print('〇混同行列', data01_confusion_matrix, sep='\\n')\n",
    "print('〇混同行列：真陽性(TP)：{}'.format(data01_confusion_matrix[0,0]))\n",
    "print('〇混同行列：偽陰性(FN)：{}'.format(data01_confusion_matrix[0,1]))\n",
    "print('〇混同行列：偽陽性(FP)：{}'.format(data01_confusion_matrix[1,0]))\n",
    "print('〇混同行列：真陰性(TN)：{}'.format(data01_confusion_matrix[1,1]))\n",
    "# -----------------------------------------------------------------------------------------------------"
   ]
  },
  {
   "cell_type": "code",
   "execution_count": null,
   "metadata": {},
   "outputs": [],
   "source": []
  },
  {
   "cell_type": "markdown",
   "metadata": {},
   "source": [
    "#### 2.1. ライブラリ（まとめ）"
   ]
  },
  {
   "cell_type": "code",
   "execution_count": 41,
   "metadata": {},
   "outputs": [],
   "source": [
    "# ライブラリ（主成分分析(PCA)）\n",
    "from sklearn.decomposition import PCA"
   ]
  },
  {
   "cell_type": "markdown",
   "metadata": {},
   "source": [
    "#### 2.2. サンプルデータを用意する(共通)"
   ]
  },
  {
   "cell_type": "code",
   "execution_count": 42,
   "metadata": {},
   "outputs": [
    {
     "name": "stdout",
     "output_type": "stream",
     "text": [
      "〇data01_X：データ数と特徴数 (569, 30)\n",
      "〇data01_X：特徴量の一覧\n",
      "['mean radius' 'mean texture' 'mean perimeter' 'mean area'\n",
      " 'mean smoothness' 'mean compactness' 'mean concavity'\n",
      " 'mean concave points' 'mean symmetry' 'mean fractal dimension'\n",
      " 'radius error' 'texture error' 'perimeter error' 'area error'\n",
      " 'smoothness error' 'compactness error' 'concavity error'\n",
      " 'concave points error' 'symmetry error' 'fractal dimension error'\n",
      " 'worst radius' 'worst texture' 'worst perimeter' 'worst area'\n",
      " 'worst smoothness' 'worst compactness' 'worst concavity'\n",
      " 'worst concave points' 'worst symmetry' 'worst fractal dimension']\n"
     ]
    }
   ],
   "source": [
    "# サンプルデータ（共通）\n",
    "from sklearn.datasets import load_breast_cancer\n",
    "data = load_breast_cancer()\n",
    "# ---------------------------------------------------------------\n",
    "# .dataにデータが格納されている\n",
    "data01_X = data.data\n",
    "print('〇data01_X：データ数と特徴数', data01_X.shape)\n",
    "# .targetにラベルが格納されている\n",
    "data01_Y = data.target\n",
    "# .feature_namesにデータの特徴量が格納されている ※識別に利用する\n",
    "data01_feature_names = data.feature_names\n",
    "print(\"〇data01_X：特徴量の一覧\", data01_feature_names, sep='\\n')\n",
    "# -----------------------------------------------------------------------------------------------------"
   ]
  },
  {
   "cell_type": "markdown",
   "metadata": {},
   "source": [
    "#### 2.3. サンプルデータをランダムに分割する"
   ]
  },
  {
   "cell_type": "code",
   "execution_count": 43,
   "metadata": {},
   "outputs": [],
   "source": [
    "# (1.0)ライブラリ（データをランダムに分割する）\n",
    "from sklearn.model_selection import ShuffleSplit\n",
    "\n",
    "# (1.1)識別機を生成する\n",
    "ss = ShuffleSplit(n_splits=1, train_size=0.8, test_size=0.2, random_state=0)\n",
    "# (1.2)学習データ(0.8)とテストデータ(0.2)に分割する\n",
    "train_index, test_index = next(ss.split(data01_X, data01_Y)) #ShuffleSplit\n",
    "# (1.3)学習データとテストデータに分ける\n",
    "data01_X_train, data01_X_test = data01_X[train_index], data01_X[test_index]\n",
    "data01_Y_train, data01_Y_test = data01_Y[train_index], data01_Y[test_index]\n",
    "# --------------------------------------------------------------------------------------------------------------------"
   ]
  },
  {
   "cell_type": "markdown",
   "metadata": {},
   "source": [
    "#### 2.4. 主成分分析(PCA)を用いて次元数を削減する"
   ]
  },
  {
   "cell_type": "code",
   "execution_count": 45,
   "metadata": {},
   "outputs": [
    {
     "name": "stdout",
     "output_type": "stream",
     "text": [
      "〇data01_X_train_pca：学習したデータのサンプル＆特徴量(変換後) (455, 30)\n",
      "〇data01_X_test_pca：学習したデータのサンプル＆特徴量(変換後) (114, 30)\n",
      "〇data01_X_new(寄与率)：データ数＆特徴量 (30,)\n"
     ]
    },
    {
     "data": {
      "text/plain": [
       "Text(0.5, 1.0, '〇data01_X_new(累積寄与率)')"
      ]
     },
     "execution_count": 45,
     "metadata": {},
     "output_type": "execute_result"
    },
    {
     "data": {
      "image/png": "[encoded data removed]",
      "text/plain": [
       "<Figure size 1080x216 with 2 Axes>"
      ]
     },
     "metadata": {
      "needs_background": "light"
     },
     "output_type": "display_data"
    }
   ],
   "source": [
    "# ライブラリ（主成分分析(PCA)）\n",
    "from sklearn.decomposition import PCA\n",
    "# -------------------------------------------------------------------------------------------------\n",
    "# (1)インスタンスを生成する\n",
    "pca = PCA()\n",
    "# (2)学習機を学習データで学習する.fit()\n",
    "pca.fit(data01_X_train)\n",
    "# (※3)学習したデータを変換する.transform()\n",
    "data01_X_train_pca = pca.transform(data01_X_train)\n",
    "print('〇data01_X_train_pca：学習したデータのサンプル＆特徴量(変換後)', data01_X_train_pca.shape)\n",
    "data01_X_test_pca = pca.transform(data01_X_test)\n",
    "print('〇data01_X_test_pca：学習したデータのサンプル＆特徴量(変換後)', data01_X_test_pca.shape)\n",
    "# -------------------------------------------------------------------------------------------------\n",
    "# (2.1)学習したデータから寄与率を抽出する.\n",
    "data01_X_new = pca.explained_variance_ratio_\n",
    "print('〇data01_X_new(寄与率)：データ数＆特徴量', data01_X_new.shape)\n",
    "# -------------------------------------------------------------------------------------------------\n",
    "# (2.2)描画する\n",
    "fig, axes = plt.subplots(1, 2, figsize=(15,3))\n",
    "axes[0].plot(pca.explained_variance_ratio_)\n",
    "axes[0].set_title('〇data01_X_new(寄与率)')\n",
    "axes[1].plot(np.add.accumulate(pca.explained_variance_ratio_))\n",
    "axes[1].set_title('〇data01_X_new(累積寄与率)')\n",
    "# ------------------------------------------------------------------------------------------------"
   ]
  },
  {
   "cell_type": "markdown",
   "metadata": {},
   "source": [
    "#### 2.5. 主成分分析(PCA)：”次元”を減らして表現する利点を確認する"
   ]
  },
  {
   "cell_type": "code",
   "execution_count": 46,
   "metadata": {},
   "outputs": [
    {
     "name": "stdout",
     "output_type": "stream",
     "text": [
      "〇主成分分析における決定係数Rの値(1次元の場合)：0.9211\n",
      "〇主成分分析における決定係数Rの値(2次元の場合)：0.9474\n",
      "〇主成分分析における決定係数Rの値(3次元の場合)：0.9474\n",
      "〇主成分分析における決定係数Rの値(4次元の場合)：0.9474\n",
      "〇主成分分析における決定係数Rの値(5次元の場合)：0.9386\n",
      "〇主成分分析における決定係数Rの値(6次元の場合)：0.9386\n",
      "〇主成分分析における決定係数Rの値(7次元の場合)：0.9474\n",
      "〇主成分分析における決定係数Rの値(8次元の場合)：0.9474\n",
      "〇主成分分析における決定係数Rの値(9次元の場合)：0.9474\n",
      "〇主成分分析における決定係数Rの値(10次元の場合)：0.9474\n",
      "〇主成分分析における決定係数Rの値(11次元の場合)：0.9474\n",
      "〇主成分分析における決定係数Rの値(12次元の場合)：0.9474\n",
      "〇主成分分析における決定係数Rの値(13次元の場合)：0.9474\n",
      "〇主成分分析における決定係数Rの値(14次元の場合)：0.9474\n",
      "〇主成分分析における決定係数Rの値(15次元の場合)：0.9474\n",
      "〇主成分分析における決定係数Rの値(16次元の場合)：0.9474\n",
      "〇主成分分析における決定係数Rの値(17次元の場合)：0.9474\n",
      "〇主成分分析における決定係数Rの値(18次元の場合)：0.9474\n",
      "〇主成分分析における決定係数Rの値(19次元の場合)：0.9474\n",
      "〇主成分分析における決定係数Rの値(20次元の場合)：0.9474\n",
      "〇主成分分析における決定係数Rの値(21次元の場合)：0.9474\n",
      "〇主成分分析における決定係数Rの値(22次元の場合)：0.9474\n",
      "〇主成分分析における決定係数Rの値(23次元の場合)：0.9474\n",
      "〇主成分分析における決定係数Rの値(24次元の場合)：0.9474\n",
      "〇主成分分析における決定係数Rの値(25次元の場合)：0.9474\n",
      "〇主成分分析における決定係数Rの値(26次元の場合)：0.9474\n",
      "〇主成分分析における決定係数Rの値(27次元の場合)：0.9474\n",
      "〇主成分分析における決定係数Rの値(28次元の場合)：0.9474\n",
      "〇主成分分析における決定係数Rの値(29次元の場合)：0.9474\n",
      "〇主成分分析における決定係数Rの値(30次元の場合)：0.9474\n"
     ]
    }
   ],
   "source": [
    "# (※3.0)識別機を生成する(線形モデル)\n",
    "from sklearn.linear_model import LogisticRegression\n",
    "# ---------------------------------------------------------\n",
    "# (3.1)インスタンスを生成する\n",
    "clf_reg = LogisticRegression(solver='liblinear')\n",
    "# (3.2)識別機を生成する\n",
    "clf_reg.fit(data01_X_train_pca, data01_Y_train)\n",
    "# (3.3)決定係数Rを算出する\n",
    "clf_reg.score(data01_X_test_pca, data01_Y_test)\n",
    "# ---------------------------------------------------------\n",
    "# (※3.4.1)主成分分析(PCA)を用いて”次元”を減らして表現する\n",
    "for i in np.arange(1, 31, 1):\n",
    "    clf_reg.fit(data01_X_train_pca[:,0:i], data01_Y_train) #次元数を調整する(i)\n",
    "    print('〇主成分分析における決定係数Rの値({}次元の場合)：{:.4f}'.format(i, clf_reg.score(data01_X_test_pca[:,0:i], data01_Y_test)))"
   ]
  },
  {
   "cell_type": "markdown",
   "metadata": {},
   "source": [
    "#### 2.6. 主成分分析(PCA)によって２次元に圧縮したデータを描画する"
   ]
  },
  {
   "cell_type": "code",
   "execution_count": 47,
   "metadata": {},
   "outputs": [
    {
     "data": {
      "image/png": "[encoded data removed]",
      "text/plain": [
       "<Figure size 432x288 with 1 Axes>"
      ]
     },
     "metadata": {
      "needs_background": "light"
     },
     "output_type": "display_data"
    }
   ],
   "source": [
    "# (4)標準化を適用したデータの１部を描画する\n",
    "plt.scatter(data01_X_train_pca[:,3], data01_X_train_pca[:,4], c='blue', label='data01_X_train_pca', alpha=0.3)\n",
    "plt.scatter(data01_X_test_pca[:,3], data01_X_test_pca[:,4], c='red', label='data01_X_test_pca', alpha=0.3)\n",
    "plt.xlabel(data01_feature_names[3])\n",
    "plt.ylabel(data01_feature_names[4])\n",
    "plt.legend()\n",
    "plt.show()"
   ]
  },
  {
   "cell_type": "code",
   "execution_count": null,
   "metadata": {},
   "outputs": [],
   "source": []
  },
  {
   "cell_type": "code",
   "execution_count": null,
   "metadata": {},
   "outputs": [],
   "source": []
  },
  {
   "cell_type": "code",
   "execution_count": null,
   "metadata": {},
   "outputs": [],
   "source": []
  },
  {
   "cell_type": "markdown",
   "metadata": {},
   "source": [
    "# 〇K近傍法(KNN：k-Nearest Neighbor)"
   ]
  },
  {
   "cell_type": "markdown",
   "metadata": {},
   "source": [
    "K近傍法とは、\"分類問題\"に用いられる機械学習の手法である。(教師あり学習)  \n",
    "\n",
    "#### ・アルゴリズム(K近傍法)　　\n",
    "> 最近傍のデータをK個取得して、それらのうち最も多くのデータが所属するクラスごとにデータを分類する。\n",
    ">> $K$：ハイパーバラメータ(値が多くなると境界線は滑らかになる)"
   ]
  },
  {
   "cell_type": "markdown",
   "metadata": {},
   "source": [
    "### ※課題※：人口データと分類結果をプロットしてください\n",
    "> (設定値) \n",
    "> １．人口データを分類  \n",
    "> (参照文献)：https://qr.paps.jp/vBqnd"
   ]
  },
  {
   "cell_type": "markdown",
   "metadata": {},
   "source": [
    "#### １．ライブラリ(まとめ)"
   ]
  },
  {
   "cell_type": "code",
   "execution_count": 48,
   "metadata": {},
   "outputs": [],
   "source": [
    "# ライブラリ（サンプルデータ）\n",
    "from sklearn.datasets import make_blobs\n",
    "# ライブラリ（K近傍法）\n",
    "from sklearn.neighbors import KNeighborsClassifier"
   ]
  },
  {
   "cell_type": "markdown",
   "metadata": {},
   "source": [
    "#### ２．サンプルデータを生成する"
   ]
  },
  {
   "cell_type": "code",
   "execution_count": 49,
   "metadata": {},
   "outputs": [
    {
     "name": "stdout",
     "output_type": "stream",
     "text": [
      "〇data01_X_blobs：データサイズ＆特徴量 (50, 2)\n",
      "〇data01_Y_blobs：データサイズ＆特徴量 (50,)\n"
     ]
    },
    {
     "data": {
      "image/png": "[encoded data removed]",
      "text/plain": [
       "<Figure size 432x288 with 1 Axes>"
      ]
     },
     "metadata": {
      "needs_background": "light"
     },
     "output_type": "display_data"
    }
   ],
   "source": [
    "# (01)サンプルデータを作成する　#ライブラリ（make_blobs）\n",
    "from sklearn.datasets import make_blobs\n",
    "# ----------------------------------------------------------------------------------------------\n",
    "data01_X_blobs, data01_Y_blobs = make_blobs(n_samples=50, #50個生成 (学習データ、訓練データ)\n",
    "                                            n_features=2, #2次元\n",
    "                                            centers=5, #クラスタの中心5個\n",
    "                                            cluster_std=0.8, #クラスタの大きさ(標準偏差)\n",
    "                                            random_state=3) #乱数種（再現用）\n",
    "print('〇data01_X_blobs：データサイズ＆特徴量', data01_X_blobs.shape)\n",
    "print('〇data01_Y_blobs：データサイズ＆特徴量', data01_Y_blobs.shape)\n",
    "# ----------------------------------------------------------------------------------------------\n",
    "# (02)サンプルデータを描画する\n",
    "plt.set_cmap(plt.cm.gist_ncar)\n",
    "plt.scatter(data01_X_blobs[:,0], data01_X_blobs[:,1], c= data01_Y_blobs, s=50, edgecolors='k')\n",
    "plt.show()"
   ]
  },
  {
   "cell_type": "markdown",
   "metadata": {},
   "source": [
    "#### ３．境界線を描画する関数を用意する"
   ]
  },
  {
   "cell_type": "code",
   "execution_count": 50,
   "metadata": {},
   "outputs": [],
   "source": [
    "def plotBoundary(X, clf, mesh=True, cmap=plt.get_cmap()): \n",
    "    # plot range\n",
    "    x_min = min(X[:,0])\n",
    "    x_max = max(X[:,0])\n",
    "    y_min = min(X[:,1])\n",
    "    y_max = max(X[:,1])\n",
    "    # visualizing decision function\n",
    "    XX, YY = np.mgrid[x_min:x_max:200j, y_min:y_max:200j]    \n",
    "    Z = clf.predict(np.c_[XX.ravel(), YY.ravel()])     \n",
    "    Z = Z.reshape(XX.shape) # just reshape\n",
    "    if mesh:\n",
    "        plt.pcolormesh(XX, YY, Z, zorder=-10, cmap=cmap)\n",
    "    plt.xlim(x_min, x_max)\n",
    "    plt.ylim(y_min, y_max)"
   ]
  },
  {
   "cell_type": "markdown",
   "metadata": {},
   "source": [
    "#### ４．K近傍法を描画する"
   ]
  },
  {
   "cell_type": "code",
   "execution_count": 51,
   "metadata": {},
   "outputs": [
    {
     "data": {
      "text/plain": [
       "<matplotlib.legend.Legend at 0x7fbc41896950>"
      ]
     },
     "execution_count": 51,
     "metadata": {},
     "output_type": "execute_result"
    },
    {
     "data": {
      "text/plain": [
       "<Figure size 432x288 with 0 Axes>"
      ]
     },
     "metadata": {},
     "output_type": "display_data"
    },
    {
     "data": {
      "image/png": "[encoded data removed]",
      "text/plain": [
       "<Figure size 1080x360 with 2 Axes>"
      ]
     },
     "metadata": {
      "needs_background": "light"
     },
     "output_type": "display_data"
    }
   ],
   "source": [
    "# (1.1)ライブラリ（最近傍識別器）\n",
    "from sklearn.neighbors import KNeighborsClassifier\n",
    "clf = KNeighborsClassifier(n_neighbors=1) #\"最近傍識別の値を１にする\n",
    "# ---------------------------------------------------------------------------------------------------------------------\n",
    "# (1.2)生成した(0.1)サンプルデータを基に学習する.fit()\n",
    "clf.fit(data01_X_blobs, data01_Y_blobs)\n",
    "# (1.3)描画する\n",
    "plt.set_cmap(plt.cm.gist_ncar)\n",
    "fig, axes = plt.subplots(nrows=1, ncols=2, figsize=(15,5))\n",
    "axes[0].scatter(data01_X_blobs[:,0], data01_X_blobs[:,1], c=data01_Y_blobs, s=50, edgecolors='k', label='〇サンプルデータを描画する')\n",
    "axes[0].legend()\n",
    "axes[1].scatter(data01_X_blobs[:,0], data01_X_blobs[:,1], c=data01_Y_blobs, s=50, edgecolors='k')\n",
    "axes[1].plot([plotBoundary(data01_X_blobs, clf)], label='〇境界線を描画する')\n",
    "axes[1].legend()\n",
    "# ---------------------------------------------------------------------------------------------------------------------"
   ]
  },
  {
   "cell_type": "markdown",
   "metadata": {},
   "source": [
    "#### ５．K近傍法の識別機の数を増やす"
   ]
  },
  {
   "cell_type": "code",
   "execution_count": 62,
   "metadata": {},
   "outputs": [
    {
     "data": {
      "image/png": "[encoded data removed]",
      "text/plain": [
       "<Figure size 432x288 with 1 Axes>"
      ]
     },
     "metadata": {
      "needs_background": "light"
     },
     "output_type": "display_data"
    },
    {
     "data": {
      "image/png": "[encoded data removed]",
      "text/plain": [
       "<Figure size 432x288 with 1 Axes>"
      ]
     },
     "metadata": {
      "needs_background": "light"
     },
     "output_type": "display_data"
    },
    {
     "data": {
      "image/png": "[encoded data removed]",
      "text/plain": [
       "<Figure size 432x288 with 1 Axes>"
      ]
     },
     "metadata": {
      "needs_background": "light"
     },
     "output_type": "display_data"
    },
    {
     "data": {
      "image/png": "[encoded data removed]",
      "text/plain": [
       "<Figure size 432x288 with 1 Axes>"
      ]
     },
     "metadata": {
      "needs_background": "light"
     },
     "output_type": "display_data"
    },
    {
     "data": {
      "image/png": "[encoded data removed]",
      "text/plain": [
       "<Figure size 432x288 with 1 Axes>"
      ]
     },
     "metadata": {
      "needs_background": "light"
     },
     "output_type": "display_data"
    }
   ],
   "source": [
    "for i in np.arange(1,31,6): #最近識別機の数を増やす\n",
    "    clf.n_neighbors = i\n",
    "    plt.set_cmap(plt.cm.gist_ncar)\n",
    "    plt.scatter(data01_X_blobs[:, 0], data01_X_blobs[:, 1], marker='o', s=50, c=data01_Y_blobs, edgecolors='k')\n",
    "    plotBoundary(data01_X_blobs, clf)\n",
    "    plt.title(\"{}-NN\".format(i))\n",
    "    plt.show()"
   ]
  },
  {
   "cell_type": "code",
   "execution_count": null,
   "metadata": {},
   "outputs": [],
   "source": []
  },
  {
   "cell_type": "code",
   "execution_count": null,
   "metadata": {},
   "outputs": [],
   "source": []
  },
  {
   "cell_type": "code",
   "execution_count": null,
   "metadata": {},
   "outputs": [],
   "source": []
  },
  {
   "cell_type": "markdown",
   "metadata": {},
   "source": [
    "# 〇K平均法(K-means)"
   ]
  },
  {
   "cell_type": "markdown",
   "metadata": {},
   "source": [
    "K平均法(K-means)とは、与えられたデータを$K$個のクラスタ(特微が似ているグループ)に分類する手法である。(教師なし学習)  \n",
    "クラスタリング手法とは、特微の似ているもの同士をグループ化することである。  \n",
    "#### ・アルゴリズム(K-means)  \n",
    "> (1) 各クラスタ中心の\"初期値\"を設定する  \n",
    "> (2) 各データ点に対して、各クラスタ中心との距離を計算し、最も距離が近いクラスタを割り当てる  \n",
    "> (3) 各クラスタの平均ベクトル(中心)を計算する  \n",
    "> (4) 収束するまで(2)(3)の処理を繰り返す  "
   ]
  },
  {
   "cell_type": "code",
   "execution_count": null,
   "metadata": {},
   "outputs": [],
   "source": []
  },
  {
   "cell_type": "code",
   "execution_count": null,
   "metadata": {},
   "outputs": [],
   "source": []
  },
  {
   "cell_type": "code",
   "execution_count": null,
   "metadata": {},
   "outputs": [],
   "source": []
  },
  {
   "cell_type": "markdown",
   "metadata": {},
   "source": [
    "# 〇サポートベクターマシン(SVM)"
   ]
  },
  {
   "cell_type": "markdown",
   "metadata": {},
   "source": [
    "## １．サポートベクターマシン(SVM)  "
   ]
  },
  {
   "cell_type": "markdown",
   "metadata": {},
   "source": [
    "サポートベクターマシンとは、２クラス分類のための機械学習の手法である。(教師あり学習)  \n",
    "そしてサポートベクターマシンは、線形モデルの正負で２値分類をして、最も近いデータ点との距離(マージン)が最大となる線形判別関数を計算する。  \n",
    "\n",
    "### ・目的関数※\n",
    "> ### ${min_{w, b} \\dfrac{1}{2} ||w||^{2}}$  \n",
    "\n",
    "### ・制約条件  \n",
    "> ### $t_{i}(w^{T}x_{i} + b) \\geq 1 \\qquad(i = 1, 2, 3, \\cdots, n_{-1}, n)$  \n",
    ">> $t_{i}$：分類(-1 or 1)  \n",
    ">> $W$：パラメータ  \n",
    ">> $x_{i}$：説明変数  \n",
    ">> $b$：パイアス  \n",
    ">> $i$：説明変数のインデックス  \n"
   ]
  },
  {
   "cell_type": "markdown",
   "metadata": {},
   "source": [
    "## ２．サポートベクタ  "
   ]
  },
  {
   "cell_type": "markdown",
   "metadata": {},
   "source": [
    "サポートベクタとは、線形判別関数の最も近くにあるデータのことを指す。  \n",
    "※詳細な情報(https://qr.paps.jp/daPeF)"
   ]
  },
  {
   "cell_type": "markdown",
   "metadata": {},
   "source": [
    "## ３．ソフトマージンSVM"
   ]
  },
  {
   "cell_type": "markdown",
   "metadata": {},
   "source": [
    "ソフトマージンSVMとは、データを線形分離することができないときに、誤差を許容することで、誤差に対応したSVMのことである。  \n",
    "※詳細な情報(https://qr.paps.jp/rVoTE)"
   ]
  },
  {
   "cell_type": "markdown",
   "metadata": {},
   "source": [
    "## ４．非線形分離"
   ]
  },
  {
   "cell_type": "markdown",
   "metadata": {},
   "source": [
    "非線形分離とは、線形分離ができないときに、特微空間を写像して、その空間で線形に分離することである。  \n",
    "※詳細な情報(https://qr.paps.jp/6YJj4)"
   ]
  },
  {
   "cell_type": "markdown",
   "metadata": {},
   "source": [
    "## ５．カーネルトリック"
   ]
  },
  {
   "cell_type": "markdown",
   "metadata": {},
   "source": [
    "カーネルトリックとは、ベクトルの内積(カーネル関数)を用いて高次元ベクトルの内積を表現する手法である。  \n",
    "カーネルトリックを用いれば、特徴空間が高次元であっても効率的な計算を行うことができるという特徴がある。  \n",
    "非線形分離では、複雑な問題になると高次元に写像する必要があるため、計算コストが増大するという課題に対処するために、カーネルトリック手法が重宝されている。  \n",
    "※詳細な情報(https://qr.paps.jp/PHg5m)"
   ]
  },
  {
   "cell_type": "markdown",
   "metadata": {},
   "source": [
    "## ６．ラグランジュの未定乗数法  "
   ]
  },
  {
   "cell_type": "markdown",
   "metadata": {},
   "source": [
    "ラグランジュの未定乗数法とは、目的関数の制約付き最適化問題を解くための手法である。  \n",
    "※詳細な情報(https://qr.paps.jp/ZhtQo)"
   ]
  },
  {
   "cell_type": "markdown",
   "metadata": {},
   "source": [
    "## ７．カルーシュ・クーン・タッカー条件"
   ]
  },
  {
   "cell_type": "markdown",
   "metadata": {},
   "source": [
    "カルーシュ・クーン・タッカー条件とは、目的関数の制約付き最適化問題において、最適解が満たすべき条件のことである。  \n",
    "※詳細な情報(https://qr.paps.jp/LBws9)"
   ]
  },
  {
   "cell_type": "markdown",
   "metadata": {},
   "source": [
    "### ※：人口データと分類結果を分類する(サポートベクターマシン(SVM))\n",
    "\n",
    "(設定)  \n",
    "> (1) 人口データが線形分離可能な場合  \n",
    "> (2) 人口データが線形分離不可能な場合  \n",
    "> (3) 人口データが非線形分離な場合  \n",
    "\n",
    "(参照文献)：https://qr.paps.jp/vBqnd"
   ]
  },
  {
   "cell_type": "markdown",
   "metadata": {},
   "source": [
    "### (1) 人口データが線形分離可能な場合 "
   ]
  },
  {
   "cell_type": "markdown",
   "metadata": {},
   "source": [
    "1.1.サンプルデータを生成する"
   ]
  },
  {
   "cell_type": "code",
   "execution_count": 53,
   "metadata": {},
   "outputs": [
    {
     "name": "stdout",
     "output_type": "stream",
     "text": [
      "〇data05_X：データサイズ＆特徴量 (20, 2)\n",
      "〇data05_Y：データサイズ＆特徴量 (20,)\n"
     ]
    },
    {
     "data": {
      "image/png": "[encoded data removed]",
      "text/plain": [
       "<Figure size 432x288 with 1 Axes>"
      ]
     },
     "metadata": {
      "needs_background": "light"
     },
     "output_type": "display_data"
    }
   ],
   "source": [
    "# サンプルデータを作成する(共通)\n",
    "from sklearn.datasets import make_blobs\n",
    "# -----------------------------------------------------------------------------------------------------\n",
    "data05_X_blobs, data05_Y_blobs = make_blobs(n_samples=20, #20個生成する\n",
    "                                            n_features=2, #2次元\n",
    "                                            centers=2, #クラスタの中心を２つ生成する\n",
    "                                            cluster_std=2, #クラスタの大きさ(標準偏差)\n",
    "                                            random_state=3) #乱数種(学習のために設定した)\n",
    "print('〇data05_X：データサイズ＆特徴量', data05_X_blobs.shape)\n",
    "print('〇data05_Y：データサイズ＆特徴量', data05_Y_blobs.shape)\n",
    "# -----------------------------------------------------------------------------------------------------\n",
    "# サンプルデータを描画する\n",
    "# ------------------------------\n",
    "# ライブラリ（まとめ）\n",
    "import matplotlib.pyplot as plt\n",
    "%matplotlib inline\n",
    "plt.set_cmap(plt.cm.Paired)\n",
    "# ------------------------------\n",
    "plt.scatter(data05_X_blobs[:,0], data05_X_blobs[:,1], s=50, c=data05_Y_blobs, marker='o', edgecolors='k')\n",
    "for i, idx, idy in zip(data05_Y_blobs, data05_X_blobs[:,0], data05_X_blobs[:,1]):\n",
    "    plt.annotate(s=i, xy=(idx-0.2, idy+0.4))\n",
    "# -----------------------------------------------------------------------------------------------------"
   ]
  },
  {
   "cell_type": "markdown",
   "metadata": {},
   "source": [
    "1.2.境界線を描く関数"
   ]
  },
  {
   "cell_type": "code",
   "execution_count": 54,
   "metadata": {},
   "outputs": [],
   "source": [
    "def plotBoundary(X, clf, mesh=True, cmap=plt.get_cmap()): #境界線を引く関数の定義\n",
    "    # plot range\n",
    "    x_min = min(X[:,0])\n",
    "    x_max = max(X[:,0])\n",
    "    y_min = min(X[:,1])\n",
    "    y_max = max(X[:,1])\n",
    "    # visualizing decision function\n",
    "    XX, YY = np.mgrid[x_min:x_max:200j, y_min:y_max:200j] # make a grid    \n",
    "    Z = clf.predict(np.c_[XX.ravel(), YY.ravel()]) # evaluate the value     \n",
    "    Z = Z.reshape(XX.shape) # just reshape\n",
    "    if mesh:\n",
    "        plt.pcolormesh(XX, YY, Z, zorder=-10, cmap=cmap)\n",
    "    plt.xlim(x_min, x_max)\n",
    "    plt.ylim(y_min, y_max)\n",
    "# -----------------------------------------------------------------------------------------------------"
   ]
  },
  {
   "cell_type": "markdown",
   "metadata": {},
   "source": [
    "1.3.サポートベクターマシン(SVM)"
   ]
  },
  {
   "cell_type": "code",
   "execution_count": 55,
   "metadata": {},
   "outputs": [
    {
     "data": {
      "image/png": "[encoded data removed]",
      "text/plain": [
       "<Figure size 432x288 with 1 Axes>"
      ]
     },
     "metadata": {
      "needs_background": "light"
     },
     "output_type": "display_data"
    }
   ],
   "source": [
    "# (☆0)ライブラリ（SVC）\n",
    "from sklearn.svm import SVC\n",
    "# -----------------------------------------------------------------------------------------------------\n",
    "# (1)インスタンスを生成する\n",
    "clf_svc = SVC(kernel='linear') #線形モデルを指定する\n",
    "# (2)サンプルデータを基に学習する,fit()\n",
    "clf_svc.fit(data05_X_blobs, data05_Y_blobs)\n",
    "# -----------------------------------------------------------------------------------------------------\n",
    "# (3)学習データを描画する\n",
    "# ------------------------------\n",
    "# ライブラリ（共通）\n",
    "import matplotlib.pyplot as plt\n",
    "plt.set_cmap(plt.cm.Paired)\n",
    "%matplotlib inline\n",
    "# ------------------------------\n",
    "plt.scatter(data05_X_blobs[:,0], data05_X_blobs[:,1], s=50, c=data05_Y_blobs, marker='o', edgecolors='k', label='〇サンプルデータ:data05')\n",
    "plotBoundary(data05_X_blobs, clf_svc) #境界線を描く※引数(data, clf)\n",
    "plt.legend(loc='best')\n",
    "plt.show()  \n",
    "# -----------------------------------------------------------------------------------------------------"
   ]
  },
  {
   "cell_type": "markdown",
   "metadata": {},
   "source": [
    "### (2) 人口データが線形分離が不可能な場合 "
   ]
  },
  {
   "cell_type": "markdown",
   "metadata": {},
   "source": [
    "2.1.サンプルデータを生成する"
   ]
  },
  {
   "cell_type": "code",
   "execution_count": 56,
   "metadata": {},
   "outputs": [
    {
     "name": "stdout",
     "output_type": "stream",
     "text": [
      "〇data08_X：データサイズ＆特徴量 (20, 2)\n",
      "〇data08_Y：データサイズ＆特徴量 (20,)\n"
     ]
    },
    {
     "data": {
      "image/png": "[encoded data removed]",
      "text/plain": [
       "<Figure size 432x288 with 1 Axes>"
      ]
     },
     "metadata": {
      "needs_background": "light"
     },
     "output_type": "display_data"
    }
   ],
   "source": [
    "# サンプルデータを作成する(共通)\n",
    "from sklearn.datasets import make_blobs\n",
    "# -----------------------------------------------------------------------------------------------------\n",
    "data08_X_blobs, data08_Y_blobs = make_blobs(n_samples=20, #20個生成する\n",
    "                                            n_features=2, #2次元\n",
    "                                            centers=2, #クラスタの中心を２つ生成する\n",
    "                                            cluster_std=1, #クラスタの大きさ(標準偏差)\n",
    "                                            random_state=4) #乱数種(学習のために設定した)\n",
    "print('〇data08_X：データサイズ＆特徴量', data08_X_blobs.shape)\n",
    "print('〇data08_Y：データサイズ＆特徴量', data08_Y_blobs.shape)\n",
    "# -----------------------------------------------------------------------------------------------------\n",
    "# サンプルデータを描画する\n",
    "# ------------------------------\n",
    "# ライブラリ（まとめ）\n",
    "import matplotlib.pyplot as plt\n",
    "%matplotlib inline\n",
    "plt.set_cmap(plt.cm.Paired)\n",
    "# ------------------------------\n",
    "plt.scatter(data08_X_blobs[:,0], data08_X_blobs[:,1], s=50, c=data08_Y_blobs, marker='o', edgecolors='k')\n",
    "for i, idx, idy in zip(data08_Y_blobs, data08_X_blobs[:,0], data08_X_blobs[:,1]):\n",
    "    plt.annotate(s=i, xy=(idx-0.2, idy+0.4))\n",
    "# -----------------------------------------------------------------------------------------------------"
   ]
  },
  {
   "cell_type": "markdown",
   "metadata": {},
   "source": [
    "2.2.境界線を描く関数"
   ]
  },
  {
   "cell_type": "code",
   "execution_count": 57,
   "metadata": {},
   "outputs": [],
   "source": [
    "def plotBoundary(X, clf, mesh=True, cmap=plt.get_cmap()): #境界線を引く関数の定義\n",
    "    # plot range\n",
    "    x_min = min(X[:,0])\n",
    "    x_max = max(X[:,0])\n",
    "    y_min = min(X[:,1])\n",
    "    y_max = max(X[:,1])\n",
    "    # visualizing decision function\n",
    "    XX, YY = np.mgrid[x_min:x_max:200j, y_min:y_max:200j] # make a grid    \n",
    "    Z = clf.predict(np.c_[XX.ravel(), YY.ravel()]) # evaluate the value     \n",
    "    Z = Z.reshape(XX.shape) # just reshape\n",
    "    if mesh:\n",
    "        plt.pcolormesh(XX, YY, Z, zorder=-10, cmap=cmap)\n",
    "    plt.xlim(x_min, x_max)\n",
    "    plt.ylim(y_min, y_max)\n",
    "# -----------------------------------------------------------------------------------------------------"
   ]
  },
  {
   "cell_type": "markdown",
   "metadata": {},
   "source": [
    "2.3.サポートベクターマシン(SVM)"
   ]
  },
  {
   "cell_type": "code",
   "execution_count": 58,
   "metadata": {},
   "outputs": [
    {
     "data": {
      "image/png": "[encoded data removed]",
      "text/plain": [
       "<Figure size 432x288 with 1 Axes>"
      ]
     },
     "metadata": {
      "needs_background": "light"
     },
     "output_type": "display_data"
    }
   ],
   "source": [
    "# (☆0)ライブラリ（SVC）\n",
    "from sklearn.svm import SVC\n",
    "# -----------------------------------------------------------------------------------------------------\n",
    "# (1)インスタンスを生成する\n",
    "clf_svc = SVC(kernel='linear') #線形モデルを指定する\n",
    "# (2)サンプルデータを基に学習する,fit()\n",
    "clf_svc.fit(data08_X_blobs, data08_Y_blobs)\n",
    "# -----------------------------------------------------------------------------------------------------\n",
    "# (3)学習データを描画する\n",
    "# ------------------------------\n",
    "# ライブラリ（共通）\n",
    "import matplotlib.pyplot as plt\n",
    "plt.set_cmap(plt.cm.Paired)\n",
    "%matplotlib inline\n",
    "# ------------------------------\n",
    "plt.scatter(data08_X_blobs[:,0], data08_X_blobs[:,1], s=50, c=data08_Y_blobs, marker='o', edgecolors='k', label='〇サンプルデータ:data08')\n",
    "plotBoundary(data08_X_blobs, clf_svc) #境界線を描く※引数(data, clf)\n",
    "plt.legend(loc='best')\n",
    "plt.show()  \n",
    "# -----------------------------------------------------------------------------------------------------"
   ]
  },
  {
   "cell_type": "markdown",
   "metadata": {},
   "source": [
    "### (3) 人口データが非線形分離な場合  "
   ]
  },
  {
   "cell_type": "markdown",
   "metadata": {},
   "source": [
    "3.1.非線形分離を描く関数を生成する"
   ]
  },
  {
   "cell_type": "code",
   "execution_count": 59,
   "metadata": {},
   "outputs": [],
   "source": [
    "def plotSVMBoundary(X, clf, mesh=True, boundary=True):    \n",
    "    # if SVM, draw margine lines\n",
    "    colors = ['k']*3\n",
    "    linestyles = ['-']*3\n",
    "    levels = [-1, 0, 1]\n",
    "    # if SVM, plot support vecters\n",
    "    plt.scatter(clf.support_vectors_[:, 0], \n",
    "                clf.support_vectors_[:, 1],\n",
    "                s=80, facecolors='none', edgecolors='k')    \n",
    "    # plot range\n",
    "    x_min = min(X[:,0])\n",
    "    x_max = max(X[:,0])\n",
    "    y_min = min(X[:,1])\n",
    "    y_max = max(X[:,1])\n",
    "\n",
    "    # visualizing decision function\n",
    "    XX, YY = np.mgrid[x_min:x_max:200j, y_min:y_max:200j] # make a grid\n",
    "    Z = clf.decision_function(np.c_[XX.ravel(), YY.ravel()]) # evaluate the value \n",
    "    Z = Z.reshape(XX.shape) # just reshape\n",
    "\n",
    "    if mesh:\n",
    "        plt.pcolormesh(XX, YY, Z > 0, cmap=plt.cm.Paired, zorder=-10)\n",
    "    if boundary:\n",
    "        plt.contour(XX, YY, Z, \n",
    "                    colors=colors,\n",
    "                    linestyles=linestyles,\n",
    "                    levels=levels) # draw lines (level=0:boundary, level=+-1:margine lines)\n",
    "\n",
    "    plt.xlim(x_min, x_max)\n",
    "    plt.ylim(y_min, y_max)"
   ]
  },
  {
   "cell_type": "markdown",
   "metadata": {},
   "source": [
    "3.2.非線形分離を描く"
   ]
  },
  {
   "cell_type": "code",
   "execution_count": 60,
   "metadata": {},
   "outputs": [
    {
     "data": {
      "image/png": "[encoded data removed]",
      "text/plain": [
       "<Figure size 432x288 with 1 Axes>"
      ]
     },
     "metadata": {
      "needs_background": "light"
     },
     "output_type": "display_data"
    },
    {
     "data": {
      "image/png": "[encoded data removed]",
      "text/plain": [
       "<Figure size 432x288 with 1 Axes>"
      ]
     },
     "metadata": {
      "needs_background": "light"
     },
     "output_type": "display_data"
    },
    {
     "data": {
      "image/png": "[encoded data removed]",
      "text/plain": [
       "<Figure size 432x288 with 1 Axes>"
      ]
     },
     "metadata": {
      "needs_background": "light"
     },
     "output_type": "display_data"
    },
    {
     "data": {
      "image/png": "[encoded data removed]",
      "text/plain": [
       "<Figure size 432x288 with 1 Axes>"
      ]
     },
     "metadata": {
      "needs_background": "light"
     },
     "output_type": "display_data"
    }
   ],
   "source": [
    "# ---------------------------------------------------------------------------------------------------------------------\n",
    "# (☆0)ライブラリ（SVC）\n",
    "from sklearn.svm import SVC\n",
    "\n",
    "# (1)インスタンスを生成する\n",
    "clf_svc = SVC() #線形モデルを指定する\n",
    "# ---------------------------------------------------------------------------------------------------------------------\n",
    "for rs_random_state in [3,8,7,4]:\n",
    "    data09_X_blobs, data09_Y_blobs = make_blobs(n_samples=20, #20個生成する\n",
    "                                                n_features=2, #2次元\n",
    "                                                centers=2, #クラスタの中心を2個生成する\n",
    "                                                cluster_std =1, #クラスタの大きさ(標準偏差)\n",
    "                                                random_state=rs_random_state) #乱数種(学習のとき再現するために設定した)\n",
    "    \n",
    "    clf_svc.kernel = 'rbf' #☆デフォルト値☆非線形カーネル\n",
    "\n",
    "    clf_svc.fit(data09_X_blobs, data09_Y_blobs) #サンプルデータを基に学習する\n",
    "    plotSVMBoundary(data09_X_blobs, clf_svc, mesh=True) #境界線を描く\n",
    "    plt.scatter(data09_X_blobs[:, 0], data09_X_blobs[:, 1], marker='o', s=50, c=data09_Y_blobs, edgecolors='k')    \n",
    "    plt.show()\n",
    "# ---------------------------------------------------------------------------------------------------------------------"
   ]
  }
 ],
 "metadata": {
  "kernelspec": {
   "display_name": "Python 3",
   "language": "python",
   "name": "python3"
  },
  "language_info": {
   "codemirror_mode": {
    "name": "ipython",
    "version": 3
   },
   "file_extension": ".py",
   "mimetype": "text/x-python",
   "name": "python",
   "nbconvert_exporter": "python",
   "pygments_lexer": "ipython3",
   "version": "3.7.4"
  }
 },
 "nbformat": 4,
 "nbformat_minor": 4
}
