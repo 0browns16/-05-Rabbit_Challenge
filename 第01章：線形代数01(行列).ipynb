{
 "cells": [
  {
   "cell_type": "markdown",
   "metadata": {},
   "source": [
    "## １．行列について"
   ]
  },
  {
   "cell_type": "markdown",
   "metadata": {},
   "source": [
    "### 1.1．行列(matrix)  \n",
    "線形代数における行列(matrix)とは、M行N列の行列の係数を取り出して長方形の形に並べたものである。  \n",
    "\n",
    "・M行N列の行列\n",
    "\\begin{pmatrix} \n",
    "a_{11} & a_{12} & \\ldots & a_{1n} \\\\ \n",
    "a_{21} & a_{22} & \\ldots & a_{2n} \\\\ \n",
    "\\vdots & \\vdots & \\ddots & \\vdots \\\\\n",
    "a_{m1} & a_{m2} & \\ldots & a_{mn} \\end{pmatrix}\n",
    "\n",
    "(例題)：行列を表現する  \n",
    "> 1.2.1．サンプルデータ(連立１次方程式)を用意する\n",
    "\\begin{pmatrix} \n",
    "3x-y \\\\\n",
    "x+2y \\end{pmatrix}\n",
    "> 1.2.2．係数を取り出して長方形の形に並べる\n",
    "\\begin{pmatrix} \n",
    "3 & -1 \\\\\n",
    "1 & 2\\end{pmatrix}  \n",
    "\n",
    "＜用語＞  \n",
    "・スカラー(scalar)：普通の数 ※(スカラー倍：ベクトル(vector)に数字を掛けること)  \n",
    "・ベクトル(vector)：'向き'と'大きさ'を持った情報のこと"
   ]
  },
  {
   "cell_type": "code",
   "execution_count": null,
   "metadata": {},
   "outputs": [],
   "source": []
  },
  {
   "cell_type": "code",
   "execution_count": null,
   "metadata": {},
   "outputs": [],
   "source": []
  },
  {
   "cell_type": "code",
   "execution_count": null,
   "metadata": {},
   "outputs": [],
   "source": []
  },
  {
   "cell_type": "markdown",
   "metadata": {},
   "source": [
    "## ２．単位行列について"
   ]
  },
  {
   "cell_type": "markdown",
   "metadata": {},
   "source": [
    "### 2.1．単位行列$I$(Identity matrix)  \n",
    "単位行列とは、どんな正方行列Aに掛けても行列を変えない行列$E$のことである。  \n",
    "\n",
    "* $AE = EA = A$  \n",
    "> A：任意の正方行列  \n",
    "> E：単位行列 \n",
    "\n",
    "正方行列の単位行列$E$は下記のように対角線上に'1'が並ぶという特徴がある。  \n",
    "\\begin{pmatrix}\n",
    "1 & 0 & \\ldots & 0 \\\\\n",
    "0 & 1 & \\ldots & 0 \\\\\n",
    "\\vdots & \\vdots & \\ddots & \\vdots \\\\ \n",
    "0 & 0 & \\ldots & 1 \\end{pmatrix}\n"
   ]
  },
  {
   "cell_type": "code",
   "execution_count": null,
   "metadata": {},
   "outputs": [],
   "source": []
  },
  {
   "cell_type": "code",
   "execution_count": null,
   "metadata": {},
   "outputs": [],
   "source": []
  },
  {
   "cell_type": "code",
   "execution_count": null,
   "metadata": {},
   "outputs": [],
   "source": []
  },
  {
   "cell_type": "markdown",
   "metadata": {},
   "source": [
    "## ３．逆行列について"
   ]
  },
  {
   "cell_type": "markdown",
   "metadata": {},
   "source": [
    "### 3.1．逆行列$A^{-1}$(Inverse matrix)  \n",
    "逆行列とは、行列との積をとって単位行列となる行列である。逆行列は、行列において逆数のような働きをするため、逆行列を計算しておくと連立１次方程式を解くことができる。\n",
    "* $AA^{-1} = A^{-1}A = I$\n",
    ">  A：もとの行列A  \n",
    ">  $A^{-1}$ : もとの行列Aの逆行列  \n",
    ">  I：単位行列  \n",
    "\n",
    "\n",
    "### 3.2．逆行列を求め方  \n",
    "> ### 3.2.1．２×２行列の場合\n",
    "$$A = \\left[\\begin{array}{ccc}\n",
    "      a & c \\\\\n",
    "      b & d \\\\\\end{array}\\right]$$  \n",
    "\n",
    ">> #### ※行列$A$における逆行列$A^{-1}$を求める公式  \n",
    "* $ad - bc ≒ 0$ の場合、  \n",
    "$$A^{-1} = \\frac{1}{ad -bc} \\left[\\begin{array}{ccc}\n",
    "            d & -c \\\\\n",
    "            -b & a \\\\\\end{array}\\right]$$  \n",
    "\n",
    ">> * $ad - bc = 0$ の場合、逆行列$A^{-1}$は存在しない  \n",
    "\n",
    "\n",
    "> ### 3.2.2．３×３行列の場合(掃き出し法)  \n",
    "> 掃き出し法とは、行基本変形を用いて対角線上に\"１\"が並ぶように変形していく消去法のことである。\n",
    ">> ##### 3.2.2.1．サンプルデータ(３×３行列A)を用意する\n",
    "$$ A = \\left[\\begin{array}{cc}\n",
    "       2 & 1 & -1 \\\\\n",
    "       1 & -1 & 0 \\\\\n",
    "       0 & 2 & -1 \\end{array}\\right] $$  \n",
    ">> ##### 3.2.2.2．単位行列Eを用意する\n",
    "$$ E = \\left[\\begin{array}{cc}\n",
    "       1 & 0 & 0 \\\\\n",
    "       0 & 1 & 0 \\\\\n",
    "       0 & 0 & 1 \\end{array}\\right] $$  \n",
    ">> ##### 3.2.2.3．サンプルデータ(３×３行列A)の右側に単位行列Eを書き並べる\n",
    "\\begin{pmatrix} \n",
    "\\begin{array}{ccc|ccc} 2 & 1 & -1 & 1 & 0 & 0\\\\ 1 & -1 & 0 & 0 & 1 & 0\\\\ 0 & 2 & -1 & 0 & 0 & 1 \\end{array} \n",
    "\\end{pmatrix}  \n",
    ">> ##### 3.2.2.4．行基本変形を用いて左側の３×３の箇所を単位行列になるように計算すると、右側の行列に逆行列が求められる。\n",
    "\\begin{pmatrix} \n",
    "\\begin{array}{ccc|ccc} 1 & 0 & 0 & 1 & -1 & -1\\\\ 0 & 1 & 0 & 1 & -2 & -1\\\\ 0 & 0 & 1 & 2 & -4 & -3 \\end{array} \n",
    "\\end{pmatrix}\n",
    "\n",
    "＜行基本変形の手順＞  \n",
    "(1)行と行を入れ替える  \n",
    "(2)1つの行をC倍する  \n",
    "(3)1つの行のC倍を他の行に足す  \n",
    "\n",
    "＜要約＞  \n",
    "行列$A$に逆行列$A^{-1}$が存在する場合、行列$A$は正則である。  \n",
    "行列$A$に逆行列$A^{-1}$が存在しない場合、行列$A$は正則ではない。\n"
   ]
  },
  {
   "cell_type": "code",
   "execution_count": null,
   "metadata": {},
   "outputs": [],
   "source": []
  },
  {
   "cell_type": "code",
   "execution_count": null,
   "metadata": {},
   "outputs": [],
   "source": []
  },
  {
   "cell_type": "code",
   "execution_count": null,
   "metadata": {},
   "outputs": [],
   "source": []
  },
  {
   "cell_type": "markdown",
   "metadata": {},
   "source": [
    "## ４．行列式について"
   ]
  },
  {
   "cell_type": "markdown",
   "metadata": {},
   "source": [
    "### 4.1．行列式$\\begin{vmatrix}A\\end{vmatrix}$(determinant)\n",
    "行列式とは、行列に逆行列が存在するのかどうかを判断する公式である。  \n",
    "・２行２列の行列式\n",
    "> $$ \\begin{vmatrix}A\\end{vmatrix} = \\begin{vmatrix} a & b \\\\ c & d \\end{vmatrix} $$  \n",
    "\n",
    "・３行３列の行列式\n",
    "> $$ \\begin{vmatrix}A\\end{vmatrix} = \\begin{vmatrix} a_{11} & a_{12} & a_{13}\\\\\n",
    "                                                   a_{21} & a_{22} & a_{23}\\\\\n",
    "                                                   a_{31} & a_{32} & a_{33}\\end{vmatrix} $$  \n",
    "\n",
    "### 4.2．行列式の求め方  \n",
    "・２行２列の行列式  \n",
    "> $$ \\begin{vmatrix}A\\end{vmatrix} = \\begin{vmatrix} a & b \\\\ c & d \\end{vmatrix} = ad - bc $$  \n",
    "\n",
    "・３行３列の行列式(サラスの公式)  \n",
    "> $$ \\begin{vmatrix}P\\end{vmatrix} = \\begin{vmatrix} A & x & a\\\\ B & y & b\\\\ C & z & c \\end{vmatrix} = Ayc + Bza + Cxb - Azb - Bxc - Cya $$\n"
   ]
  },
  {
   "cell_type": "code",
   "execution_count": null,
   "metadata": {},
   "outputs": [],
   "source": []
  },
  {
   "cell_type": "code",
   "execution_count": null,
   "metadata": {},
   "outputs": [],
   "source": []
  },
  {
   "cell_type": "code",
   "execution_count": null,
   "metadata": {},
   "outputs": [],
   "source": []
  },
  {
   "cell_type": "markdown",
   "metadata": {},
   "source": [
    "(メモ)"
   ]
  },
  {
   "cell_type": "markdown",
   "metadata": {},
   "source": [
    "$$\n",
    "A^{-1} = \\frac{1}{ad -bc} \\left[\\begin{array}{ccc}\n",
    "    a & c \\\\\n",
    "    b & d \\\\\\end{array}\\right]\n",
    "$$"
   ]
  },
  {
   "cell_type": "markdown",
   "metadata": {},
   "source": [
    "$$ A = \\left[\\begin{array}{cc}\n",
    "       2 & 1 & -1 \\\\\n",
    "       1 & -1 & 0 \\\\\n",
    "       0 & 2 & -1 \\end{array}\\right] $$  "
   ]
  },
  {
   "cell_type": "markdown",
   "metadata": {},
   "source": [
    "\\begin{pmatrix} \n",
    "\\begin{array}{ccc|ccc} 2 & 1 & -1 & 1 & 0 & 0\\\\ 1 & -1 & 0 & 0 & 1 & 0\\\\ 0 & 2 & -1 & 0 & 0 & 1 \\end{array} \n",
    "\\end{pmatrix}"
   ]
  },
  {
   "cell_type": "markdown",
   "metadata": {},
   "source": [
    "\\begin{pmatrix} \n",
    "\\begin{array}{ccc|ccc} 1 & 0 & 0 & 1 & -1 & -1\\\\ 0 & 1 & 0 & 1 & -2 & -1\\\\ 0 & 0 & 1 & 2 & -4 & -3 \\end{array} \n",
    "\\end{pmatrix}"
   ]
  },
  {
   "cell_type": "markdown",
   "metadata": {},
   "source": [
    "$$ \\begin{vmatrix}A\\end{vmatrix} = \\begin{vmatrix} a & b \\\\ c & d \\end{vmatrix} = ad - bc $$"
   ]
  },
  {
   "cell_type": "markdown",
   "metadata": {},
   "source": [
    "$$ \\begin{vmatrix}A\\end{vmatrix} = \\begin{vmatrix} a_{11} & a_{12} & a_{13}\\\\\n",
    "                                                   a_{21} & a_{22} & a_{23}\\\\\n",
    "                                                   a_{31} & a_{32} & a_{33}\\end{vmatrix} $$"
   ]
  },
  {
   "cell_type": "markdown",
   "metadata": {},
   "source": [
    "$$ \\begin{vmatrix}P\\end{vmatrix} = \\begin{vmatrix} A & x & a\\\\ B & y & b\\\\ C & z & c \\end{vmatrix} = Ayc + Bza + Cxb - Azb - Bxc - Cya $$"
   ]
  }
 ],
 "metadata": {
  "kernelspec": {
   "display_name": "Python 3",
   "language": "python",
   "name": "python3"
  },
  "language_info": {
   "codemirror_mode": {
    "name": "ipython",
    "version": 3
   },
   "file_extension": ".py",
   "mimetype": "text/x-python",
   "name": "python",
   "nbconvert_exporter": "python",
   "pygments_lexer": "ipython3",
   "version": "3.7.4"
  }
 },
 "nbformat": 4,
 "nbformat_minor": 4
}
